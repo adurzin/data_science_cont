{
 "cells": [
  {
   "cell_type": "code",
   "execution_count": 624,
   "id": "4f2be4e9",
   "metadata": {},
   "outputs": [],
   "source": [
    "import pandas as pd\n",
    "import numpy as np\n",
    "import pickle\n",
    "import random\n",
    "\n",
    "from sklearn.preprocessing import StandardScaler, MinMaxScaler\n",
    "from sklearn.model_selection import train_test_split, ShuffleSplit, cross_val_score, learning_curve\n",
    "from sklearn.model_selection import KFold, GridSearchCV, RandomizedSearchCV\n",
    "from sklearn.metrics import classification_report, f1_score, precision_score, recall_score\n",
    "\n",
    "from sklearn.linear_model import LogisticRegression\n",
    "from sklearn.neighbors import KNeighborsClassifier\n",
    "import xgboost as xgb, lightgbm as lgbm, catboost as catb\n",
    "\n",
    "import seaborn as sns\n",
    "from matplotlib import pyplot as plt\n",
    "%matplotlib inline\n",
    "\n",
    "import warnings\n",
    "warnings.simplefilter('ignore')"
   ]
  },
  {
   "cell_type": "code",
   "execution_count": 625,
   "id": "de6b7284",
   "metadata": {},
   "outputs": [],
   "source": [
    "def get_classification_report(y_train_true, y_train_pred, y_test_true, y_test_pred):\n",
    "    print('TRAIN\\n\\n' + classification_report(y_train_true, y_train_pred))\n",
    "    print('TEST\\n\\n' + classification_report(y_test_true, y_test_pred))\n",
    "    print('CONFUSION MATRIX\\n')\n",
    "    print(pd.crosstab(y_test_true, y_test_pred))"
   ]
  },
  {
   "cell_type": "code",
   "execution_count": 626,
   "id": "5dd48fef",
   "metadata": {},
   "outputs": [],
   "source": [
    "def balance_df_by_target(df, target_name):\n",
    "\n",
    "    target_counts = df[target_name].value_counts()\n",
    "\n",
    "    major_class_name = target_counts.argmax()\n",
    "    minor_class_name = target_counts.argmin()\n",
    "\n",
    "    disbalance_coeff = int(target_counts[major_class_name] / target_counts[minor_class_name]) - 1\n",
    "\n",
    "    for i in range(disbalance_coeff):\n",
    "        sample = df[df[target_name] == minor_class_name].sample(target_counts[minor_class_name])\n",
    "        df = df.append(sample, ignore_index=True)\n",
    "\n",
    "    return df.sample(frac=1) "
   ]
  },
  {
   "cell_type": "markdown",
   "id": "3481950b",
   "metadata": {},
   "source": [
    "### Описание датасета"
   ]
  },
  {
   "cell_type": "markdown",
   "id": "9463706c",
   "metadata": {},
   "source": [
    "* **Home Ownership** - домовладение\n",
    "* **Annual Income** - годовой доход\n",
    "* **Years in current job** - количество лет на текущем месте работы\n",
    "* **Tax Liens** - налоговые обременения\n",
    "* **Number of Open Accounts** - количество открытых счетов\n",
    "* **Years of Credit History** - количество лет кредитной истории\n",
    "* **Maximum Open Credit** - наибольший открытый кредит\n",
    "* **Number of Credit Problems** - количество проблем с кредитом\n",
    "* **Months since last delinquent** - количество месяцев с последней просрочки платежа\n",
    "* **Bankruptcies** - банкротства\n",
    "* **Purpose** - цель кредита\n",
    "* **Term** - срок кредита\n",
    "* **Current Loan Amount** - текущая сумма кредита\n",
    "* **Current Credit Balance** - текущий кредитный баланс\n",
    "* **Monthly Debt** - ежемесячный долг\n",
    "* **Credit Default** - факт невыполнения кредитных обязательств (0 - погашен вовремя, 1 - просрочка)"
   ]
  },
  {
   "cell_type": "markdown",
   "id": "39c06503",
   "metadata": {},
   "source": [
    "**Пути к директориям и файлам**"
   ]
  },
  {
   "cell_type": "code",
   "execution_count": 627,
   "id": "76173715",
   "metadata": {},
   "outputs": [],
   "source": [
    "TRAIN_DATASET_PATH = './course_project_train.csv'\n",
    "TEST_DATASET_PATH = './course_project_test.csv'"
   ]
  },
  {
   "cell_type": "markdown",
   "id": "6754e0d3",
   "metadata": {},
   "source": [
    "**Загрузка данных**"
   ]
  },
  {
   "cell_type": "code",
   "execution_count": 628,
   "id": "13b86ce2",
   "metadata": {},
   "outputs": [
    {
     "data": {
      "text/plain": [
       "((7500, 17), (2500, 16))"
      ]
     },
     "execution_count": 628,
     "metadata": {},
     "output_type": "execute_result"
    }
   ],
   "source": [
    "df = pd.read_csv(TRAIN_DATASET_PATH)\n",
    "\n",
    "df_test = pd.read_csv(TEST_DATASET_PATH)\n",
    "\n",
    "df.shape, df_test.shape"
   ]
  },
  {
   "cell_type": "markdown",
   "id": "ae43666d",
   "metadata": {},
   "source": [
    "\n",
    "\n",
    "\n",
    "\n",
    "# Уменьшение объема памяти датасета"
   ]
  },
  {
   "cell_type": "code",
   "execution_count": 629,
   "id": "84b07e48",
   "metadata": {},
   "outputs": [],
   "source": [
    "def reduce_mem_usage(df):\n",
    "    start_mem = df.memory_usage().sum() / 1024**2\n",
    "    print('Memory usage of dataframe is {:.2f} MB'.format(start_mem))\n",
    "    \n",
    "    for col in df.columns:\n",
    "        col_type = df[col].dtype\n",
    "        \n",
    "        if col_type != object:\n",
    "            c_min = df[col].min()\n",
    "            c_max = df[col].max()\n",
    "            if str(col_type)[:3] == 'int':\n",
    "                if c_min > np.iinfo(np.int8).min and c_max < np.iinfo(np.int8).max:\n",
    "                    df[col] = df[col].astype(np.int8)\n",
    "                elif c_min > np.iinfo(np.int16).min and c_max < np.iinfo(np.int16).max:\n",
    "                    df[col] = df[col]. astype(np.int16)\n",
    "                elif c_min > np.iinfo(np.int32).min and c_max < np.iinfo(np.int32).max:\n",
    "                    df[col] = df[col].astype(np.int32)\n",
    "                elif c_min > np.iinfo(np.int64).min and c_max < np.iinfo(np.int64).max:\n",
    "                    df[col] = df[col].astype(np.int64)\n",
    "                       \n",
    "            else:\n",
    "                if c_min > np.finfo(np.float32).min and c_max < np.finfo(np.float32).max:\n",
    "                       df[col] = df[col].astype(np.float32)\n",
    "                else:\n",
    "                       df[col] = df[col].astype(np.float64)\n",
    "\n",
    "    \n",
    "    end_mem = df.memory_usage().sum() / 1024**2\n",
    "    print('Memory usage after optimization is: {:.2f} MB'.format(end_mem))\n",
    "    print('Decreased by {:1f}%'.format(100 * (start_mem - end_mem) / start_mem))\n",
    "                       \n",
    "    return df"
   ]
  },
  {
   "cell_type": "code",
   "execution_count": 630,
   "id": "faccf961",
   "metadata": {},
   "outputs": [
    {
     "name": "stdout",
     "output_type": "stream",
     "text": [
      "Memory usage of dataframe is 0.97 MB\n",
      "Memory usage after optimization is: 0.58 MB\n",
      "Decreased by 40.436102%\n"
     ]
    },
    {
     "data": {
      "text/html": [
       "<div>\n",
       "<style scoped>\n",
       "    .dataframe tbody tr th:only-of-type {\n",
       "        vertical-align: middle;\n",
       "    }\n",
       "\n",
       "    .dataframe tbody tr th {\n",
       "        vertical-align: top;\n",
       "    }\n",
       "\n",
       "    .dataframe thead th {\n",
       "        text-align: right;\n",
       "    }\n",
       "</style>\n",
       "<table border=\"1\" class=\"dataframe\">\n",
       "  <thead>\n",
       "    <tr style=\"text-align: right;\">\n",
       "      <th></th>\n",
       "      <th>Home Ownership</th>\n",
       "      <th>Annual Income</th>\n",
       "      <th>Years in current job</th>\n",
       "      <th>Tax Liens</th>\n",
       "      <th>Number of Open Accounts</th>\n",
       "      <th>Years of Credit History</th>\n",
       "      <th>Maximum Open Credit</th>\n",
       "      <th>Number of Credit Problems</th>\n",
       "      <th>Months since last delinquent</th>\n",
       "      <th>Bankruptcies</th>\n",
       "      <th>Purpose</th>\n",
       "      <th>Term</th>\n",
       "      <th>Current Loan Amount</th>\n",
       "      <th>Current Credit Balance</th>\n",
       "      <th>Monthly Debt</th>\n",
       "      <th>Credit Score</th>\n",
       "      <th>Credit Default</th>\n",
       "    </tr>\n",
       "  </thead>\n",
       "  <tbody>\n",
       "    <tr>\n",
       "      <th>0</th>\n",
       "      <td>Own Home</td>\n",
       "      <td>482087.0</td>\n",
       "      <td>NaN</td>\n",
       "      <td>0.0</td>\n",
       "      <td>11.0</td>\n",
       "      <td>26.299999</td>\n",
       "      <td>685960.0</td>\n",
       "      <td>1.0</td>\n",
       "      <td>NaN</td>\n",
       "      <td>1.0</td>\n",
       "      <td>debt consolidation</td>\n",
       "      <td>Short Term</td>\n",
       "      <td>100000000.0</td>\n",
       "      <td>47386.0</td>\n",
       "      <td>7914.0</td>\n",
       "      <td>749.0</td>\n",
       "      <td>0</td>\n",
       "    </tr>\n",
       "    <tr>\n",
       "      <th>1</th>\n",
       "      <td>Own Home</td>\n",
       "      <td>1025487.0</td>\n",
       "      <td>10+ years</td>\n",
       "      <td>0.0</td>\n",
       "      <td>15.0</td>\n",
       "      <td>15.300000</td>\n",
       "      <td>1181730.0</td>\n",
       "      <td>0.0</td>\n",
       "      <td>NaN</td>\n",
       "      <td>0.0</td>\n",
       "      <td>debt consolidation</td>\n",
       "      <td>Long Term</td>\n",
       "      <td>264968.0</td>\n",
       "      <td>394972.0</td>\n",
       "      <td>18373.0</td>\n",
       "      <td>737.0</td>\n",
       "      <td>1</td>\n",
       "    </tr>\n",
       "    <tr>\n",
       "      <th>2</th>\n",
       "      <td>Home Mortgage</td>\n",
       "      <td>751412.0</td>\n",
       "      <td>8 years</td>\n",
       "      <td>0.0</td>\n",
       "      <td>11.0</td>\n",
       "      <td>35.000000</td>\n",
       "      <td>1182434.0</td>\n",
       "      <td>0.0</td>\n",
       "      <td>NaN</td>\n",
       "      <td>0.0</td>\n",
       "      <td>debt consolidation</td>\n",
       "      <td>Short Term</td>\n",
       "      <td>100000000.0</td>\n",
       "      <td>308389.0</td>\n",
       "      <td>13651.0</td>\n",
       "      <td>742.0</td>\n",
       "      <td>0</td>\n",
       "    </tr>\n",
       "    <tr>\n",
       "      <th>3</th>\n",
       "      <td>Own Home</td>\n",
       "      <td>805068.0</td>\n",
       "      <td>6 years</td>\n",
       "      <td>0.0</td>\n",
       "      <td>8.0</td>\n",
       "      <td>22.500000</td>\n",
       "      <td>147400.0</td>\n",
       "      <td>1.0</td>\n",
       "      <td>NaN</td>\n",
       "      <td>1.0</td>\n",
       "      <td>debt consolidation</td>\n",
       "      <td>Short Term</td>\n",
       "      <td>121396.0</td>\n",
       "      <td>95855.0</td>\n",
       "      <td>11338.0</td>\n",
       "      <td>694.0</td>\n",
       "      <td>0</td>\n",
       "    </tr>\n",
       "    <tr>\n",
       "      <th>4</th>\n",
       "      <td>Rent</td>\n",
       "      <td>776264.0</td>\n",
       "      <td>8 years</td>\n",
       "      <td>0.0</td>\n",
       "      <td>13.0</td>\n",
       "      <td>13.600000</td>\n",
       "      <td>385836.0</td>\n",
       "      <td>1.0</td>\n",
       "      <td>NaN</td>\n",
       "      <td>0.0</td>\n",
       "      <td>debt consolidation</td>\n",
       "      <td>Short Term</td>\n",
       "      <td>125840.0</td>\n",
       "      <td>93309.0</td>\n",
       "      <td>7180.0</td>\n",
       "      <td>719.0</td>\n",
       "      <td>0</td>\n",
       "    </tr>\n",
       "    <tr>\n",
       "      <th>...</th>\n",
       "      <td>...</td>\n",
       "      <td>...</td>\n",
       "      <td>...</td>\n",
       "      <td>...</td>\n",
       "      <td>...</td>\n",
       "      <td>...</td>\n",
       "      <td>...</td>\n",
       "      <td>...</td>\n",
       "      <td>...</td>\n",
       "      <td>...</td>\n",
       "      <td>...</td>\n",
       "      <td>...</td>\n",
       "      <td>...</td>\n",
       "      <td>...</td>\n",
       "      <td>...</td>\n",
       "      <td>...</td>\n",
       "      <td>...</td>\n",
       "    </tr>\n",
       "    <tr>\n",
       "      <th>7495</th>\n",
       "      <td>Rent</td>\n",
       "      <td>402192.0</td>\n",
       "      <td>&lt; 1 year</td>\n",
       "      <td>0.0</td>\n",
       "      <td>3.0</td>\n",
       "      <td>8.500000</td>\n",
       "      <td>107866.0</td>\n",
       "      <td>0.0</td>\n",
       "      <td>NaN</td>\n",
       "      <td>0.0</td>\n",
       "      <td>other</td>\n",
       "      <td>Short Term</td>\n",
       "      <td>129360.0</td>\n",
       "      <td>73492.0</td>\n",
       "      <td>1900.0</td>\n",
       "      <td>697.0</td>\n",
       "      <td>0</td>\n",
       "    </tr>\n",
       "    <tr>\n",
       "      <th>7496</th>\n",
       "      <td>Home Mortgage</td>\n",
       "      <td>1533984.0</td>\n",
       "      <td>1 year</td>\n",
       "      <td>0.0</td>\n",
       "      <td>10.0</td>\n",
       "      <td>26.500000</td>\n",
       "      <td>686312.0</td>\n",
       "      <td>0.0</td>\n",
       "      <td>43.0</td>\n",
       "      <td>0.0</td>\n",
       "      <td>debt consolidation</td>\n",
       "      <td>Long Term</td>\n",
       "      <td>444048.0</td>\n",
       "      <td>456399.0</td>\n",
       "      <td>12783.0</td>\n",
       "      <td>7410.0</td>\n",
       "      <td>1</td>\n",
       "    </tr>\n",
       "    <tr>\n",
       "      <th>7497</th>\n",
       "      <td>Rent</td>\n",
       "      <td>1878910.0</td>\n",
       "      <td>6 years</td>\n",
       "      <td>0.0</td>\n",
       "      <td>12.0</td>\n",
       "      <td>32.099998</td>\n",
       "      <td>1778920.0</td>\n",
       "      <td>0.0</td>\n",
       "      <td>NaN</td>\n",
       "      <td>0.0</td>\n",
       "      <td>buy a car</td>\n",
       "      <td>Short Term</td>\n",
       "      <td>100000000.0</td>\n",
       "      <td>477812.0</td>\n",
       "      <td>12479.0</td>\n",
       "      <td>748.0</td>\n",
       "      <td>0</td>\n",
       "    </tr>\n",
       "    <tr>\n",
       "      <th>7498</th>\n",
       "      <td>Home Mortgage</td>\n",
       "      <td>NaN</td>\n",
       "      <td>NaN</td>\n",
       "      <td>0.0</td>\n",
       "      <td>21.0</td>\n",
       "      <td>26.500000</td>\n",
       "      <td>1141250.0</td>\n",
       "      <td>0.0</td>\n",
       "      <td>NaN</td>\n",
       "      <td>0.0</td>\n",
       "      <td>debt consolidation</td>\n",
       "      <td>Short Term</td>\n",
       "      <td>615274.0</td>\n",
       "      <td>476064.0</td>\n",
       "      <td>37118.0</td>\n",
       "      <td>NaN</td>\n",
       "      <td>0</td>\n",
       "    </tr>\n",
       "    <tr>\n",
       "      <th>7499</th>\n",
       "      <td>Rent</td>\n",
       "      <td>NaN</td>\n",
       "      <td>4 years</td>\n",
       "      <td>0.0</td>\n",
       "      <td>8.0</td>\n",
       "      <td>9.400000</td>\n",
       "      <td>480832.0</td>\n",
       "      <td>0.0</td>\n",
       "      <td>NaN</td>\n",
       "      <td>0.0</td>\n",
       "      <td>debt consolidation</td>\n",
       "      <td>Short Term</td>\n",
       "      <td>26928.0</td>\n",
       "      <td>288192.0</td>\n",
       "      <td>9061.0</td>\n",
       "      <td>NaN</td>\n",
       "      <td>0</td>\n",
       "    </tr>\n",
       "  </tbody>\n",
       "</table>\n",
       "<p>7500 rows × 17 columns</p>\n",
       "</div>"
      ],
      "text/plain": [
       "     Home Ownership  Annual Income Years in current job  Tax Liens  \\\n",
       "0          Own Home       482087.0                  NaN        0.0   \n",
       "1          Own Home      1025487.0            10+ years        0.0   \n",
       "2     Home Mortgage       751412.0              8 years        0.0   \n",
       "3          Own Home       805068.0              6 years        0.0   \n",
       "4              Rent       776264.0              8 years        0.0   \n",
       "...             ...            ...                  ...        ...   \n",
       "7495           Rent       402192.0             < 1 year        0.0   \n",
       "7496  Home Mortgage      1533984.0               1 year        0.0   \n",
       "7497           Rent      1878910.0              6 years        0.0   \n",
       "7498  Home Mortgage            NaN                  NaN        0.0   \n",
       "7499           Rent            NaN              4 years        0.0   \n",
       "\n",
       "      Number of Open Accounts  Years of Credit History  Maximum Open Credit  \\\n",
       "0                        11.0                26.299999             685960.0   \n",
       "1                        15.0                15.300000            1181730.0   \n",
       "2                        11.0                35.000000            1182434.0   \n",
       "3                         8.0                22.500000             147400.0   \n",
       "4                        13.0                13.600000             385836.0   \n",
       "...                       ...                      ...                  ...   \n",
       "7495                      3.0                 8.500000             107866.0   \n",
       "7496                     10.0                26.500000             686312.0   \n",
       "7497                     12.0                32.099998            1778920.0   \n",
       "7498                     21.0                26.500000            1141250.0   \n",
       "7499                      8.0                 9.400000             480832.0   \n",
       "\n",
       "      Number of Credit Problems  Months since last delinquent  Bankruptcies  \\\n",
       "0                           1.0                           NaN           1.0   \n",
       "1                           0.0                           NaN           0.0   \n",
       "2                           0.0                           NaN           0.0   \n",
       "3                           1.0                           NaN           1.0   \n",
       "4                           1.0                           NaN           0.0   \n",
       "...                         ...                           ...           ...   \n",
       "7495                        0.0                           NaN           0.0   \n",
       "7496                        0.0                          43.0           0.0   \n",
       "7497                        0.0                           NaN           0.0   \n",
       "7498                        0.0                           NaN           0.0   \n",
       "7499                        0.0                           NaN           0.0   \n",
       "\n",
       "                 Purpose        Term  Current Loan Amount  \\\n",
       "0     debt consolidation  Short Term          100000000.0   \n",
       "1     debt consolidation   Long Term             264968.0   \n",
       "2     debt consolidation  Short Term          100000000.0   \n",
       "3     debt consolidation  Short Term             121396.0   \n",
       "4     debt consolidation  Short Term             125840.0   \n",
       "...                  ...         ...                  ...   \n",
       "7495               other  Short Term             129360.0   \n",
       "7496  debt consolidation   Long Term             444048.0   \n",
       "7497           buy a car  Short Term          100000000.0   \n",
       "7498  debt consolidation  Short Term             615274.0   \n",
       "7499  debt consolidation  Short Term              26928.0   \n",
       "\n",
       "      Current Credit Balance  Monthly Debt  Credit Score  Credit Default  \n",
       "0                    47386.0        7914.0         749.0               0  \n",
       "1                   394972.0       18373.0         737.0               1  \n",
       "2                   308389.0       13651.0         742.0               0  \n",
       "3                    95855.0       11338.0         694.0               0  \n",
       "4                    93309.0        7180.0         719.0               0  \n",
       "...                      ...           ...           ...             ...  \n",
       "7495                 73492.0        1900.0         697.0               0  \n",
       "7496                456399.0       12783.0        7410.0               1  \n",
       "7497                477812.0       12479.0         748.0               0  \n",
       "7498                476064.0       37118.0           NaN               0  \n",
       "7499                288192.0        9061.0           NaN               0  \n",
       "\n",
       "[7500 rows x 17 columns]"
      ]
     },
     "execution_count": 630,
     "metadata": {},
     "output_type": "execute_result"
    }
   ],
   "source": [
    "reduce_mem_usage(df)"
   ]
  },
  {
   "cell_type": "markdown",
   "id": "3c50db12",
   "metadata": {},
   "source": [
    "# Обработка выбросов"
   ]
  },
  {
   "cell_type": "markdown",
   "id": "fcdcc182",
   "metadata": {},
   "source": [
    "### Annual Income"
   ]
  },
  {
   "cell_type": "code",
   "execution_count": 631,
   "id": "026bd69b",
   "metadata": {},
   "outputs": [
    {
     "data": {
      "text/plain": [
       "count    5.943000e+03\n",
       "mean     1.366392e+06\n",
       "std      8.453392e+05\n",
       "min      1.645970e+05\n",
       "25%      8.443410e+05\n",
       "50%      1.168386e+06\n",
       "75%      1.640137e+06\n",
       "max      1.014934e+07\n",
       "Name: Annual Income, dtype: float64"
      ]
     },
     "execution_count": 631,
     "metadata": {},
     "output_type": "execute_result"
    }
   ],
   "source": [
    "df['Annual Income'].describe()"
   ]
  },
  {
   "cell_type": "code",
   "execution_count": 632,
   "id": "f341678b",
   "metadata": {},
   "outputs": [
    {
     "data": {
      "image/png": "[encoded data removed]",
      "text/plain": [
       "<Figure size 1152x576 with 1 Axes>"
      ]
     },
     "metadata": {
      "needs_background": "light"
     },
     "output_type": "display_data"
    }
   ],
   "source": [
    "plt.figure(figsize=(16, 8))\n",
    "sns.boxplot(x='Annual Income', data=df)\n",
    "plt.show()"
   ]
  },
  {
   "cell_type": "code",
   "execution_count": 633,
   "id": "ffd78dba",
   "metadata": {},
   "outputs": [],
   "source": [
    "Annual_Income_max = df['Annual Income'].quantile(0.975)"
   ]
  },
  {
   "cell_type": "code",
   "execution_count": 634,
   "id": "2fae0536",
   "metadata": {},
   "outputs": [],
   "source": [
    "df.loc[df['Annual Income'] > Annual_Income_max, 'Annual Income'] = df['Annual Income'].median()"
   ]
  },
  {
   "cell_type": "markdown",
   "id": "86918088",
   "metadata": {},
   "source": [
    "### Current Credit Balance"
   ]
  },
  {
   "cell_type": "code",
   "execution_count": 635,
   "id": "028e8324",
   "metadata": {},
   "outputs": [
    {
     "data": {
      "text/plain": [
       "count    7.500000e+03\n",
       "mean     2.898332e+05\n",
       "std      3.178714e+05\n",
       "min      0.000000e+00\n",
       "25%      1.142565e+05\n",
       "50%      2.093230e+05\n",
       "75%      3.604062e+05\n",
       "max      6.506797e+06\n",
       "Name: Current Credit Balance, dtype: float64"
      ]
     },
     "execution_count": 635,
     "metadata": {},
     "output_type": "execute_result"
    }
   ],
   "source": [
    "df['Current Credit Balance'].describe()"
   ]
  },
  {
   "cell_type": "code",
   "execution_count": 636,
   "id": "f5dd0d1a",
   "metadata": {},
   "outputs": [
    {
     "data": {
      "image/png": "[encoded data removed]",
      "text/plain": [
       "<Figure size 1152x576 with 1 Axes>"
      ]
     },
     "metadata": {
      "needs_background": "light"
     },
     "output_type": "display_data"
    }
   ],
   "source": [
    "plt.figure(figsize=(16, 8))\n",
    "sns.boxplot(x='Current Credit Balance', data=df)\n",
    "plt.show()"
   ]
  },
  {
   "cell_type": "code",
   "execution_count": 637,
   "id": "7e73942c",
   "metadata": {},
   "outputs": [
    {
     "data": {
      "text/plain": [
       "766592.9999999992"
      ]
     },
     "execution_count": 637,
     "metadata": {},
     "output_type": "execute_result"
    }
   ],
   "source": [
    "Current_Credit_Balance_max = df['Current Credit Balance'].quantile(0.95)\n",
    "Current_Credit_Balance_max"
   ]
  },
  {
   "cell_type": "code",
   "execution_count": 638,
   "id": "91fa9dac",
   "metadata": {},
   "outputs": [],
   "source": [
    "df.loc[(df['Current Credit Balance'] > Current_Credit_Balance_max), 'Current Credit Balance'] = df['Current Credit Balance'].median()"
   ]
  },
  {
   "cell_type": "markdown",
   "id": "983b171a",
   "metadata": {},
   "source": [
    "### Number of Open Accounts"
   ]
  },
  {
   "cell_type": "code",
   "execution_count": 639,
   "id": "6136ee23",
   "metadata": {},
   "outputs": [
    {
     "data": {
      "text/plain": [
       "count    7500.000000\n",
       "mean       11.130934\n",
       "std         4.908924\n",
       "min         2.000000\n",
       "25%         8.000000\n",
       "50%        10.000000\n",
       "75%        14.000000\n",
       "max        43.000000\n",
       "Name: Number of Open Accounts, dtype: float64"
      ]
     },
     "execution_count": 639,
     "metadata": {},
     "output_type": "execute_result"
    }
   ],
   "source": [
    "df['Number of Open Accounts'].describe()"
   ]
  },
  {
   "cell_type": "code",
   "execution_count": 640,
   "id": "792a6d86",
   "metadata": {},
   "outputs": [
    {
     "data": {
      "image/png": "[encoded data removed]",
      "text/plain": [
       "<Figure size 1152x576 with 1 Axes>"
      ]
     },
     "metadata": {
      "needs_background": "light"
     },
     "output_type": "display_data"
    }
   ],
   "source": [
    "plt.figure(figsize=(16, 8))\n",
    "sns.boxplot(x='Number of Open Accounts', data=df)\n",
    "plt.show()"
   ]
  },
  {
   "cell_type": "code",
   "execution_count": 641,
   "id": "ee029793",
   "metadata": {},
   "outputs": [
    {
     "data": {
      "text/plain": [
       "28.0    14\n",
       "27.0    14\n",
       "26.0    12\n",
       "30.0    11\n",
       "29.0    10\n",
       "32.0     6\n",
       "33.0     6\n",
       "31.0     6\n",
       "34.0     2\n",
       "37.0     2\n",
       "43.0     1\n",
       "41.0     1\n",
       "38.0     1\n",
       "35.0     1\n",
       "42.0     1\n",
       "Name: Number of Open Accounts, dtype: int64"
      ]
     },
     "execution_count": 641,
     "metadata": {},
     "output_type": "execute_result"
    }
   ],
   "source": [
    "df.loc[df['Number of Open Accounts'] > 25, 'Number of Open Accounts'].value_counts()"
   ]
  },
  {
   "cell_type": "code",
   "execution_count": 642,
   "id": "0dd09f02",
   "metadata": {},
   "outputs": [],
   "source": [
    "df.loc[df['Number of Open Accounts'] > 25, 'Number of Open Accounts'] = df['Number of Open Accounts'].median()"
   ]
  },
  {
   "cell_type": "markdown",
   "id": "7fe31422",
   "metadata": {},
   "source": [
    "### Current Loan Amount"
   ]
  },
  {
   "cell_type": "code",
   "execution_count": 643,
   "id": "886bc2cd",
   "metadata": {},
   "outputs": [
    {
     "data": {
      "text/plain": [
       "count         7500.0\n",
       "mean      11873178.0\n",
       "std       31926124.0\n",
       "min          11242.0\n",
       "25%         180169.0\n",
       "50%         309573.0\n",
       "75%         519882.0\n",
       "max      100000000.0\n",
       "Name: Current Loan Amount, dtype: float64"
      ]
     },
     "execution_count": 643,
     "metadata": {},
     "output_type": "execute_result"
    }
   ],
   "source": [
    "df['Current Loan Amount'].describe()"
   ]
  },
  {
   "cell_type": "code",
   "execution_count": 644,
   "id": "b130ebf3",
   "metadata": {},
   "outputs": [
    {
     "data": {
      "image/png": "[encoded data removed]",
      "text/plain": [
       "<Figure size 1152x576 with 1 Axes>"
      ]
     },
     "metadata": {
      "needs_background": "light"
     },
     "output_type": "display_data"
    }
   ],
   "source": [
    "plt.figure(figsize=(16, 8))\n",
    "sns.boxplot(df['Current Loan Amount'])\n",
    "plt.show()"
   ]
  },
  {
   "cell_type": "code",
   "execution_count": 645,
   "id": "23e2a084",
   "metadata": {},
   "outputs": [],
   "source": [
    "df.loc[df['Current Loan Amount'] > 10**8, 'Current Loan Amount'] = df['Current Loan Amount'].median()"
   ]
  },
  {
   "cell_type": "markdown",
   "id": "fc9fbb38",
   "metadata": {},
   "source": [
    "### Monthly Debt"
   ]
  },
  {
   "cell_type": "code",
   "execution_count": 646,
   "id": "2de9cf79",
   "metadata": {},
   "outputs": [
    {
     "data": {
      "text/plain": [
       "count      7500.000000\n",
       "mean      18314.453125\n",
       "std       11926.764648\n",
       "min           0.000000\n",
       "25%       10067.500000\n",
       "50%       16076.500000\n",
       "75%       23818.000000\n",
       "max      136679.000000\n",
       "Name: Monthly Debt, dtype: float64"
      ]
     },
     "execution_count": 646,
     "metadata": {},
     "output_type": "execute_result"
    }
   ],
   "source": [
    "df['Monthly Debt'].describe()"
   ]
  },
  {
   "cell_type": "code",
   "execution_count": 647,
   "id": "1c40ca5f",
   "metadata": {},
   "outputs": [
    {
     "data": {
      "image/png": "[encoded data removed]",
      "text/plain": [
       "<Figure size 1152x576 with 1 Axes>"
      ]
     },
     "metadata": {
      "needs_background": "light"
     },
     "output_type": "display_data"
    }
   ],
   "source": [
    "plt.figure(figsize=(16, 8))\n",
    "sns.boxplot(df['Monthly Debt'])\n",
    "plt.show()"
   ]
  },
  {
   "cell_type": "code",
   "execution_count": 648,
   "id": "02f2a921",
   "metadata": {},
   "outputs": [
    {
     "data": {
      "text/plain": [
       "47950.149999999965"
      ]
     },
     "execution_count": 648,
     "metadata": {},
     "output_type": "execute_result"
    }
   ],
   "source": [
    "df['Monthly Debt'].quantile(.975)"
   ]
  },
  {
   "cell_type": "code",
   "execution_count": 649,
   "id": "71518ad7",
   "metadata": {},
   "outputs": [],
   "source": [
    "df.loc[df['Monthly Debt'] > 47950, 'Monthly Debt'] = df['Monthly Debt'].median()"
   ]
  },
  {
   "cell_type": "markdown",
   "id": "86d5df67",
   "metadata": {},
   "source": [
    "### Tax Liens"
   ]
  },
  {
   "cell_type": "code",
   "execution_count": 650,
   "id": "22bf7e88",
   "metadata": {},
   "outputs": [
    {
     "data": {
      "text/plain": [
       "count    7500.000000\n",
       "mean        0.030133\n",
       "std         0.271604\n",
       "min         0.000000\n",
       "25%         0.000000\n",
       "50%         0.000000\n",
       "75%         0.000000\n",
       "max         7.000000\n",
       "Name: Tax Liens, dtype: float64"
      ]
     },
     "execution_count": 650,
     "metadata": {},
     "output_type": "execute_result"
    }
   ],
   "source": [
    "df['Tax Liens'].describe()"
   ]
  },
  {
   "cell_type": "code",
   "execution_count": 651,
   "id": "a7fb2ecc",
   "metadata": {},
   "outputs": [
    {
     "data": {
      "image/png": "[encoded data removed]",
      "text/plain": [
       "<Figure size 360x360 with 1 Axes>"
      ]
     },
     "metadata": {
      "needs_background": "light"
     },
     "output_type": "display_data"
    }
   ],
   "source": [
    "sns.catplot(x='Tax Liens',\n",
    "            y='Credit Default',\n",
    "            kind='bar',\n",
    "            data=df);"
   ]
  },
  {
   "cell_type": "code",
   "execution_count": 652,
   "id": "f8041907",
   "metadata": {},
   "outputs": [],
   "source": [
    "df.loc[df['Tax Liens'] > 2, 'Tax Liens'] = 2"
   ]
  },
  {
   "cell_type": "markdown",
   "id": "cc3ce083",
   "metadata": {},
   "source": [
    "### Years of Credit History"
   ]
  },
  {
   "cell_type": "code",
   "execution_count": 653,
   "id": "0a328472",
   "metadata": {},
   "outputs": [
    {
     "data": {
      "text/plain": [
       "count    7500.000000\n",
       "mean       18.317467\n",
       "std         7.041946\n",
       "min         4.000000\n",
       "25%        13.500000\n",
       "50%        17.000000\n",
       "75%        21.799999\n",
       "max        57.700001\n",
       "Name: Years of Credit History, dtype: float64"
      ]
     },
     "execution_count": 653,
     "metadata": {},
     "output_type": "execute_result"
    }
   ],
   "source": [
    "df['Years of Credit History'].describe()"
   ]
  },
  {
   "cell_type": "code",
   "execution_count": 654,
   "id": "6ee0e107",
   "metadata": {},
   "outputs": [
    {
     "data": {
      "image/png": "[encoded data removed]",
      "text/plain": [
       "<Figure size 1152x576 with 1 Axes>"
      ]
     },
     "metadata": {
      "needs_background": "light"
     },
     "output_type": "display_data"
    }
   ],
   "source": [
    "plt.figure(figsize=(16, 8))\n",
    "sns.boxplot(df['Years of Credit History'])\n",
    "plt.show()"
   ]
  },
  {
   "cell_type": "code",
   "execution_count": 655,
   "id": "9ae6cfda",
   "metadata": {},
   "outputs": [],
   "source": [
    "df.loc[df['Years of Credit History'] > 35, 'Years of Credit History'] = df['Years of Credit History'].median()"
   ]
  },
  {
   "cell_type": "markdown",
   "id": "c455b445",
   "metadata": {},
   "source": [
    "### Maximum Open Credit"
   ]
  },
  {
   "cell_type": "code",
   "execution_count": 656,
   "id": "8b7591ee",
   "metadata": {},
   "outputs": [
    {
     "data": {
      "text/plain": [
       "count    7.500000e+03\n",
       "mean     9.451538e+05\n",
       "std      1.602622e+07\n",
       "min      0.000000e+00\n",
       "25%      2.792295e+05\n",
       "50%      4.781590e+05\n",
       "75%      7.935015e+05\n",
       "max      1.304726e+09\n",
       "Name: Maximum Open Credit, dtype: float64"
      ]
     },
     "execution_count": 656,
     "metadata": {},
     "output_type": "execute_result"
    }
   ],
   "source": [
    "df['Maximum Open Credit'].describe()"
   ]
  },
  {
   "cell_type": "code",
   "execution_count": 657,
   "id": "98dd31cb",
   "metadata": {},
   "outputs": [
    {
     "data": {
      "image/png": "[encoded data removed]",
      "text/plain": [
       "<Figure size 1152x576 with 1 Axes>"
      ]
     },
     "metadata": {
      "needs_background": "light"
     },
     "output_type": "display_data"
    }
   ],
   "source": [
    "plt.figure(figsize=(16, 8))\n",
    "sns.boxplot(df['Maximum Open Credit'])\n",
    "plt.show()"
   ]
  },
  {
   "cell_type": "code",
   "execution_count": 658,
   "id": "4d7aa7ae",
   "metadata": {},
   "outputs": [],
   "source": [
    "df.loc[(df['Maximum Open Credit'] > 1400000) | (df['Maximum Open Credit'] < 4000), 'Maximum Open Credit'] = df['Maximum Open Credit'].median()"
   ]
  },
  {
   "cell_type": "markdown",
   "id": "1e74fa11",
   "metadata": {},
   "source": [
    "### Months since last delinquent"
   ]
  },
  {
   "cell_type": "code",
   "execution_count": 659,
   "id": "86f0940a",
   "metadata": {},
   "outputs": [
    {
     "data": {
      "text/plain": [
       "count    3419.000000\n",
       "mean       34.692600\n",
       "std        21.688807\n",
       "min         0.000000\n",
       "25%        16.000000\n",
       "50%        32.000000\n",
       "75%        50.000000\n",
       "max       118.000000\n",
       "Name: Months since last delinquent, dtype: float64"
      ]
     },
     "execution_count": 659,
     "metadata": {},
     "output_type": "execute_result"
    }
   ],
   "source": [
    "df['Months since last delinquent'].describe()"
   ]
  },
  {
   "cell_type": "code",
   "execution_count": 660,
   "id": "0966521b",
   "metadata": {},
   "outputs": [
    {
     "data": {
      "image/png": "[encoded data removed]",
      "text/plain": [
       "<Figure size 1152x576 with 1 Axes>"
      ]
     },
     "metadata": {
      "needs_background": "light"
     },
     "output_type": "display_data"
    }
   ],
   "source": [
    "plt.figure(figsize=(16, 8))\n",
    "sns.boxplot(df['Months since last delinquent'])\n",
    "plt.show()"
   ]
  },
  {
   "cell_type": "code",
   "execution_count": 661,
   "id": "d83696fa",
   "metadata": {},
   "outputs": [],
   "source": [
    "df.loc[df['Months since last delinquent'] > 95, 'Months since last delinquent'] = df['Months since last delinquent'].median()"
   ]
  },
  {
   "cell_type": "markdown",
   "id": "f0ef6a74",
   "metadata": {},
   "source": [
    "### Bankruptcies"
   ]
  },
  {
   "cell_type": "code",
   "execution_count": 662,
   "id": "4434d678",
   "metadata": {},
   "outputs": [
    {
     "data": {
      "text/plain": [
       "count    7486.000000\n",
       "mean        0.117152\n",
       "std         0.347192\n",
       "min         0.000000\n",
       "25%         0.000000\n",
       "50%         0.000000\n",
       "75%         0.000000\n",
       "max         4.000000\n",
       "Name: Bankruptcies, dtype: float64"
      ]
     },
     "execution_count": 662,
     "metadata": {},
     "output_type": "execute_result"
    }
   ],
   "source": [
    "df['Bankruptcies'].describe()"
   ]
  },
  {
   "cell_type": "code",
   "execution_count": 663,
   "id": "f3e204f6",
   "metadata": {},
   "outputs": [
    {
     "data": {
      "image/png": "[encoded data removed]",
      "text/plain": [
       "<Figure size 360x360 with 1 Axes>"
      ]
     },
     "metadata": {
      "needs_background": "light"
     },
     "output_type": "display_data"
    }
   ],
   "source": [
    "sns.catplot(x='Bankruptcies',\n",
    "            y='Credit Default',\n",
    "            kind='violin',\n",
    "            data=df);"
   ]
  },
  {
   "cell_type": "code",
   "execution_count": 664,
   "id": "afd667ee",
   "metadata": {},
   "outputs": [
    {
     "data": {
      "text/html": [
       "<div>\n",
       "<style scoped>\n",
       "    .dataframe tbody tr th:only-of-type {\n",
       "        vertical-align: middle;\n",
       "    }\n",
       "\n",
       "    .dataframe tbody tr th {\n",
       "        vertical-align: top;\n",
       "    }\n",
       "\n",
       "    .dataframe thead th {\n",
       "        text-align: right;\n",
       "    }\n",
       "</style>\n",
       "<table border=\"1\" class=\"dataframe\">\n",
       "  <thead>\n",
       "    <tr style=\"text-align: right;\">\n",
       "      <th></th>\n",
       "      <th>Home Ownership</th>\n",
       "      <th>Annual Income</th>\n",
       "      <th>Years in current job</th>\n",
       "      <th>Tax Liens</th>\n",
       "      <th>Number of Open Accounts</th>\n",
       "      <th>Years of Credit History</th>\n",
       "      <th>Maximum Open Credit</th>\n",
       "      <th>Number of Credit Problems</th>\n",
       "      <th>Months since last delinquent</th>\n",
       "      <th>Bankruptcies</th>\n",
       "      <th>Purpose</th>\n",
       "      <th>Term</th>\n",
       "      <th>Current Loan Amount</th>\n",
       "      <th>Current Credit Balance</th>\n",
       "      <th>Monthly Debt</th>\n",
       "      <th>Credit Score</th>\n",
       "      <th>Credit Default</th>\n",
       "    </tr>\n",
       "  </thead>\n",
       "  <tbody>\n",
       "    <tr>\n",
       "      <th>0</th>\n",
       "      <td>Own Home</td>\n",
       "      <td>482087.0</td>\n",
       "      <td>NaN</td>\n",
       "      <td>0.0</td>\n",
       "      <td>11.0</td>\n",
       "      <td>26.299999</td>\n",
       "      <td>685960.0</td>\n",
       "      <td>1.0</td>\n",
       "      <td>NaN</td>\n",
       "      <td>1.0</td>\n",
       "      <td>debt consolidation</td>\n",
       "      <td>Short Term</td>\n",
       "      <td>100000000.0</td>\n",
       "      <td>47386.0</td>\n",
       "      <td>7914.0</td>\n",
       "      <td>749.0</td>\n",
       "      <td>0</td>\n",
       "    </tr>\n",
       "    <tr>\n",
       "      <th>1</th>\n",
       "      <td>Own Home</td>\n",
       "      <td>1025487.0</td>\n",
       "      <td>10+ years</td>\n",
       "      <td>0.0</td>\n",
       "      <td>15.0</td>\n",
       "      <td>15.300000</td>\n",
       "      <td>1181730.0</td>\n",
       "      <td>0.0</td>\n",
       "      <td>NaN</td>\n",
       "      <td>0.0</td>\n",
       "      <td>debt consolidation</td>\n",
       "      <td>Long Term</td>\n",
       "      <td>264968.0</td>\n",
       "      <td>394972.0</td>\n",
       "      <td>18373.0</td>\n",
       "      <td>737.0</td>\n",
       "      <td>1</td>\n",
       "    </tr>\n",
       "    <tr>\n",
       "      <th>2</th>\n",
       "      <td>Home Mortgage</td>\n",
       "      <td>751412.0</td>\n",
       "      <td>8 years</td>\n",
       "      <td>0.0</td>\n",
       "      <td>11.0</td>\n",
       "      <td>35.000000</td>\n",
       "      <td>1182434.0</td>\n",
       "      <td>0.0</td>\n",
       "      <td>NaN</td>\n",
       "      <td>0.0</td>\n",
       "      <td>debt consolidation</td>\n",
       "      <td>Short Term</td>\n",
       "      <td>100000000.0</td>\n",
       "      <td>308389.0</td>\n",
       "      <td>13651.0</td>\n",
       "      <td>742.0</td>\n",
       "      <td>0</td>\n",
       "    </tr>\n",
       "    <tr>\n",
       "      <th>3</th>\n",
       "      <td>Own Home</td>\n",
       "      <td>805068.0</td>\n",
       "      <td>6 years</td>\n",
       "      <td>0.0</td>\n",
       "      <td>8.0</td>\n",
       "      <td>22.500000</td>\n",
       "      <td>147400.0</td>\n",
       "      <td>1.0</td>\n",
       "      <td>NaN</td>\n",
       "      <td>1.0</td>\n",
       "      <td>debt consolidation</td>\n",
       "      <td>Short Term</td>\n",
       "      <td>121396.0</td>\n",
       "      <td>95855.0</td>\n",
       "      <td>11338.0</td>\n",
       "      <td>694.0</td>\n",
       "      <td>0</td>\n",
       "    </tr>\n",
       "    <tr>\n",
       "      <th>4</th>\n",
       "      <td>Rent</td>\n",
       "      <td>776264.0</td>\n",
       "      <td>8 years</td>\n",
       "      <td>0.0</td>\n",
       "      <td>13.0</td>\n",
       "      <td>13.600000</td>\n",
       "      <td>385836.0</td>\n",
       "      <td>1.0</td>\n",
       "      <td>NaN</td>\n",
       "      <td>0.0</td>\n",
       "      <td>debt consolidation</td>\n",
       "      <td>Short Term</td>\n",
       "      <td>125840.0</td>\n",
       "      <td>93309.0</td>\n",
       "      <td>7180.0</td>\n",
       "      <td>719.0</td>\n",
       "      <td>0</td>\n",
       "    </tr>\n",
       "    <tr>\n",
       "      <th>...</th>\n",
       "      <td>...</td>\n",
       "      <td>...</td>\n",
       "      <td>...</td>\n",
       "      <td>...</td>\n",
       "      <td>...</td>\n",
       "      <td>...</td>\n",
       "      <td>...</td>\n",
       "      <td>...</td>\n",
       "      <td>...</td>\n",
       "      <td>...</td>\n",
       "      <td>...</td>\n",
       "      <td>...</td>\n",
       "      <td>...</td>\n",
       "      <td>...</td>\n",
       "      <td>...</td>\n",
       "      <td>...</td>\n",
       "      <td>...</td>\n",
       "    </tr>\n",
       "    <tr>\n",
       "      <th>7495</th>\n",
       "      <td>Rent</td>\n",
       "      <td>402192.0</td>\n",
       "      <td>&lt; 1 year</td>\n",
       "      <td>0.0</td>\n",
       "      <td>3.0</td>\n",
       "      <td>8.500000</td>\n",
       "      <td>107866.0</td>\n",
       "      <td>0.0</td>\n",
       "      <td>NaN</td>\n",
       "      <td>0.0</td>\n",
       "      <td>other</td>\n",
       "      <td>Short Term</td>\n",
       "      <td>129360.0</td>\n",
       "      <td>73492.0</td>\n",
       "      <td>1900.0</td>\n",
       "      <td>697.0</td>\n",
       "      <td>0</td>\n",
       "    </tr>\n",
       "    <tr>\n",
       "      <th>7496</th>\n",
       "      <td>Home Mortgage</td>\n",
       "      <td>1533984.0</td>\n",
       "      <td>1 year</td>\n",
       "      <td>0.0</td>\n",
       "      <td>10.0</td>\n",
       "      <td>26.500000</td>\n",
       "      <td>686312.0</td>\n",
       "      <td>0.0</td>\n",
       "      <td>43.0</td>\n",
       "      <td>0.0</td>\n",
       "      <td>debt consolidation</td>\n",
       "      <td>Long Term</td>\n",
       "      <td>444048.0</td>\n",
       "      <td>456399.0</td>\n",
       "      <td>12783.0</td>\n",
       "      <td>7410.0</td>\n",
       "      <td>1</td>\n",
       "    </tr>\n",
       "    <tr>\n",
       "      <th>7497</th>\n",
       "      <td>Rent</td>\n",
       "      <td>1878910.0</td>\n",
       "      <td>6 years</td>\n",
       "      <td>0.0</td>\n",
       "      <td>12.0</td>\n",
       "      <td>32.099998</td>\n",
       "      <td>478159.0</td>\n",
       "      <td>0.0</td>\n",
       "      <td>NaN</td>\n",
       "      <td>0.0</td>\n",
       "      <td>buy a car</td>\n",
       "      <td>Short Term</td>\n",
       "      <td>100000000.0</td>\n",
       "      <td>477812.0</td>\n",
       "      <td>12479.0</td>\n",
       "      <td>748.0</td>\n",
       "      <td>0</td>\n",
       "    </tr>\n",
       "    <tr>\n",
       "      <th>7498</th>\n",
       "      <td>Home Mortgage</td>\n",
       "      <td>NaN</td>\n",
       "      <td>NaN</td>\n",
       "      <td>0.0</td>\n",
       "      <td>21.0</td>\n",
       "      <td>26.500000</td>\n",
       "      <td>1141250.0</td>\n",
       "      <td>0.0</td>\n",
       "      <td>NaN</td>\n",
       "      <td>0.0</td>\n",
       "      <td>debt consolidation</td>\n",
       "      <td>Short Term</td>\n",
       "      <td>615274.0</td>\n",
       "      <td>476064.0</td>\n",
       "      <td>37118.0</td>\n",
       "      <td>NaN</td>\n",
       "      <td>0</td>\n",
       "    </tr>\n",
       "    <tr>\n",
       "      <th>7499</th>\n",
       "      <td>Rent</td>\n",
       "      <td>NaN</td>\n",
       "      <td>4 years</td>\n",
       "      <td>0.0</td>\n",
       "      <td>8.0</td>\n",
       "      <td>9.400000</td>\n",
       "      <td>480832.0</td>\n",
       "      <td>0.0</td>\n",
       "      <td>NaN</td>\n",
       "      <td>0.0</td>\n",
       "      <td>debt consolidation</td>\n",
       "      <td>Short Term</td>\n",
       "      <td>26928.0</td>\n",
       "      <td>288192.0</td>\n",
       "      <td>9061.0</td>\n",
       "      <td>NaN</td>\n",
       "      <td>0</td>\n",
       "    </tr>\n",
       "  </tbody>\n",
       "</table>\n",
       "<p>7500 rows × 17 columns</p>\n",
       "</div>"
      ],
      "text/plain": [
       "     Home Ownership  Annual Income Years in current job  Tax Liens  \\\n",
       "0          Own Home       482087.0                  NaN        0.0   \n",
       "1          Own Home      1025487.0            10+ years        0.0   \n",
       "2     Home Mortgage       751412.0              8 years        0.0   \n",
       "3          Own Home       805068.0              6 years        0.0   \n",
       "4              Rent       776264.0              8 years        0.0   \n",
       "...             ...            ...                  ...        ...   \n",
       "7495           Rent       402192.0             < 1 year        0.0   \n",
       "7496  Home Mortgage      1533984.0               1 year        0.0   \n",
       "7497           Rent      1878910.0              6 years        0.0   \n",
       "7498  Home Mortgage            NaN                  NaN        0.0   \n",
       "7499           Rent            NaN              4 years        0.0   \n",
       "\n",
       "      Number of Open Accounts  Years of Credit History  Maximum Open Credit  \\\n",
       "0                        11.0                26.299999             685960.0   \n",
       "1                        15.0                15.300000            1181730.0   \n",
       "2                        11.0                35.000000            1182434.0   \n",
       "3                         8.0                22.500000             147400.0   \n",
       "4                        13.0                13.600000             385836.0   \n",
       "...                       ...                      ...                  ...   \n",
       "7495                      3.0                 8.500000             107866.0   \n",
       "7496                     10.0                26.500000             686312.0   \n",
       "7497                     12.0                32.099998             478159.0   \n",
       "7498                     21.0                26.500000            1141250.0   \n",
       "7499                      8.0                 9.400000             480832.0   \n",
       "\n",
       "      Number of Credit Problems  Months since last delinquent  Bankruptcies  \\\n",
       "0                           1.0                           NaN           1.0   \n",
       "1                           0.0                           NaN           0.0   \n",
       "2                           0.0                           NaN           0.0   \n",
       "3                           1.0                           NaN           1.0   \n",
       "4                           1.0                           NaN           0.0   \n",
       "...                         ...                           ...           ...   \n",
       "7495                        0.0                           NaN           0.0   \n",
       "7496                        0.0                          43.0           0.0   \n",
       "7497                        0.0                           NaN           0.0   \n",
       "7498                        0.0                           NaN           0.0   \n",
       "7499                        0.0                           NaN           0.0   \n",
       "\n",
       "                 Purpose        Term  Current Loan Amount  \\\n",
       "0     debt consolidation  Short Term          100000000.0   \n",
       "1     debt consolidation   Long Term             264968.0   \n",
       "2     debt consolidation  Short Term          100000000.0   \n",
       "3     debt consolidation  Short Term             121396.0   \n",
       "4     debt consolidation  Short Term             125840.0   \n",
       "...                  ...         ...                  ...   \n",
       "7495               other  Short Term             129360.0   \n",
       "7496  debt consolidation   Long Term             444048.0   \n",
       "7497           buy a car  Short Term          100000000.0   \n",
       "7498  debt consolidation  Short Term             615274.0   \n",
       "7499  debt consolidation  Short Term              26928.0   \n",
       "\n",
       "      Current Credit Balance  Monthly Debt  Credit Score  Credit Default  \n",
       "0                    47386.0        7914.0         749.0               0  \n",
       "1                   394972.0       18373.0         737.0               1  \n",
       "2                   308389.0       13651.0         742.0               0  \n",
       "3                    95855.0       11338.0         694.0               0  \n",
       "4                    93309.0        7180.0         719.0               0  \n",
       "...                      ...           ...           ...             ...  \n",
       "7495                 73492.0        1900.0         697.0               0  \n",
       "7496                456399.0       12783.0        7410.0               1  \n",
       "7497                477812.0       12479.0         748.0               0  \n",
       "7498                476064.0       37118.0           NaN               0  \n",
       "7499                288192.0        9061.0           NaN               0  \n",
       "\n",
       "[7500 rows x 17 columns]"
      ]
     },
     "execution_count": 664,
     "metadata": {},
     "output_type": "execute_result"
    }
   ],
   "source": [
    "df"
   ]
  },
  {
   "cell_type": "code",
   "execution_count": 665,
   "id": "54197f9b",
   "metadata": {},
   "outputs": [
    {
     "data": {
      "text/plain": [
       "0.0    6660\n",
       "1.0     786\n",
       "2.0      31\n",
       "3.0       7\n",
       "4.0       2\n",
       "Name: Bankruptcies, dtype: int64"
      ]
     },
     "execution_count": 665,
     "metadata": {},
     "output_type": "execute_result"
    }
   ],
   "source": [
    "df['Bankruptcies'].value_counts()"
   ]
  },
  {
   "cell_type": "markdown",
   "id": "7884e04a",
   "metadata": {},
   "source": [
    "### Credit Score"
   ]
  },
  {
   "cell_type": "code",
   "execution_count": 666,
   "id": "22852724",
   "metadata": {},
   "outputs": [
    {
     "data": {
      "text/plain": [
       "count    5943.000000\n",
       "mean     1151.087524\n",
       "std      1604.451416\n",
       "min       585.000000\n",
       "25%       711.000000\n",
       "50%       731.000000\n",
       "75%       743.000000\n",
       "max      7510.000000\n",
       "Name: Credit Score, dtype: float64"
      ]
     },
     "execution_count": 666,
     "metadata": {},
     "output_type": "execute_result"
    }
   ],
   "source": [
    "df['Credit Score'].describe()"
   ]
  },
  {
   "cell_type": "code",
   "execution_count": 667,
   "id": "1b616959",
   "metadata": {
    "scrolled": false
   },
   "outputs": [
    {
     "data": {
      "image/png": "[encoded data removed]",
      "text/plain": [
       "<Figure size 1152x576 with 1 Axes>"
      ]
     },
     "metadata": {
      "needs_background": "light"
     },
     "output_type": "display_data"
    }
   ],
   "source": [
    "plt.figure(figsize=(16, 8))\n",
    "sns.boxplot(df['Credit Score'])\n",
    "plt.show()"
   ]
  },
  {
   "cell_type": "code",
   "execution_count": 668,
   "id": "426f8eb1",
   "metadata": {},
   "outputs": [
    {
     "data": {
      "text/plain": [
       "1    400\n",
       "Name: Credit Default, dtype: int64"
      ]
     },
     "execution_count": 668,
     "metadata": {},
     "output_type": "execute_result"
    }
   ],
   "source": [
    "df.loc[(df['Credit Score'] > 800), 'Credit Default'].value_counts()"
   ]
  },
  {
   "cell_type": "code",
   "execution_count": 669,
   "id": "8b5c075d",
   "metadata": {},
   "outputs": [],
   "source": [
    "df.loc[(df['Credit Score'] < 650), 'Credit Score'] = df['Credit Score'].median()"
   ]
  },
  {
   "cell_type": "code",
   "execution_count": 670,
   "id": "60d7820b",
   "metadata": {},
   "outputs": [],
   "source": [
    "df.loc[(df['Credit Score'] > 800), 'Credit Score'] = df['Credit Score'] / 10"
   ]
  },
  {
   "cell_type": "code",
   "execution_count": 671,
   "id": "e48396e6",
   "metadata": {
    "scrolled": false
   },
   "outputs": [
    {
     "data": {
      "image/png": "[encoded data removed]",
      "text/plain": [
       "<Figure size 360x360 with 1 Axes>"
      ]
     },
     "metadata": {
      "needs_background": "light"
     },
     "output_type": "display_data"
    }
   ],
   "source": [
    "sns.catplot(y='Credit Score',\n",
    "            x='Credit Default',\n",
    "            kind='box',\n",
    "            data=df);"
   ]
  },
  {
   "cell_type": "code",
   "execution_count": null,
   "id": "4035e6c0",
   "metadata": {},
   "outputs": [],
   "source": []
  }
 ],
 "metadata": {
  "kernelspec": {
   "display_name": "Python 3 (ipykernel)",
   "language": "python",
   "name": "python3"
  },
  "language_info": {
   "codemirror_mode": {
    "name": "ipython",
    "version": 3
   },
   "file_extension": ".py",
   "mimetype": "text/x-python",
   "name": "python",
   "nbconvert_exporter": "python",
   "pygments_lexer": "ipython3",
   "version": "3.9.2"
  }
 },
 "nbformat": 4,
 "nbformat_minor": 5
}
