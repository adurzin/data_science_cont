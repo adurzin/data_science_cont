{
 "cells": [
  {
   "cell_type": "code",
   "execution_count": 1253,
   "id": "1fcdc31e",
   "metadata": {},
   "outputs": [],
   "source": [
    "import pandas as pd\n",
    "import numpy as np\n",
    "import seaborn as sns\n",
    "import matplotlib.pyplot as plt\n",
    "\n",
    "%matplotlib inline\n",
    "\n",
    "import warnings\n",
    "warnings.simplefilter('ignore')"
   ]
  },
  {
   "cell_type": "code",
   "execution_count": 1254,
   "id": "38931dc1",
   "metadata": {},
   "outputs": [],
   "source": [
    "TRAIN_DATASET_PATH = './course_project_train.csv'\n",
    "TEST_DATASET_PATH = './course_project_test.csv'"
   ]
  },
  {
   "cell_type": "code",
   "execution_count": 1255,
   "id": "78955f46",
   "metadata": {},
   "outputs": [
    {
     "data": {
      "text/plain": [
       "((7500, 17), (2500, 16))"
      ]
     },
     "execution_count": 1255,
     "metadata": {},
     "output_type": "execute_result"
    }
   ],
   "source": [
    "df_train = pd.read_csv(TRAIN_DATASET_PATH)\n",
    "\n",
    "df_test = pd.read_csv(TEST_DATASET_PATH)\n",
    "\n",
    "df_train.shape, df_test.shape"
   ]
  },
  {
   "cell_type": "code",
   "execution_count": 1256,
   "id": "f75da229",
   "metadata": {},
   "outputs": [],
   "source": [
    "class Data:\n",
    "    \"\"\"Подготовка исходных данных\"\"\"\n",
    "    \n",
    "    def __init__(self):\n",
    "        \"\"\"Параметры класса\"\"\"\n",
    "        self.medians = None\n",
    "        self.years_mode = None\n",
    "        self.years_to_numbers = None\n",
    "        self.Years_of_Credit_History_max = None\n",
    "        self.Annual_Income_condition = None\n",
    "        self.Maximum_Open_Credit_min = None\n",
    "        self.Maximum_Open_Credit_max = None\n",
    "        self.condition_last_delinquent = None\n",
    "        self.Current_Loan_Amount_max = None\n",
    "        self.Credit_Score_max = None\n",
    "        self.condition_Credit_Score = None\n",
    "        self.Credit_Score_min = None\n",
    "        self.Annual_Income_max = None\n",
    "        self.Monthly_Debt_max = None\n",
    "        self.Months_since_last_delinquent_max = None\n",
    "        \n",
    "        \n",
    "    def fit(self, df):\n",
    "        \n",
    "        \n",
    "        # Расчет медиан\n",
    "        self.medians = df.median()\n",
    "        \n",
    "        \n",
    "        self.years_mode = df['Years in current job'].mode()[0]\n",
    "        \n",
    "        self.years_to_numbers = {'< 1 year': 0,\n",
    "                                 '1 year': 1,\n",
    "                                 '2 years': 2,\n",
    "                                 '3 years': 3,\n",
    "                                 '4 years': 4,\n",
    "                                 '5 years': 5,\n",
    "                                 '6 years': 6,\n",
    "                                 '7 years': 7,\n",
    "                                 '8 years': 8,\n",
    "                                 '9 years': 9,\n",
    "                                 '10+ years': 10}\n",
    "        \n",
    "        self.Years_of_Credit_History_max = 45\n",
    "        \n",
    "        self.Annual_Income_max = 5000000\n",
    "       \n",
    "        self.Maximum_Open_Credit_max = 1500000\n",
    "        \n",
    "        \n",
    "        self.Credit_Score_max = 751\n",
    "        self.Credit_Score_min = 580\n",
    "       \n",
    "        self.Monthly_Debt_max = 60000\n",
    "        self.Monthly_Debt_min = 0\n",
    "        \n",
    "        self.Current_Loan_Amount_max = 900000\n",
    "        \n",
    "        self.Current_Credit_Balance_max = 2000000\n",
    "        \n",
    "        self.Number_of_Open_Accounts_max = 30\n",
    "        \n",
    "        self.Months_since_last_delinquent_max = 95\n",
    "       \n",
    "        \n",
    "    def transform(self, df):\n",
    "        \"\"\"Трансформация данных\"\"\"\n",
    "            \n",
    "    # 1. Изменение типа\n",
    "\n",
    "        # Term, Home Ownership\n",
    "        df.loc[(df['Home Ownership'] == 'Have Mortgage'), 'Home Ownership'] = 'Home Mortgage' # объединение одинаковых по смыслу свойства признака\n",
    "        df = pd.get_dummies(df, columns=['Term'])\n",
    "        df = pd.get_dummies(df, columns=['Home Ownership'])\n",
    "        \n",
    "        # Years in current job\n",
    "        df['Years in current job'].fillna(self.years_mode, inplace=True) # заполнение пропусков наиболее часто встречающимися значениями\n",
    "        df['Years in current job'].replace(self.years_to_numbers, inplace=True)\n",
    "    \n",
    "    \n",
    "    # 2. Выбросы (outliers)\n",
    "    \n",
    "        # Number of Open Accounts\n",
    "#         df.loc[df['Number of Open Accounts'] > self.Number_of_Open_Accounts_max, 'Number of Open Accounts'] = None\n",
    "        df['Number of Open Accounts'].clip(upper=self.Number_of_Open_Accounts_max, axis=0, inplace=True)\n",
    "        \n",
    "        # Current Credit Balance\n",
    "        df['Current Credit Balance outlier'] = 0\n",
    "        df.loc[df['Current Credit Balance'] > self.Current_Credit_Balance_max, 'Current Credit Balance outlier'] = 1\n",
    "#         df.loc[(df['Current Credit Balance'] > self.Current_Credit_Balance_max), 'Current Credit Balance'] = None\n",
    "        df['Current Credit Balance'].clip(upper=self.Current_Credit_Balance_max, axis=0, inplace=True)\n",
    "\n",
    "    \n",
    "        # Years of Credit History\n",
    "#         df.loc[(df['Years of Credit History'] > self.Years_of_Credit_History_max), 'Years of Credit History'] = None\n",
    "        df['Years of Credit History'].clip(upper=self.Years_of_Credit_History_max, axis=0, inplace=True)\n",
    "        \n",
    "        # Maximum Open Credit\n",
    "#         df.loc[df['Maximum Open Credit'] > self.Maximum_Open_Credit_max, 'Maximum Open Credit'] = None\n",
    "        df['Maximum Open Credit'].clip(upper=self.Maximum_Open_Credit_max, axis=0, inplace=True)\n",
    "        \n",
    "        # Monthly Debt\n",
    "#         df.loc[(df['Monthly Debt'] > self.Monthly_Debt_max), 'Monthly Debt'] = None\n",
    "        df['Monthly Debt'].clip(upper=self.Monthly_Debt_max, lower= self.Monthly_Debt_min, axis=0, inplace=True)\n",
    "        \n",
    "        # Purpose\n",
    "        df.loc[(df['Purpose'] != 'debt consolidation') & (df['Purpose'] != 'home improvements'), 'Purpose'] = 'other'\n",
    "        df = pd.get_dummies(df, columns=['Purpose'])\n",
    "        \n",
    "        # Credit Score\n",
    "#         df.loc[(df['Credit Score'] > self.Credit_Score_max) | (df['Credit Score'] < self.Credit_Score_min), 'Credit Score'] = None \n",
    "        df['Credit Score nan'] = 0\n",
    "        df.loc[df['Credit Score'].isna(), 'Credit Score nan'] = 1\n",
    "        df['Credit Score'].clip(upper=self.Credit_Score_max, lower=self.Credit_Score_min, axis=0, inplace=True)\n",
    "        \n",
    "    \n",
    "        # Annual Income\n",
    "#         df.loc[df['Annual Income'] > self.Annual_Income_max, 'Annual Income'] = None\n",
    "        df['Annual Income nan'] = 0\n",
    "        df.loc[df['Annual Income'].isna(), 'Annual Income nan'] = 1\n",
    "        df['Annual Income'].clip(upper=self.Annual_Income_max, axis=0, inplace=True)\n",
    "        \n",
    "        # Current Loan Amount\n",
    "#         df.loc[df['Current Loan Amount'] > self.Current_Loan_Amount_max, 'Current Loan Amount'] = None\n",
    "        df['Current Loan Amount outlier'] = 0\n",
    "        df.loc[df['Current Loan Amount'] > self.Current_Loan_Amount_max, 'Current Loan Amount outlier'] = 1\n",
    "        df['Current Loan Amount'].clip(upper=self.Current_Loan_Amount_max, axis=0, inplace=True)\n",
    "    \n",
    "        # Months since last delinquent\n",
    "        df['Months since last delinquent nan'] = 0\n",
    "        df.loc[df['Months since last delinquent'].isna(), 'Months since last delinquent nan'] = 1\n",
    "        df['Months since last delinquent'].clip(upper=self.Months_since_last_delinquent_max, axis=0, inplace=True)\n",
    "        \n",
    "        \n",
    "         \n",
    "        \n",
    "    # 3. Пропуски\n",
    "        \n",
    "        # Months since last delinquent\n",
    "        \n",
    "        df.loc[df['Months since last delinquent'].isna(), 'Months since last delinquent'] = self.Months_since_last_delinquent_max + 1\n",
    "        \n",
    "        # Заполнение оставшихся пропусков медианами\n",
    "        \n",
    "        df.fillna(self.medians, inplace=True)\n",
    "        \n",
    "        \n",
    "\n",
    "        return df"
   ]
  },
  {
   "cell_type": "code",
   "execution_count": 1257,
   "id": "304937b0",
   "metadata": {},
   "outputs": [],
   "source": [
    "X = df_train.drop(columns='Credit Default')"
   ]
  },
  {
   "cell_type": "code",
   "execution_count": 1258,
   "id": "686c2274",
   "metadata": {},
   "outputs": [],
   "source": [
    "y = df_train['Credit Default']"
   ]
  },
  {
   "cell_type": "markdown",
   "id": "670cdbe7",
   "metadata": {},
   "source": [
    "# Разбиение выборки"
   ]
  },
  {
   "cell_type": "code",
   "execution_count": 1259,
   "id": "a78ffd0c",
   "metadata": {},
   "outputs": [],
   "source": [
    "from sklearn.model_selection import train_test_split, KFold, GridSearchCV, cross_val_score,  RandomizedSearchCV\n",
    "\n",
    "# 3. Модели\n",
    "from sklearn.linear_model import LogisticRegression\n",
    "import xgboost as xgb, lightgbm as lgbm, catboost as catb\n",
    "from sklearn.preprocessing import StandardScaler\n",
    "\n",
    "# 4. Метрики качества\n",
    "from sklearn.metrics import classification_report, f1_score, precision_score, recall_score"
   ]
  },
  {
   "cell_type": "code",
   "execution_count": 1260,
   "id": "ceb9e93e",
   "metadata": {},
   "outputs": [],
   "source": [
    "X_train, X_test, y_train, y_test = train_test_split(X, y, test_size=0.25, shuffle=True, random_state=42)"
   ]
  },
  {
   "cell_type": "code",
   "execution_count": 1261,
   "id": "da85c37f",
   "metadata": {},
   "outputs": [],
   "source": [
    "data = Data()"
   ]
  },
  {
   "cell_type": "code",
   "execution_count": 1262,
   "id": "6261cd49",
   "metadata": {
    "scrolled": false
   },
   "outputs": [
    {
     "data": {
      "text/plain": [
       "(0, 0)"
      ]
     },
     "execution_count": 1262,
     "metadata": {},
     "output_type": "execute_result"
    }
   ],
   "source": [
    "data.fit(X_train)\n",
    "\n",
    "X_train = data.transform(X_train)\n",
    "X_test = data.transform(X_test)\n",
    "\n",
    "X_train.isna().sum().sum(), X_test.isna().sum().sum()"
   ]
  },
  {
   "cell_type": "markdown",
   "id": "fee74b21",
   "metadata": {},
   "source": [
    "# Балансировка"
   ]
  },
  {
   "cell_type": "code",
   "execution_count": 1263,
   "id": "7e144f85",
   "metadata": {},
   "outputs": [
    {
     "data": {
      "text/plain": [
       "0    4074\n",
       "1    1551\n",
       "Name: Credit Default, dtype: int64"
      ]
     },
     "execution_count": 1263,
     "metadata": {},
     "output_type": "execute_result"
    }
   ],
   "source": [
    "y_train.value_counts()"
   ]
  },
  {
   "cell_type": "code",
   "execution_count": 1264,
   "id": "33c1cece",
   "metadata": {},
   "outputs": [],
   "source": [
    "from imblearn.over_sampling import SMOTE\n",
    "\n",
    "sm = SMOTE(random_state=42)\n",
    "\n",
    "X_train, y_train = sm.fit_resample(X_train, y_train)"
   ]
  },
  {
   "cell_type": "code",
   "execution_count": 1265,
   "id": "8c009b27",
   "metadata": {},
   "outputs": [
    {
     "data": {
      "text/plain": [
       "0    4074\n",
       "1    4074\n",
       "Name: Credit Default, dtype: int64"
      ]
     },
     "execution_count": 1265,
     "metadata": {},
     "output_type": "execute_result"
    }
   ],
   "source": [
    "y_train.value_counts()"
   ]
  },
  {
   "cell_type": "markdown",
   "id": "6f1ddf30",
   "metadata": {},
   "source": [
    "# Нормализация"
   ]
  },
  {
   "cell_type": "code",
   "execution_count": 1266,
   "id": "baf05586",
   "metadata": {},
   "outputs": [],
   "source": [
    "NUMERIC_FEATURE_NAMES  = X_train.select_dtypes(include={'float', 'int'}).columns.to_list()"
   ]
  },
  {
   "cell_type": "code",
   "execution_count": 1267,
   "id": "3e1e55b5",
   "metadata": {},
   "outputs": [
    {
     "data": {
      "text/plain": [
       "['Annual Income',\n",
       " 'Years in current job',\n",
       " 'Tax Liens',\n",
       " 'Number of Open Accounts',\n",
       " 'Years of Credit History',\n",
       " 'Maximum Open Credit',\n",
       " 'Number of Credit Problems',\n",
       " 'Months since last delinquent',\n",
       " 'Bankruptcies',\n",
       " 'Current Loan Amount',\n",
       " 'Current Credit Balance',\n",
       " 'Monthly Debt',\n",
       " 'Credit Score',\n",
       " 'Current Credit Balance outlier',\n",
       " 'Credit Score nan',\n",
       " 'Annual Income nan',\n",
       " 'Current Loan Amount outlier',\n",
       " 'Months since last delinquent nan']"
      ]
     },
     "execution_count": 1267,
     "metadata": {},
     "output_type": "execute_result"
    }
   ],
   "source": [
    "NUMERIC_FEATURE_NAMES"
   ]
  },
  {
   "cell_type": "code",
   "execution_count": 1268,
   "id": "564f3e55",
   "metadata": {},
   "outputs": [],
   "source": [
    "scaler = StandardScaler()\n",
    "\n",
    "def scal(df):\n",
    "    df_norm = df.copy()\n",
    "    df_norm[NUMERIC_FEATURE_NAMES] = scaler.fit_transform(df_norm[NUMERIC_FEATURE_NAMES])\n",
    "\n",
    "    df = df_norm.copy()\n",
    "    \n",
    "    return df"
   ]
  },
  {
   "cell_type": "code",
   "execution_count": 1269,
   "id": "18020a73",
   "metadata": {},
   "outputs": [],
   "source": [
    "X_train = scal(X_train)\n",
    "X_test = scal(X_test)"
   ]
  },
  {
   "cell_type": "code",
   "execution_count": 1270,
   "id": "2afc498a",
   "metadata": {
    "scrolled": false
   },
   "outputs": [
    {
     "data": {
      "text/html": [
       "<div>\n",
       "<style scoped>\n",
       "    .dataframe tbody tr th:only-of-type {\n",
       "        vertical-align: middle;\n",
       "    }\n",
       "\n",
       "    .dataframe tbody tr th {\n",
       "        vertical-align: top;\n",
       "    }\n",
       "\n",
       "    .dataframe thead th {\n",
       "        text-align: right;\n",
       "    }\n",
       "</style>\n",
       "<table border=\"1\" class=\"dataframe\">\n",
       "  <thead>\n",
       "    <tr style=\"text-align: right;\">\n",
       "      <th></th>\n",
       "      <th>Annual Income</th>\n",
       "      <th>Years in current job</th>\n",
       "      <th>Tax Liens</th>\n",
       "      <th>Number of Open Accounts</th>\n",
       "      <th>Years of Credit History</th>\n",
       "      <th>Maximum Open Credit</th>\n",
       "      <th>Number of Credit Problems</th>\n",
       "      <th>Months since last delinquent</th>\n",
       "      <th>Bankruptcies</th>\n",
       "      <th>Current Loan Amount</th>\n",
       "      <th>...</th>\n",
       "      <th>Home Ownership_Own Home</th>\n",
       "      <th>Home Ownership_Rent</th>\n",
       "      <th>Current Credit Balance outlier</th>\n",
       "      <th>Purpose_debt consolidation</th>\n",
       "      <th>Purpose_home improvements</th>\n",
       "      <th>Purpose_other</th>\n",
       "      <th>Credit Score nan</th>\n",
       "      <th>Annual Income nan</th>\n",
       "      <th>Current Loan Amount outlier</th>\n",
       "      <th>Months since last delinquent nan</th>\n",
       "    </tr>\n",
       "  </thead>\n",
       "  <tbody>\n",
       "    <tr>\n",
       "      <th>970</th>\n",
       "      <td>1.528564</td>\n",
       "      <td>-0.011402</td>\n",
       "      <td>-0.126582</td>\n",
       "      <td>-0.422400</td>\n",
       "      <td>-1.113489</td>\n",
       "      <td>-0.599041</td>\n",
       "      <td>1.713251</td>\n",
       "      <td>-1.718700</td>\n",
       "      <td>2.626429</td>\n",
       "      <td>0.969664</td>\n",
       "      <td>...</td>\n",
       "      <td>0</td>\n",
       "      <td>0</td>\n",
       "      <td>-0.051709</td>\n",
       "      <td>1</td>\n",
       "      <td>0</td>\n",
       "      <td>0</td>\n",
       "      <td>-0.518272</td>\n",
       "      <td>-0.518272</td>\n",
       "      <td>-0.355142</td>\n",
       "      <td>-1.053144</td>\n",
       "    </tr>\n",
       "    <tr>\n",
       "      <th>6279</th>\n",
       "      <td>-0.219607</td>\n",
       "      <td>-0.285490</td>\n",
       "      <td>-0.126582</td>\n",
       "      <td>-0.631426</td>\n",
       "      <td>-0.617627</td>\n",
       "      <td>0.780106</td>\n",
       "      <td>-0.335439</td>\n",
       "      <td>0.852944</td>\n",
       "      <td>-0.324173</td>\n",
       "      <td>-0.853714</td>\n",
       "      <td>...</td>\n",
       "      <td>0</td>\n",
       "      <td>0</td>\n",
       "      <td>-0.051709</td>\n",
       "      <td>1</td>\n",
       "      <td>0</td>\n",
       "      <td>0</td>\n",
       "      <td>1.929487</td>\n",
       "      <td>1.929487</td>\n",
       "      <td>-0.355142</td>\n",
       "      <td>0.949538</td>\n",
       "    </tr>\n",
       "  </tbody>\n",
       "</table>\n",
       "<p>2 rows × 26 columns</p>\n",
       "</div>"
      ],
      "text/plain": [
       "      Annual Income  Years in current job  Tax Liens  Number of Open Accounts  \\\n",
       "970        1.528564             -0.011402  -0.126582                -0.422400   \n",
       "6279      -0.219607             -0.285490  -0.126582                -0.631426   \n",
       "\n",
       "      Years of Credit History  Maximum Open Credit  Number of Credit Problems  \\\n",
       "970                 -1.113489            -0.599041                   1.713251   \n",
       "6279                -0.617627             0.780106                  -0.335439   \n",
       "\n",
       "      Months since last delinquent  Bankruptcies  Current Loan Amount  ...  \\\n",
       "970                      -1.718700      2.626429             0.969664  ...   \n",
       "6279                      0.852944     -0.324173            -0.853714  ...   \n",
       "\n",
       "      Home Ownership_Own Home  Home Ownership_Rent  \\\n",
       "970                         0                    0   \n",
       "6279                        0                    0   \n",
       "\n",
       "      Current Credit Balance outlier  Purpose_debt consolidation  \\\n",
       "970                        -0.051709                           1   \n",
       "6279                       -0.051709                           1   \n",
       "\n",
       "      Purpose_home improvements  Purpose_other  Credit Score nan  \\\n",
       "970                           0              0         -0.518272   \n",
       "6279                          0              0          1.929487   \n",
       "\n",
       "      Annual Income nan  Current Loan Amount outlier  \\\n",
       "970           -0.518272                    -0.355142   \n",
       "6279           1.929487                    -0.355142   \n",
       "\n",
       "      Months since last delinquent nan  \n",
       "970                          -1.053144  \n",
       "6279                          0.949538  \n",
       "\n",
       "[2 rows x 26 columns]"
      ]
     },
     "execution_count": 1270,
     "metadata": {},
     "output_type": "execute_result"
    }
   ],
   "source": [
    "X_test.head(2)"
   ]
  },
  {
   "cell_type": "markdown",
   "id": "3efa960f",
   "metadata": {},
   "source": [
    "# Подбор признаков"
   ]
  },
  {
   "cell_type": "code",
   "execution_count": 1271,
   "id": "1306818e",
   "metadata": {},
   "outputs": [],
   "source": [
    "features = ['Annual Income',\n",
    "#             'Annual Income nan',\n",
    "#             'Years in current job',\n",
    "#             'Number of Open Accounts',\n",
    "#             'Years of Credit History',\n",
    "            'Maximum Open Credit',\n",
    "            'Number of Credit Problems',\n",
    "            'Months since last delinquent',\n",
    "#             'Months since last delinquent nan',\n",
    "            'Current Loan Amount',\n",
    "            'Current Loan Amount outlier',\n",
    "#             'Current Credit Balance',\n",
    "#             'Current Credit Balance outlier',\n",
    "            'Term_Short Term',\n",
    "            'Bankruptcies',\n",
    "#             'Tax Liens',\n",
    "            'Term_Long Term',\n",
    "            'Home Ownership_Home Mortgage',\n",
    "            'Home Ownership_Own Home',\n",
    "            'Home Ownership_Rent',\n",
    "            'Monthly Debt',\n",
    "            'Purpose_debt consolidation',\n",
    "            'Purpose_other',\n",
    "            'Purpose_home improvements',\n",
    "#             'Credit Score nan',\n",
    "            'Credit Score']"
   ]
  },
  {
   "cell_type": "code",
   "execution_count": 1272,
   "id": "8f88b738",
   "metadata": {},
   "outputs": [],
   "source": [
    "X_train, X_test = X_train[features], X_test[features]"
   ]
  },
  {
   "cell_type": "markdown",
   "id": "5a385bcb",
   "metadata": {},
   "source": [
    "# Построение модели"
   ]
  },
  {
   "cell_type": "code",
   "execution_count": 1273,
   "id": "7c3a2192",
   "metadata": {},
   "outputs": [],
   "source": [
    "def get_classification_report(y_train_true, y_train_pred, y_test_true, y_test_pred):\n",
    "    print('TRAIN\\n\\n' + classification_report(y_train_true, y_train_pred))\n",
    "    print('TEST\\n\\n' + classification_report(y_test_true, y_test_pred))\n",
    "    print('CONFUSION MATRIX\\n')\n",
    "    print(pd.crosstab(y_test_true, y_test_pred))"
   ]
  },
  {
   "cell_type": "code",
   "execution_count": 1274,
   "id": "7402eac7",
   "metadata": {
    "scrolled": false
   },
   "outputs": [
    {
     "name": "stdout",
     "output_type": "stream",
     "text": [
      "TRAIN\n",
      "\n",
      "              precision    recall  f1-score   support\n",
      "\n",
      "           0       0.86      0.97      0.91      4074\n",
      "           1       0.96      0.84      0.90      4074\n",
      "\n",
      "    accuracy                           0.90      8148\n",
      "   macro avg       0.91      0.90      0.90      8148\n",
      "weighted avg       0.91      0.90      0.90      8148\n",
      "\n",
      "TEST\n",
      "\n",
      "              precision    recall  f1-score   support\n",
      "\n",
      "           0       0.85      0.45      0.59      1313\n",
      "           1       0.39      0.82      0.53       562\n",
      "\n",
      "    accuracy                           0.56      1875\n",
      "   macro avg       0.62      0.64      0.56      1875\n",
      "weighted avg       0.71      0.56      0.57      1875\n",
      "\n",
      "CONFUSION MATRIX\n",
      "\n",
      "col_0             0    1\n",
      "Credit Default          \n",
      "0               597  716\n",
      "1               103  459\n"
     ]
    }
   ],
   "source": [
    "model_catb = catb.CatBoostClassifier(silent=True, random_state=21)\n",
    "model_catb.fit(X_train, y_train)\n",
    "\n",
    "y_train_pred = model_catb.predict(X_train)\n",
    "y_test_pred = model_catb.predict(X_test)\n",
    "\n",
    "get_classification_report(y_train, y_train_pred, y_test, y_test_pred)"
   ]
  },
  {
   "cell_type": "code",
   "execution_count": 1275,
   "id": "419e71c5",
   "metadata": {
    "scrolled": false
   },
   "outputs": [
    {
     "name": "stdout",
     "output_type": "stream",
     "text": [
      "[22:43:53] WARNING: C:/Users/Administrator/workspace/xgboost-win64_release_1.4.0/src/learner.cc:1095: Starting in XGBoost 1.3.0, the default evaluation metric used with the objective 'binary:logistic' was changed from 'error' to 'logloss'. Explicitly set eval_metric if you'd like to restore the old behavior.\n",
      "TRAIN\n",
      "\n",
      "              precision    recall  f1-score   support\n",
      "\n",
      "           0       0.93      0.99      0.96      4074\n",
      "           1       0.99      0.93      0.96      4074\n",
      "\n",
      "    accuracy                           0.96      8148\n",
      "   macro avg       0.96      0.96      0.96      8148\n",
      "weighted avg       0.96      0.96      0.96      8148\n",
      "\n",
      "TEST\n",
      "\n",
      "              precision    recall  f1-score   support\n",
      "\n",
      "           0       0.94      0.19      0.32      1313\n",
      "           1       0.34      0.97      0.51       562\n",
      "\n",
      "    accuracy                           0.43      1875\n",
      "   macro avg       0.64      0.58      0.41      1875\n",
      "weighted avg       0.76      0.43      0.38      1875\n",
      "\n",
      "CONFUSION MATRIX\n",
      "\n",
      "col_0             0     1\n",
      "Credit Default           \n",
      "0               256  1057\n",
      "1                15   547\n"
     ]
    }
   ],
   "source": [
    "model_xgb = xgb.XGBClassifier()\n",
    "model_xgb.fit(X_train, y_train)\n",
    "\n",
    "y_train_pred = model_xgb.predict(X_train)\n",
    "y_test_pred = model_xgb.predict(X_test)\n",
    "\n",
    "get_classification_report(y_train, y_train_pred, y_test, y_test_pred)"
   ]
  },
  {
   "cell_type": "code",
   "execution_count": 1276,
   "id": "e459db73",
   "metadata": {
    "scrolled": false
   },
   "outputs": [
    {
     "name": "stdout",
     "output_type": "stream",
     "text": [
      "TRAIN\n",
      "\n",
      "              precision    recall  f1-score   support\n",
      "\n",
      "           0       0.86      0.97      0.91      4074\n",
      "           1       0.96      0.84      0.90      4074\n",
      "\n",
      "    accuracy                           0.90      8148\n",
      "   macro avg       0.91      0.90      0.90      8148\n",
      "weighted avg       0.91      0.90      0.90      8148\n",
      "\n",
      "TEST\n",
      "\n",
      "              precision    recall  f1-score   support\n",
      "\n",
      "           0       0.91      0.27      0.41      1313\n",
      "           1       0.35      0.94      0.51       562\n",
      "\n",
      "    accuracy                           0.47      1875\n",
      "   macro avg       0.63      0.60      0.46      1875\n",
      "weighted avg       0.74      0.47      0.44      1875\n",
      "\n",
      "CONFUSION MATRIX\n",
      "\n",
      "col_0             0    1\n",
      "Credit Default          \n",
      "0               353  960\n",
      "1                36  526\n"
     ]
    }
   ],
   "source": [
    "model_lgbm = lgbm.LGBMClassifier(random_state=21)\n",
    "model_lgbm.fit(X_train, y_train)\n",
    "\n",
    "y_train_pred = model_lgbm.predict(X_train)\n",
    "y_test_pred = model_lgbm.predict(X_test)\n",
    "\n",
    "get_classification_report(y_train, y_train_pred, y_test, y_test_pred)"
   ]
  },
  {
   "cell_type": "markdown",
   "id": "7ef65ace",
   "metadata": {},
   "source": [
    "# Финальная модель"
   ]
  },
  {
   "cell_type": "code",
   "execution_count": 1277,
   "id": "48ff8176",
   "metadata": {},
   "outputs": [],
   "source": [
    "model_catb = catb.CatBoostClassifier(silent=True, random_state=21)"
   ]
  },
  {
   "cell_type": "code",
   "execution_count": 1278,
   "id": "330387ca",
   "metadata": {},
   "outputs": [],
   "source": [
    "# params = {'n_estimators':[100, 500, 1000, 3000, 7000], \n",
    "#           'max_depth':[5, 6, 7, 9],\n",
    "#           'learning_rate':[0.01, 0.001],\n",
    "#          'l2_leaf_reg':[0.01, 0.1, 1, 10, 100]}"
   ]
  },
  {
   "cell_type": "code",
   "execution_count": 1279,
   "id": "bac2e8f1",
   "metadata": {},
   "outputs": [],
   "source": [
    "# cv=KFold(n_splits=3, shuffle=True)"
   ]
  },
  {
   "cell_type": "code",
   "execution_count": 1280,
   "id": "643456a4",
   "metadata": {},
   "outputs": [],
   "source": [
    "# %%time\n",
    "\n",
    "# rs = GridSearchCV(model_catb, params, scoring='f1', cv=cv, n_jobs=-1)\n",
    "# rs.fit(X_train, y_train)"
   ]
  },
  {
   "cell_type": "code",
   "execution_count": 1281,
   "id": "37a88ffc",
   "metadata": {},
   "outputs": [],
   "source": [
    "# rs.best_params_"
   ]
  },
  {
   "cell_type": "code",
   "execution_count": 1282,
   "id": "5d942e7b",
   "metadata": {},
   "outputs": [],
   "source": [
    "# rs.best_score_"
   ]
  },
  {
   "cell_type": "code",
   "execution_count": 1291,
   "id": "94d00ec4",
   "metadata": {},
   "outputs": [
    {
     "name": "stdout",
     "output_type": "stream",
     "text": [
      "TRAIN\n",
      "\n",
      "              precision    recall  f1-score   support\n",
      "\n",
      "           0       0.78      0.93      0.85      4074\n",
      "           1       0.92      0.73      0.81      4074\n",
      "\n",
      "    accuracy                           0.83      8148\n",
      "   macro avg       0.85      0.83      0.83      8148\n",
      "weighted avg       0.85      0.83      0.83      8148\n",
      "\n",
      "TEST\n",
      "\n",
      "              precision    recall  f1-score   support\n",
      "\n",
      "           0       0.81      0.68      0.74      1313\n",
      "           1       0.46      0.62      0.53       562\n",
      "\n",
      "    accuracy                           0.66      1875\n",
      "   macro avg       0.63      0.65      0.63      1875\n",
      "weighted avg       0.70      0.66      0.68      1875\n",
      "\n",
      "CONFUSION MATRIX\n",
      "\n",
      "col_0             0    1\n",
      "Credit Default          \n",
      "0               895  418\n",
      "1               213  349\n",
      "Wall time: 28.3 s\n"
     ]
    }
   ],
   "source": [
    "%%time\n",
    "\n",
    "final_model = catb.CatBoostClassifier(n_estimators=7000, max_depth=5, learning_rate=0.001, l2_leaf_reg=1,\n",
    "                                      random_state=21, silent=True)\n",
    "final_model.fit(X_train, y_train)\n",
    "\n",
    "y_train_pred = final_model.predict(X_train)\n",
    "y_test_pred = final_model.predict(X_test)\n",
    "\n",
    "get_classification_report(y_train, y_train_pred, y_test, y_test_pred)"
   ]
  },
  {
   "cell_type": "code",
   "execution_count": 1292,
   "id": "3e06a559",
   "metadata": {},
   "outputs": [],
   "source": [
    "feature_importances = pd.DataFrame(zip(X_train.columns, \n",
    "                                       final_model.feature_importances_), \n",
    "                                   columns=['feature_name', 'importance'])\n",
    "\n",
    "feature_importances.sort_values(by='importance', ascending=False, inplace=True)"
   ]
  },
  {
   "cell_type": "code",
   "execution_count": 1293,
   "id": "27c86da5",
   "metadata": {},
   "outputs": [
    {
     "data": {
      "text/html": [
       "<div>\n",
       "<style scoped>\n",
       "    .dataframe tbody tr th:only-of-type {\n",
       "        vertical-align: middle;\n",
       "    }\n",
       "\n",
       "    .dataframe tbody tr th {\n",
       "        vertical-align: top;\n",
       "    }\n",
       "\n",
       "    .dataframe thead th {\n",
       "        text-align: right;\n",
       "    }\n",
       "</style>\n",
       "<table border=\"1\" class=\"dataframe\">\n",
       "  <thead>\n",
       "    <tr style=\"text-align: right;\">\n",
       "      <th></th>\n",
       "      <th>feature_name</th>\n",
       "      <th>importance</th>\n",
       "    </tr>\n",
       "  </thead>\n",
       "  <tbody>\n",
       "    <tr>\n",
       "      <th>9</th>\n",
       "      <td>Home Ownership_Home Mortgage</td>\n",
       "      <td>15.176898</td>\n",
       "    </tr>\n",
       "    <tr>\n",
       "      <th>11</th>\n",
       "      <td>Home Ownership_Rent</td>\n",
       "      <td>13.171579</td>\n",
       "    </tr>\n",
       "    <tr>\n",
       "      <th>6</th>\n",
       "      <td>Term_Short Term</td>\n",
       "      <td>11.592761</td>\n",
       "    </tr>\n",
       "    <tr>\n",
       "      <th>13</th>\n",
       "      <td>Purpose_debt consolidation</td>\n",
       "      <td>8.336330</td>\n",
       "    </tr>\n",
       "    <tr>\n",
       "      <th>8</th>\n",
       "      <td>Term_Long Term</td>\n",
       "      <td>6.604123</td>\n",
       "    </tr>\n",
       "    <tr>\n",
       "      <th>5</th>\n",
       "      <td>Current Loan Amount outlier</td>\n",
       "      <td>6.244854</td>\n",
       "    </tr>\n",
       "    <tr>\n",
       "      <th>2</th>\n",
       "      <td>Number of Credit Problems</td>\n",
       "      <td>6.139652</td>\n",
       "    </tr>\n",
       "    <tr>\n",
       "      <th>10</th>\n",
       "      <td>Home Ownership_Own Home</td>\n",
       "      <td>6.072086</td>\n",
       "    </tr>\n",
       "    <tr>\n",
       "      <th>16</th>\n",
       "      <td>Credit Score</td>\n",
       "      <td>5.294997</td>\n",
       "    </tr>\n",
       "    <tr>\n",
       "      <th>14</th>\n",
       "      <td>Purpose_other</td>\n",
       "      <td>5.215363</td>\n",
       "    </tr>\n",
       "    <tr>\n",
       "      <th>4</th>\n",
       "      <td>Current Loan Amount</td>\n",
       "      <td>4.218241</td>\n",
       "    </tr>\n",
       "    <tr>\n",
       "      <th>7</th>\n",
       "      <td>Bankruptcies</td>\n",
       "      <td>3.371692</td>\n",
       "    </tr>\n",
       "    <tr>\n",
       "      <th>15</th>\n",
       "      <td>Purpose_home improvements</td>\n",
       "      <td>2.973816</td>\n",
       "    </tr>\n",
       "    <tr>\n",
       "      <th>3</th>\n",
       "      <td>Months since last delinquent</td>\n",
       "      <td>2.197909</td>\n",
       "    </tr>\n",
       "    <tr>\n",
       "      <th>0</th>\n",
       "      <td>Annual Income</td>\n",
       "      <td>1.640058</td>\n",
       "    </tr>\n",
       "    <tr>\n",
       "      <th>12</th>\n",
       "      <td>Monthly Debt</td>\n",
       "      <td>0.916049</td>\n",
       "    </tr>\n",
       "    <tr>\n",
       "      <th>1</th>\n",
       "      <td>Maximum Open Credit</td>\n",
       "      <td>0.833591</td>\n",
       "    </tr>\n",
       "  </tbody>\n",
       "</table>\n",
       "</div>"
      ],
      "text/plain": [
       "                    feature_name  importance\n",
       "9   Home Ownership_Home Mortgage   15.176898\n",
       "11           Home Ownership_Rent   13.171579\n",
       "6                Term_Short Term   11.592761\n",
       "13    Purpose_debt consolidation    8.336330\n",
       "8                 Term_Long Term    6.604123\n",
       "5    Current Loan Amount outlier    6.244854\n",
       "2      Number of Credit Problems    6.139652\n",
       "10       Home Ownership_Own Home    6.072086\n",
       "16                  Credit Score    5.294997\n",
       "14                 Purpose_other    5.215363\n",
       "4            Current Loan Amount    4.218241\n",
       "7                   Bankruptcies    3.371692\n",
       "15     Purpose_home improvements    2.973816\n",
       "3   Months since last delinquent    2.197909\n",
       "0                  Annual Income    1.640058\n",
       "12                  Monthly Debt    0.916049\n",
       "1            Maximum Open Credit    0.833591"
      ]
     },
     "execution_count": 1293,
     "metadata": {},
     "output_type": "execute_result"
    }
   ],
   "source": [
    "feature_importances"
   ]
  },
  {
   "cell_type": "code",
   "execution_count": 1294,
   "id": "b29cc3cb",
   "metadata": {},
   "outputs": [],
   "source": [
    "def show_feature_importances(feature_names, feature_importances, get_top=None):\n",
    "    feature_importances = pd.DataFrame({'feature': feature_names, 'importance': feature_importances})\n",
    "    feature_importances = feature_importances.sort_values('importance', ascending=False)\n",
    "       \n",
    "    plt.figure(figsize = (8, len(feature_importances) * 0.355))\n",
    "    \n",
    "    sns.barplot(feature_importances['importance'], feature_importances['feature'])\n",
    "    \n",
    "    plt.xlabel('Importance')\n",
    "    plt.title('Importance of features')\n",
    "    plt.show()\n",
    "    \n",
    "    if get_top is not None:\n",
    "        return feature_importances['feature'][:get_top].tolist()"
   ]
  },
  {
   "cell_type": "code",
   "execution_count": 1295,
   "id": "eec29726",
   "metadata": {},
   "outputs": [
    {
     "data": {
      "image/png": "[encoded data removed]",
      "text/plain": [
       "<Figure size 576x434.52 with 1 Axes>"
      ]
     },
     "metadata": {
      "needs_background": "light"
     },
     "output_type": "display_data"
    }
   ],
   "source": [
    "important_features_top = show_feature_importances(X_train.columns, final_model.feature_importances_, get_top=15)"
   ]
  },
  {
   "cell_type": "code",
   "execution_count": null,
   "id": "a3f736aa",
   "metadata": {},
   "outputs": [],
   "source": []
  }
 ],
 "metadata": {
  "kernelspec": {
   "display_name": "Python 3 (ipykernel)",
   "language": "python",
   "name": "python3"
  },
  "language_info": {
   "codemirror_mode": {
    "name": "ipython",
    "version": 3
   },
   "file_extension": ".py",
   "mimetype": "text/x-python",
   "name": "python",
   "nbconvert_exporter": "python",
   "pygments_lexer": "ipython3",
   "version": "3.9.2"
  }
 },
 "nbformat": 4,
 "nbformat_minor": 5
}
