{
 "cells": [
  {
   "cell_type": "code",
   "execution_count": 7,
   "id": "1fcdc31e",
   "metadata": {},
   "outputs": [
    {
     "ename": "AttributeError",
     "evalue": "partially initialized module 'pandas' has no attribute 'core' (most likely due to a circular import)",
     "output_type": "error",
     "traceback": [
      "\u001b[1;31m---------------------------------------------------------------------------\u001b[0m",
      "\u001b[1;31mAttributeError\u001b[0m                            Traceback (most recent call last)",
      "\u001b[1;32m~\\AppData\\Local\\Temp/ipykernel_3560/1995812519.py\u001b[0m in \u001b[0;36m<module>\u001b[1;34m\u001b[0m\n\u001b[1;32m----> 1\u001b[1;33m \u001b[1;32mimport\u001b[0m \u001b[0mpandas\u001b[0m \u001b[1;32mas\u001b[0m \u001b[0mpd\u001b[0m\u001b[1;33m\u001b[0m\u001b[1;33m\u001b[0m\u001b[0m\n\u001b[0m\u001b[0;32m      2\u001b[0m \u001b[1;32mimport\u001b[0m \u001b[0mnumpy\u001b[0m \u001b[1;32mas\u001b[0m \u001b[0mnp\u001b[0m\u001b[1;33m\u001b[0m\u001b[1;33m\u001b[0m\u001b[0m\n\u001b[0;32m      3\u001b[0m \u001b[1;32mimport\u001b[0m \u001b[0mseaborn\u001b[0m \u001b[1;32mas\u001b[0m \u001b[0msns\u001b[0m\u001b[1;33m\u001b[0m\u001b[1;33m\u001b[0m\u001b[0m\n\u001b[0;32m      4\u001b[0m \u001b[1;32mimport\u001b[0m \u001b[0mmatplotlib\u001b[0m\u001b[1;33m.\u001b[0m\u001b[0mpyplot\u001b[0m \u001b[1;32mas\u001b[0m \u001b[0mplt\u001b[0m\u001b[1;33m\u001b[0m\u001b[1;33m\u001b[0m\u001b[0m\n\u001b[0;32m      5\u001b[0m \u001b[1;33m\u001b[0m\u001b[0m\n",
      "\u001b[1;32m~\\AppData\\Roaming\\Python\\Python39\\site-packages\\pandas\\__init__.py\u001b[0m in \u001b[0;36m<module>\u001b[1;34m\u001b[0m\n\u001b[0;32m    177\u001b[0m \u001b[1;33m\u001b[0m\u001b[0m\n\u001b[0;32m    178\u001b[0m \u001b[1;32mfrom\u001b[0m \u001b[0mpandas\u001b[0m\u001b[1;33m.\u001b[0m\u001b[0mutil\u001b[0m\u001b[1;33m.\u001b[0m\u001b[0m_tester\u001b[0m \u001b[1;32mimport\u001b[0m \u001b[0mtest\u001b[0m\u001b[1;33m\u001b[0m\u001b[1;33m\u001b[0m\u001b[0m\n\u001b[1;32m--> 179\u001b[1;33m \u001b[1;32mimport\u001b[0m \u001b[0mpandas\u001b[0m\u001b[1;33m.\u001b[0m\u001b[0mtesting\u001b[0m\u001b[1;33m\u001b[0m\u001b[1;33m\u001b[0m\u001b[0m\n\u001b[0m\u001b[0;32m    180\u001b[0m \u001b[1;32mimport\u001b[0m \u001b[0mpandas\u001b[0m\u001b[1;33m.\u001b[0m\u001b[0marrays\u001b[0m\u001b[1;33m\u001b[0m\u001b[1;33m\u001b[0m\u001b[0m\n\u001b[0;32m    181\u001b[0m \u001b[1;33m\u001b[0m\u001b[0m\n",
      "\u001b[1;32m~\\AppData\\Roaming\\Python\\Python39\\site-packages\\pandas\\testing.py\u001b[0m in \u001b[0;36m<module>\u001b[1;34m\u001b[0m\n\u001b[0;32m      4\u001b[0m \u001b[1;33m\u001b[0m\u001b[0m\n\u001b[0;32m      5\u001b[0m \u001b[1;33m\u001b[0m\u001b[0m\n\u001b[1;32m----> 6\u001b[1;33m from pandas._testing import (\n\u001b[0m\u001b[0;32m      7\u001b[0m     \u001b[0massert_extension_array_equal\u001b[0m\u001b[1;33m,\u001b[0m\u001b[1;33m\u001b[0m\u001b[1;33m\u001b[0m\u001b[0m\n\u001b[0;32m      8\u001b[0m     \u001b[0massert_frame_equal\u001b[0m\u001b[1;33m,\u001b[0m\u001b[1;33m\u001b[0m\u001b[1;33m\u001b[0m\u001b[0m\n",
      "\u001b[1;32m~\\AppData\\Roaming\\Python\\Python39\\site-packages\\pandas\\_testing\\__init__.py\u001b[0m in \u001b[0;36m<module>\u001b[1;34m\u001b[0m\n\u001b[0;32m    946\u001b[0m \u001b[1;33m\u001b[0m\u001b[0m\n\u001b[0;32m    947\u001b[0m \u001b[1;33m\u001b[0m\u001b[0m\n\u001b[1;32m--> 948\u001b[1;33m \u001b[0mcython_table\u001b[0m \u001b[1;33m=\u001b[0m \u001b[0mpd\u001b[0m\u001b[1;33m.\u001b[0m\u001b[0mcore\u001b[0m\u001b[1;33m.\u001b[0m\u001b[0mcommon\u001b[0m\u001b[1;33m.\u001b[0m\u001b[0m_cython_table\u001b[0m\u001b[1;33m.\u001b[0m\u001b[0mitems\u001b[0m\u001b[1;33m(\u001b[0m\u001b[1;33m)\u001b[0m\u001b[1;33m\u001b[0m\u001b[1;33m\u001b[0m\u001b[0m\n\u001b[0m\u001b[0;32m    949\u001b[0m \u001b[1;33m\u001b[0m\u001b[0m\n\u001b[0;32m    950\u001b[0m \u001b[1;33m\u001b[0m\u001b[0m\n",
      "\u001b[1;31mAttributeError\u001b[0m: partially initialized module 'pandas' has no attribute 'core' (most likely due to a circular import)"
     ]
    }
   ],
   "source": [
    "import pandas as pd\n",
    "import numpy as np\n",
    "import seaborn as sns\n",
    "import matplotlib.pyplot as plt\n",
    "\n",
    "%matplotlib inline\n",
    "\n",
    "import warnings\n",
    "warnings.simplefilter('ignore')"
   ]
  },
  {
   "cell_type": "code",
   "execution_count": null,
   "id": "38931dc1",
   "metadata": {},
   "outputs": [],
   "source": [
    "TRAIN_DATASET_PATH = './course_project_train.csv'\n",
    "TEST_DATASET_PATH = './course_project_test.csv'"
   ]
  },
  {
   "cell_type": "code",
   "execution_count": null,
   "id": "78955f46",
   "metadata": {},
   "outputs": [],
   "source": [
    "df_train = pd.read_csv(TRAIN_DATASET_PATH)\n",
    "\n",
    "df_test = pd.read_csv(TEST_DATASET_PATH)\n",
    "\n",
    "df_train.shape, df_test.shape"
   ]
  },
  {
   "cell_type": "code",
   "execution_count": null,
   "id": "f75da229",
   "metadata": {},
   "outputs": [],
   "source": [
    "class Data:\n",
    "    \"\"\"Подготовка исходных данных\"\"\"\n",
    "    \n",
    "    def __init__(self):\n",
    "        \"\"\"Параметры класса\"\"\"\n",
    "        self.medians = None\n",
    "        self.years_mode = None\n",
    "        self.years_to_numbers = None\n",
    "        self.Years_of_Credit_History_max = None\n",
    "        self.Annual_Income_condition = None\n",
    "        self.Maximum_Open_Credit_min = None\n",
    "        self.Maximum_Open_Credit_max = None\n",
    "        self.condition_last_delinquent = None\n",
    "        self.Current_Loan_Amount_max = None\n",
    "        self.Credit_Score_max = None\n",
    "        self.condition_Credit_Score = None\n",
    "        self.Credit_Score_min = None\n",
    "        self.Annual_Income_max = None\n",
    "        self.Monthly_Debt_max = None\n",
    "        self.Months_since_last_delinquent_max = None\n",
    "        \n",
    "        \n",
    "    def fit(self, df):\n",
    "        \n",
    "        \n",
    "        # Расчет медиан\n",
    "        self.medians = df.median()\n",
    "        \n",
    "        \n",
    "        self.years_mode = df['Years in current job'].mode()[0]\n",
    "        \n",
    "        self.years_to_numbers = {'< 1 year': 0,\n",
    "                                 '1 year': 1,\n",
    "                                 '2 years': 2,\n",
    "                                 '3 years': 3,\n",
    "                                 '4 years': 4,\n",
    "                                 '5 years': 5,\n",
    "                                 '6 years': 6,\n",
    "                                 '7 years': 7,\n",
    "                                 '8 years': 8,\n",
    "                                 '9 years': 9,\n",
    "                                 '10+ years': 10}\n",
    "        \n",
    "        self.Years_of_Credit_History_max = 45\n",
    "        \n",
    "        self.Annual_Income_max = 6000000\n",
    "       \n",
    "        self.Maximum_Open_Credit_max = 1500000\n",
    "        \n",
    "        \n",
    "        self.Credit_Score_max = 751\n",
    "        self.Credit_Score_min = 600\n",
    "       \n",
    "        self.Monthly_Debt_max = 48000\n",
    "        self.Monthly_Debt_min = 0\n",
    "        \n",
    "        self.Current_Loan_Amount_max = 900000\n",
    "        \n",
    "        self.Current_Credit_Balance_max = 800000\n",
    "        \n",
    "        self.Number_of_Open_Accounts_max = 25\n",
    "        \n",
    "        self.Months_since_last_delinquent_max = 95\n",
    "       \n",
    "        \n",
    "    def transform(self, df):\n",
    "        \"\"\"Трансформация данных\"\"\"\n",
    "            \n",
    "    # 1. Изменение типа\n",
    "\n",
    "        # Term, Home Ownership\n",
    "        df.loc[(df['Home Ownership'] == 'Have Mortgage'), 'Home Ownership'] = 'Home Mortgage' # объединение одинаковых по смыслу свойства признака\n",
    "        df = pd.get_dummies(df, columns=['Term'])\n",
    "        df = pd.get_dummies(df, columns=['Home Ownership'])\n",
    "#         df.drop(['Home Ownership'], axis=1, inplace=True)\n",
    "#         df.drop(['Term'], axis=1, inplace=True)\n",
    "        \n",
    "        # Years in current job\n",
    "        df['Years in current job'].fillna(self.years_mode, inplace=True) # заполнение пропусков наиболее часто встречающимися значениями\n",
    "        df['Years in current job'].replace(self.years_to_numbers, inplace=True)\n",
    "#         df.drop('Years in current job', axis=1, inplace=True)\n",
    "    \n",
    "    \n",
    "    # 2. Выбросы (outliers)\n",
    "    \n",
    "        # Number of Open Accounts\n",
    "#         df.loc[df['Number of Open Accounts'] > self.Number_of_Open_Accounts_max, 'Number of Open Accounts'] = None\n",
    "        df['Number of Open Accounts'].clip(upper=self.Number_of_Open_Accounts_max, axis=0, inplace=True)\n",
    "        \n",
    "        # Current Credit Balance\n",
    "        df['Current Credit Balance outlier'] = 0\n",
    "        df.loc[df['Current Credit Balance'] > self.Current_Credit_Balance_max, 'Current Credit Balance outlier'] = 1\n",
    "#         df.loc[(df['Current Credit Balance'] > self.Current_Credit_Balance_max), 'Current Credit Balance'] = None\n",
    "        df['Current Credit Balance'].clip(upper=self.Current_Credit_Balance_max, axis=0, inplace=True)\n",
    "\n",
    "    \n",
    "        # Years of Credit History\n",
    "#         df.loc[(df['Years of Credit History'] > self.Years_of_Credit_History_max), 'Years of Credit History'] = None\n",
    "        df['Years of Credit History'].clip(upper=self.Years_of_Credit_History_max, axis=0, inplace=True)\n",
    "        \n",
    "        # Maximum Open Credit\n",
    "#         df.loc[df['Maximum Open Credit'] > self.Maximum_Open_Credit_max, 'Maximum Open Credit'] = None\n",
    "        df['Maximum Open Credit'].clip(upper=self.Maximum_Open_Credit_max, axis=0, inplace=True)\n",
    "        \n",
    "        # Monthly Debt\n",
    "#         df.loc[(df['Monthly Debt'] > self.Monthly_Debt_max), 'Monthly Debt'] = None\n",
    "        df['Monthly Debt'].clip(upper=self.Monthly_Debt_max, lower= self.Monthly_Debt_min, axis=0, inplace=True)\n",
    "        \n",
    "        # Purpose\n",
    "        df.loc[(df['Purpose'] != 'debt consolidation') & (df['Purpose'] != 'home improvements'), 'Purpose'] = 'other'\n",
    "        df = pd.get_dummies(df, columns=['Purpose'])\n",
    "#         df.drop('Purpose', axis=1, inplace=True)\n",
    "        \n",
    "        # Credit Score\n",
    "#         df.loc[(df['Credit Score'] > self.Credit_Score_max) | (df['Credit Score'] < self.Credit_Score_min), 'Credit Score'] = None \n",
    "        df['Credit Score nan'] = 0\n",
    "        df.loc[df['Credit Score'].isna(), 'Credit Score nan'] = 1\n",
    "        df['Credit Score'].clip(upper=self.Credit_Score_max, lower=self.Credit_Score_min, axis=0, inplace=True)\n",
    "        \n",
    "    \n",
    "        # Annual Income\n",
    "#         df.loc[df['Annual Income'] > self.Annual_Income_max, 'Annual Income'] = None\n",
    "        df['Annual Income nan'] = 0\n",
    "        df.loc[df['Annual Income'].isna(), 'Annual Income nan'] = 1\n",
    "        df['Annual Income'].clip(upper=self.Annual_Income_max, axis=0, inplace=True)\n",
    "        \n",
    "        # Current Loan Amount\n",
    "#         df.loc[df['Current Loan Amount'] > self.Current_Loan_Amount_max, 'Current Loan Amount'] = None\n",
    "        df['Current Loan Amount outlier'] = 0\n",
    "        df.loc[df['Current Loan Amount'] > self.Current_Loan_Amount_max, 'Current Loan Amount outlier'] = 1\n",
    "        df['Current Loan Amount'].clip(upper=self.Current_Loan_Amount_max, axis=0, inplace=True)\n",
    "    \n",
    "        # Months since last delinquent\n",
    "        df['Months since last delinquent nan'] = 0\n",
    "        df.loc[df['Months since last delinquent'].isna(), 'Months since last delinquent nan'] = 1\n",
    "        df['Months since last delinquent'].clip(upper=self.Months_since_last_delinquent_max, axis=0, inplace=True)\n",
    "        \n",
    "        \n",
    "\n",
    "        \n",
    "        \n",
    "        \n",
    "         \n",
    "        \n",
    "    # 3. Пропуски\n",
    "        \n",
    "        \n",
    "        # Заполнение оставшихся пропусков медианами\n",
    "        \n",
    "        df.fillna(self.medians, inplace=True)\n",
    "        \n",
    "        \n",
    "\n",
    "        return df"
   ]
  },
  {
   "cell_type": "code",
   "execution_count": null,
   "id": "304937b0",
   "metadata": {},
   "outputs": [],
   "source": [
    "X = df_train.drop(columns='Credit Default')"
   ]
  },
  {
   "cell_type": "code",
   "execution_count": null,
   "id": "686c2274",
   "metadata": {},
   "outputs": [],
   "source": [
    "y = df_train['Credit Default']"
   ]
  },
  {
   "cell_type": "markdown",
   "id": "670cdbe7",
   "metadata": {},
   "source": [
    "# Разбиение выборки"
   ]
  },
  {
   "cell_type": "code",
   "execution_count": null,
   "id": "a78ffd0c",
   "metadata": {},
   "outputs": [],
   "source": [
    "from sklearn.model_selection import train_test_split, KFold, GridSearchCV, cross_val_score,  RandomizedSearchCV\n",
    "\n",
    "# 3. Модели\n",
    "from sklearn.linear_model import LogisticRegression\n",
    "import xgboost as xgb, lightgbm as lgbm, catboost as catb\n",
    "from sklearn.preprocessing import StandardScaler\n",
    "\n",
    "# 4. Метрики качества\n",
    "from sklearn.metrics import classification_report, f1_score, precision_score, recall_score"
   ]
  },
  {
   "cell_type": "code",
   "execution_count": null,
   "id": "ceb9e93e",
   "metadata": {},
   "outputs": [],
   "source": [
    "X_train, X_test, y_train, y_test = train_test_split(X, y, test_size=0.25, shuffle=True)"
   ]
  },
  {
   "cell_type": "code",
   "execution_count": null,
   "id": "da85c37f",
   "metadata": {},
   "outputs": [],
   "source": [
    "data = Data()"
   ]
  },
  {
   "cell_type": "code",
   "execution_count": null,
   "id": "6261cd49",
   "metadata": {
    "scrolled": false
   },
   "outputs": [],
   "source": [
    "data.fit(X_train)\n",
    "\n",
    "X_train = data.transform(X_train)\n",
    "X_test = data.transform(X_test)\n",
    "\n",
    "X_train.isna().sum().sum(), X_test.isna().sum().sum()"
   ]
  },
  {
   "cell_type": "markdown",
   "id": "fee74b21",
   "metadata": {},
   "source": [
    "# Балансировка"
   ]
  },
  {
   "cell_type": "code",
   "execution_count": null,
   "id": "7e144f85",
   "metadata": {},
   "outputs": [],
   "source": [
    "y_train.value_counts()"
   ]
  },
  {
   "cell_type": "code",
   "execution_count": null,
   "id": "9c5ea9da",
   "metadata": {},
   "outputs": [],
   "source": [
    "TARGET_NAME = 'Credit Default'"
   ]
  },
  {
   "cell_type": "code",
   "execution_count": null,
   "id": "d9927c1d",
   "metadata": {},
   "outputs": [],
   "source": [
    "def balance_df_by_target(df, target_name):\n",
    "\n",
    "    target_counts = df[target_name].value_counts()\n",
    "\n",
    "    major_class_name = target_counts.argmax()\n",
    "    minor_class_name = target_counts.argmin()\n",
    "\n",
    "    disbalance_coeff = int(target_counts[major_class_name] / target_counts[minor_class_name]) - 1\n",
    "\n",
    "    for i in range(disbalance_coeff):\n",
    "        sample = df[df[target_name] == minor_class_name].sample(target_counts[minor_class_name])\n",
    "        df = df.append(sample, ignore_index=True)\n",
    "\n",
    "    return df.sample(frac=1)"
   ]
  },
  {
   "cell_type": "code",
   "execution_count": null,
   "id": "9bf8f043",
   "metadata": {},
   "outputs": [],
   "source": [
    "df_for_balancing = pd.concat([X_train, y_train], axis=1)\n",
    "df_for_balancing"
   ]
  },
  {
   "cell_type": "code",
   "execution_count": null,
   "id": "fd4ba995",
   "metadata": {},
   "outputs": [],
   "source": [
    "df_balanced = balance_df_by_target(df_for_balancing, TARGET_NAME)\n",
    "    \n",
    "df_balanced[TARGET_NAME].value_counts()"
   ]
  },
  {
   "cell_type": "code",
   "execution_count": null,
   "id": "8067ade8",
   "metadata": {},
   "outputs": [],
   "source": [
    "df_balanced"
   ]
  },
  {
   "cell_type": "code",
   "execution_count": 8,
   "id": "6bc12c17",
   "metadata": {},
   "outputs": [
    {
     "ename": "NameError",
     "evalue": "name 'df_balanced' is not defined",
     "output_type": "error",
     "traceback": [
      "\u001b[1;31m---------------------------------------------------------------------------\u001b[0m",
      "\u001b[1;31mNameError\u001b[0m                                 Traceback (most recent call last)",
      "\u001b[1;32m~\\AppData\\Local\\Temp/ipykernel_3560/1142026286.py\u001b[0m in \u001b[0;36m<module>\u001b[1;34m\u001b[0m\n\u001b[1;32m----> 1\u001b[1;33m \u001b[0mX_train\u001b[0m \u001b[1;33m=\u001b[0m \u001b[0mdf_balanced\u001b[0m\u001b[1;33m.\u001b[0m\u001b[0mdrop\u001b[0m\u001b[1;33m(\u001b[0m\u001b[0mcolumns\u001b[0m\u001b[1;33m=\u001b[0m\u001b[0mTARGET_NAME\u001b[0m\u001b[1;33m)\u001b[0m\u001b[1;33m\u001b[0m\u001b[1;33m\u001b[0m\u001b[0m\n\u001b[0m\u001b[0;32m      2\u001b[0m \u001b[0my_train\u001b[0m \u001b[1;33m=\u001b[0m \u001b[0mdf_balanced\u001b[0m\u001b[1;33m[\u001b[0m\u001b[0mTARGET_NAME\u001b[0m\u001b[1;33m]\u001b[0m\u001b[1;33m\u001b[0m\u001b[1;33m\u001b[0m\u001b[0m\n",
      "\u001b[1;31mNameError\u001b[0m: name 'df_balanced' is not defined"
     ]
    }
   ],
   "source": [
    "X_train = df_balanced.drop(columns=TARGET_NAME)\n",
    "y_train = df_balanced[TARGET_NAME]"
   ]
  },
  {
   "cell_type": "markdown",
   "id": "6f1ddf30",
   "metadata": {},
   "source": [
    "# Нормализация"
   ]
  },
  {
   "cell_type": "code",
   "execution_count": null,
   "id": "baf05586",
   "metadata": {},
   "outputs": [],
   "source": [
    "NUMERIC_FEATURE_NAMES  = X_train.select_dtypes(include={'float', 'int'}).columns.to_list()"
   ]
  },
  {
   "cell_type": "code",
   "execution_count": null,
   "id": "3e1e55b5",
   "metadata": {},
   "outputs": [],
   "source": [
    "NUMERIC_FEATURE_NAMES"
   ]
  },
  {
   "cell_type": "code",
   "execution_count": null,
   "id": "564f3e55",
   "metadata": {},
   "outputs": [],
   "source": [
    "scaler = StandardScaler()\n",
    "\n",
    "def scal(df):\n",
    "    df_norm = df.copy()\n",
    "    df_norm[NUMERIC_FEATURE_NAMES] = scaler.fit_transform(df_norm[NUMERIC_FEATURE_NAMES])\n",
    "\n",
    "    df = df_norm.copy()\n",
    "    \n",
    "    return df"
   ]
  },
  {
   "cell_type": "code",
   "execution_count": null,
   "id": "18020a73",
   "metadata": {},
   "outputs": [],
   "source": [
    "X_train = scal(X_train)\n",
    "X_test = scal(X_test)"
   ]
  },
  {
   "cell_type": "code",
   "execution_count": null,
   "id": "2afc498a",
   "metadata": {
    "scrolled": false
   },
   "outputs": [],
   "source": [
    "X_test.head(2)"
   ]
  },
  {
   "cell_type": "markdown",
   "id": "3efa960f",
   "metadata": {},
   "source": [
    "# Подбор признаков"
   ]
  },
  {
   "cell_type": "code",
   "execution_count": null,
   "id": "1306818e",
   "metadata": {},
   "outputs": [],
   "source": [
    "features = ['Annual Income',\n",
    "#             'Annual Income nan',\n",
    "#             'Years in current job',\n",
    "#             'Number of Open Accounts',\n",
    "#             'Years of Credit History',\n",
    "#             'Maximum Open Credit',\n",
    "            'Number of Credit Problems',\n",
    "#             'Months since last delinquent',\n",
    "#             'Months since last delinquent nan',\n",
    "            'Current Loan Amount',\n",
    "            'Current Loan Amount outlier',\n",
    "#             'Current Credit Balance',\n",
    "#             'Current Credit Balance outlier',\n",
    "#             'Term_Short Term',\n",
    "#             'Bankruptcies',\n",
    "#             'Tax Liens',\n",
    "            'Term_Long Term',\n",
    "            'Home Ownership_Home Mortgage',\n",
    "#             'Home Ownership_Own Home',\n",
    "#             'Home Ownership_Rent',\n",
    "#             'Monthly Debt',\n",
    "#             'Purpose_debt consolidation',\n",
    "#             'Purpose_other',\n",
    "#             'Purpose_home improvements',\n",
    "            'Credit Score nan',\n",
    "            'Credit Score']"
   ]
  },
  {
   "cell_type": "code",
   "execution_count": null,
   "id": "8f88b738",
   "metadata": {},
   "outputs": [],
   "source": [
    "X_train, X_test = X_train[features], X_test[features]"
   ]
  },
  {
   "cell_type": "markdown",
   "id": "5a385bcb",
   "metadata": {},
   "source": [
    "# Построение модели"
   ]
  },
  {
   "cell_type": "code",
   "execution_count": null,
   "id": "7c3a2192",
   "metadata": {},
   "outputs": [],
   "source": [
    "def get_classification_report(y_train_true, y_train_pred, y_test_true, y_test_pred):\n",
    "    print('TRAIN\\n\\n' + classification_report(y_train_true, y_train_pred))\n",
    "    print('TEST\\n\\n' + classification_report(y_test_true, y_test_pred))\n",
    "    print('CONFUSION MATRIX\\n')\n",
    "    print(pd.crosstab(y_test_true, y_test_pred))"
   ]
  },
  {
   "cell_type": "code",
   "execution_count": null,
   "id": "7402eac7",
   "metadata": {
    "scrolled": false
   },
   "outputs": [],
   "source": [
    "model_catb = catb.CatBoostClassifier(silent=True, random_state=21)\n",
    "model_catb.fit(X_train, y_train)\n",
    "\n",
    "y_train_pred = model_catb.predict(X_train)\n",
    "y_test_pred = model_catb.predict(X_test)\n",
    "\n",
    "get_classification_report(y_train, y_train_pred, y_test, y_test_pred)"
   ]
  },
  {
   "cell_type": "code",
   "execution_count": null,
   "id": "419e71c5",
   "metadata": {
    "scrolled": false
   },
   "outputs": [],
   "source": [
    "model_xgb = xgb.XGBClassifier()\n",
    "model_xgb.fit(X_train, y_train)\n",
    "\n",
    "y_train_pred = model_xgb.predict(X_train)\n",
    "y_test_pred = model_xgb.predict(X_test)\n",
    "\n",
    "get_classification_report(y_train, y_train_pred, y_test, y_test_pred)"
   ]
  },
  {
   "cell_type": "code",
   "execution_count": null,
   "id": "e459db73",
   "metadata": {
    "scrolled": false
   },
   "outputs": [],
   "source": [
    "model_lgbm = lgbm.LGBMClassifier(random_state=21)\n",
    "model_lgbm.fit(X_train, y_train)\n",
    "\n",
    "y_train_pred = model_lgbm.predict(X_train)\n",
    "y_test_pred = model_lgbm.predict(X_test)\n",
    "\n",
    "get_classification_report(y_train, y_train_pred, y_test, y_test_pred)"
   ]
  },
  {
   "cell_type": "markdown",
   "id": "7ef65ace",
   "metadata": {},
   "source": [
    "# Финальная модель"
   ]
  },
  {
   "cell_type": "code",
   "execution_count": null,
   "id": "48ff8176",
   "metadata": {},
   "outputs": [],
   "source": [
    "model_catb = catb.CatBoostClassifier(silent=True, random_state=21)"
   ]
  },
  {
   "cell_type": "code",
   "execution_count": null,
   "id": "c642140e",
   "metadata": {},
   "outputs": [],
   "source": [
    "# params = {'n_estimators':[500, 1000, 1500, 2000, 2500, 3000], \n",
    "#           'max_depth':[5, 6, 7, 8, 10],\n",
    "#           'learning_rate':[0.001, 0.01, 0.05]}"
   ]
  },
  {
   "cell_type": "code",
   "execution_count": null,
   "id": "330387ca",
   "metadata": {},
   "outputs": [],
   "source": [
    "params = {'n_estimators':[100, 500, 1000, 2000, 3000], \n",
    "          'max_depth':[5, 7, 9],\n",
    "          'learning_rate':[0.01],\n",
    "         'l2_leaf_reg':[1, 1.5, 0.9, 1.2, 1.3]}"
   ]
  },
  {
   "cell_type": "code",
   "execution_count": null,
   "id": "bac2e8f1",
   "metadata": {},
   "outputs": [],
   "source": [
    "cv=KFold(n_splits=3, shuffle=True)"
   ]
  },
  {
   "cell_type": "code",
   "execution_count": null,
   "id": "643456a4",
   "metadata": {},
   "outputs": [],
   "source": [
    "%%time\n",
    "\n",
    "rs = GridSearchCV(model_catb, params, scoring='f1', cv=cv, n_jobs=-1)\n",
    "rs.fit(X_train, y_train)"
   ]
  },
  {
   "cell_type": "code",
   "execution_count": null,
   "id": "37a88ffc",
   "metadata": {},
   "outputs": [],
   "source": [
    "rs.best_params_"
   ]
  },
  {
   "cell_type": "code",
   "execution_count": null,
   "id": "5d942e7b",
   "metadata": {},
   "outputs": [],
   "source": [
    "rs.best_score_"
   ]
  },
  {
   "cell_type": "code",
   "execution_count": null,
   "id": "94d00ec4",
   "metadata": {},
   "outputs": [],
   "source": [
    "%%time\n",
    "\n",
    "final_model = catb.CatBoostClassifier(n_estimators=7000, max_depth=7, learning_rate=0.001, l2_leaf_reg=1.5,\n",
    "                                      silent=True)\n",
    "final_model.fit(X_train, y_train)\n",
    "\n",
    "y_train_pred = final_model.predict(X_train)\n",
    "y_test_pred = final_model.predict(X_test)\n",
    "\n",
    "get_classification_report(y_train, y_train_pred, y_test, y_test_pred)"
   ]
  },
  {
   "cell_type": "code",
   "execution_count": null,
   "id": "3e06a559",
   "metadata": {},
   "outputs": [],
   "source": [
    "feature_importances = pd.DataFrame(zip(X_train.columns, \n",
    "                                       final_model.feature_importances_), \n",
    "                                   columns=['feature_name', 'importance'])\n",
    "\n",
    "feature_importances.sort_values(by='importance', ascending=False, inplace=True)"
   ]
  },
  {
   "cell_type": "code",
   "execution_count": null,
   "id": "8af3b81f",
   "metadata": {
    "scrolled": false
   },
   "outputs": [],
   "source": [
    "feature_importances"
   ]
  },
  {
   "cell_type": "code",
   "execution_count": null,
   "id": "38891926",
   "metadata": {},
   "outputs": [],
   "source": []
  }
 ],
 "metadata": {
  "kernelspec": {
   "display_name": "Python 3 (ipykernel)",
   "language": "python",
   "name": "python3"
  },
  "language_info": {
   "codemirror_mode": {
    "name": "ipython",
    "version": 3
   },
   "file_extension": ".py",
   "mimetype": "text/x-python",
   "name": "python",
   "nbconvert_exporter": "python",
   "pygments_lexer": "ipython3",
   "version": "3.9.2"
  }
 },
 "nbformat": 4,
 "nbformat_minor": 5
}
