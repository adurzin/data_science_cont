{
 "cells": [
  {
   "cell_type": "code",
   "execution_count": 2235,
   "id": "91e06acb",
   "metadata": {},
   "outputs": [],
   "source": [
    "import numpy as np\n",
    "import pandas as pd\n",
    "\n",
    "import seaborn as sns\n",
    "import matplotlib.pyplot as plt\n",
    "\n",
    "%matplotlib inline"
   ]
  },
  {
   "cell_type": "markdown",
   "id": "3481950b",
   "metadata": {},
   "source": [
    "### Описание датасета"
   ]
  },
  {
   "cell_type": "markdown",
   "id": "9463706c",
   "metadata": {},
   "source": [
    "* **Home Ownership** - домовладение\n",
    "* **Annual Income** - годовой доход\n",
    "* **Years in current job** - количество лет на текущем месте работы\n",
    "* **Tax Liens** - налоговые обременения\n",
    "* **Number of Open Accounts** - количество открытых счетов\n",
    "* **Years of Credit History** - количество лет кредитной истории\n",
    "* **Maximum Open Credit** - наибольший открытый кредит\n",
    "* **Number of Credit Problems** - количество проблем с кредитом\n",
    "* **Months since last delinquent** - количество месяцев с последней просрочки платежа\n",
    "* **Bankruptcies** - банкротства\n",
    "* **Purpose** - цель кредита\n",
    "* **Term** - срок кредита\n",
    "* **Current Loan Amount** - текущая сумма кредита\n",
    "* **Current Credit Balance** - текущий кредитный баланс\n",
    "* **Monthly Debt** - ежемесячный долг\n",
    "* **Credit Default** - факт невыполнения кредитных обязательств (0 - погашен вовремя, 1 - просрочка)"
   ]
  },
  {
   "cell_type": "markdown",
   "id": "39c06503",
   "metadata": {},
   "source": [
    "**Пути к директориям и файлам**"
   ]
  },
  {
   "cell_type": "code",
   "execution_count": 2236,
   "id": "76173715",
   "metadata": {},
   "outputs": [],
   "source": [
    "TRAIN_DATASET_PATH = './course_project_train.csv'\n",
    "TEST_DATASET_PATH = './course_project_test.csv'"
   ]
  },
  {
   "cell_type": "markdown",
   "id": "6754e0d3",
   "metadata": {},
   "source": [
    "**Загрузка данных**"
   ]
  },
  {
   "cell_type": "code",
   "execution_count": 2237,
   "id": "13b86ce2",
   "metadata": {},
   "outputs": [
    {
     "data": {
      "text/plain": [
       "((7500, 17), (2500, 16))"
      ]
     },
     "execution_count": 2237,
     "metadata": {},
     "output_type": "execute_result"
    }
   ],
   "source": [
    "df_train = pd.read_csv(TRAIN_DATASET_PATH)\n",
    "\n",
    "df_test = pd.read_csv(TEST_DATASET_PATH)\n",
    "\n",
    "df_train.shape, df_test.shape"
   ]
  },
  {
   "cell_type": "code",
   "execution_count": 2238,
   "id": "25bdb07c",
   "metadata": {},
   "outputs": [
    {
     "name": "stdout",
     "output_type": "stream",
     "text": [
      "<class 'pandas.core.frame.DataFrame'>\n",
      "RangeIndex: 7500 entries, 0 to 7499\n",
      "Data columns (total 17 columns):\n",
      " #   Column                        Non-Null Count  Dtype  \n",
      "---  ------                        --------------  -----  \n",
      " 0   Home Ownership                7500 non-null   object \n",
      " 1   Annual Income                 5943 non-null   float64\n",
      " 2   Years in current job          7129 non-null   object \n",
      " 3   Tax Liens                     7500 non-null   float64\n",
      " 4   Number of Open Accounts       7500 non-null   float64\n",
      " 5   Years of Credit History       7500 non-null   float64\n",
      " 6   Maximum Open Credit           7500 non-null   float64\n",
      " 7   Number of Credit Problems     7500 non-null   float64\n",
      " 8   Months since last delinquent  3419 non-null   float64\n",
      " 9   Bankruptcies                  7486 non-null   float64\n",
      " 10  Purpose                       7500 non-null   object \n",
      " 11  Term                          7500 non-null   object \n",
      " 12  Current Loan Amount           7500 non-null   float64\n",
      " 13  Current Credit Balance        7500 non-null   float64\n",
      " 14  Monthly Debt                  7500 non-null   float64\n",
      " 15  Credit Score                  5943 non-null   float64\n",
      " 16  Credit Default                7500 non-null   int64  \n",
      "dtypes: float64(12), int64(1), object(4)\n",
      "memory usage: 996.2+ KB\n"
     ]
    }
   ],
   "source": [
    "df_train.info()"
   ]
  },
  {
   "cell_type": "code",
   "execution_count": 2239,
   "id": "2dd7cbb2",
   "metadata": {
    "scrolled": true
   },
   "outputs": [
    {
     "data": {
      "text/html": [
       "<div>\n",
       "<style scoped>\n",
       "    .dataframe tbody tr th:only-of-type {\n",
       "        vertical-align: middle;\n",
       "    }\n",
       "\n",
       "    .dataframe tbody tr th {\n",
       "        vertical-align: top;\n",
       "    }\n",
       "\n",
       "    .dataframe thead th {\n",
       "        text-align: right;\n",
       "    }\n",
       "</style>\n",
       "<table border=\"1\" class=\"dataframe\">\n",
       "  <thead>\n",
       "    <tr style=\"text-align: right;\">\n",
       "      <th></th>\n",
       "      <th>Annual Income</th>\n",
       "      <th>Tax Liens</th>\n",
       "      <th>Number of Open Accounts</th>\n",
       "      <th>Years of Credit History</th>\n",
       "      <th>Maximum Open Credit</th>\n",
       "      <th>Number of Credit Problems</th>\n",
       "      <th>Months since last delinquent</th>\n",
       "      <th>Bankruptcies</th>\n",
       "      <th>Current Loan Amount</th>\n",
       "      <th>Current Credit Balance</th>\n",
       "      <th>Monthly Debt</th>\n",
       "      <th>Credit Score</th>\n",
       "      <th>Credit Default</th>\n",
       "    </tr>\n",
       "  </thead>\n",
       "  <tbody>\n",
       "    <tr>\n",
       "      <th>count</th>\n",
       "      <td>5.943000e+03</td>\n",
       "      <td>7500.000000</td>\n",
       "      <td>7500.000000</td>\n",
       "      <td>7500.000000</td>\n",
       "      <td>7.500000e+03</td>\n",
       "      <td>7500.000000</td>\n",
       "      <td>3419.000000</td>\n",
       "      <td>7486.000000</td>\n",
       "      <td>7.500000e+03</td>\n",
       "      <td>7.500000e+03</td>\n",
       "      <td>7500.000000</td>\n",
       "      <td>5943.000000</td>\n",
       "      <td>7500.000000</td>\n",
       "    </tr>\n",
       "    <tr>\n",
       "      <th>mean</th>\n",
       "      <td>1.366392e+06</td>\n",
       "      <td>0.030133</td>\n",
       "      <td>11.130933</td>\n",
       "      <td>18.317467</td>\n",
       "      <td>9.451537e+05</td>\n",
       "      <td>0.170000</td>\n",
       "      <td>34.692600</td>\n",
       "      <td>0.117152</td>\n",
       "      <td>1.187318e+07</td>\n",
       "      <td>2.898332e+05</td>\n",
       "      <td>18314.454133</td>\n",
       "      <td>1151.087498</td>\n",
       "      <td>0.281733</td>\n",
       "    </tr>\n",
       "    <tr>\n",
       "      <th>std</th>\n",
       "      <td>8.453392e+05</td>\n",
       "      <td>0.271604</td>\n",
       "      <td>4.908924</td>\n",
       "      <td>7.041946</td>\n",
       "      <td>1.602622e+07</td>\n",
       "      <td>0.498598</td>\n",
       "      <td>21.688806</td>\n",
       "      <td>0.347192</td>\n",
       "      <td>3.192612e+07</td>\n",
       "      <td>3.178714e+05</td>\n",
       "      <td>11926.764673</td>\n",
       "      <td>1604.451418</td>\n",
       "      <td>0.449874</td>\n",
       "    </tr>\n",
       "    <tr>\n",
       "      <th>min</th>\n",
       "      <td>1.645970e+05</td>\n",
       "      <td>0.000000</td>\n",
       "      <td>2.000000</td>\n",
       "      <td>4.000000</td>\n",
       "      <td>0.000000e+00</td>\n",
       "      <td>0.000000</td>\n",
       "      <td>0.000000</td>\n",
       "      <td>0.000000</td>\n",
       "      <td>1.124200e+04</td>\n",
       "      <td>0.000000e+00</td>\n",
       "      <td>0.000000</td>\n",
       "      <td>585.000000</td>\n",
       "      <td>0.000000</td>\n",
       "    </tr>\n",
       "    <tr>\n",
       "      <th>25%</th>\n",
       "      <td>8.443410e+05</td>\n",
       "      <td>0.000000</td>\n",
       "      <td>8.000000</td>\n",
       "      <td>13.500000</td>\n",
       "      <td>2.792295e+05</td>\n",
       "      <td>0.000000</td>\n",
       "      <td>16.000000</td>\n",
       "      <td>0.000000</td>\n",
       "      <td>1.801690e+05</td>\n",
       "      <td>1.142565e+05</td>\n",
       "      <td>10067.500000</td>\n",
       "      <td>711.000000</td>\n",
       "      <td>0.000000</td>\n",
       "    </tr>\n",
       "    <tr>\n",
       "      <th>50%</th>\n",
       "      <td>1.168386e+06</td>\n",
       "      <td>0.000000</td>\n",
       "      <td>10.000000</td>\n",
       "      <td>17.000000</td>\n",
       "      <td>4.781590e+05</td>\n",
       "      <td>0.000000</td>\n",
       "      <td>32.000000</td>\n",
       "      <td>0.000000</td>\n",
       "      <td>3.095730e+05</td>\n",
       "      <td>2.093230e+05</td>\n",
       "      <td>16076.500000</td>\n",
       "      <td>731.000000</td>\n",
       "      <td>0.000000</td>\n",
       "    </tr>\n",
       "    <tr>\n",
       "      <th>75%</th>\n",
       "      <td>1.640137e+06</td>\n",
       "      <td>0.000000</td>\n",
       "      <td>14.000000</td>\n",
       "      <td>21.800000</td>\n",
       "      <td>7.935015e+05</td>\n",
       "      <td>0.000000</td>\n",
       "      <td>50.000000</td>\n",
       "      <td>0.000000</td>\n",
       "      <td>5.198820e+05</td>\n",
       "      <td>3.604062e+05</td>\n",
       "      <td>23818.000000</td>\n",
       "      <td>743.000000</td>\n",
       "      <td>1.000000</td>\n",
       "    </tr>\n",
       "    <tr>\n",
       "      <th>max</th>\n",
       "      <td>1.014934e+07</td>\n",
       "      <td>7.000000</td>\n",
       "      <td>43.000000</td>\n",
       "      <td>57.700000</td>\n",
       "      <td>1.304726e+09</td>\n",
       "      <td>7.000000</td>\n",
       "      <td>118.000000</td>\n",
       "      <td>4.000000</td>\n",
       "      <td>1.000000e+08</td>\n",
       "      <td>6.506797e+06</td>\n",
       "      <td>136679.000000</td>\n",
       "      <td>7510.000000</td>\n",
       "      <td>1.000000</td>\n",
       "    </tr>\n",
       "  </tbody>\n",
       "</table>\n",
       "</div>"
      ],
      "text/plain": [
       "       Annual Income    Tax Liens  Number of Open Accounts  \\\n",
       "count   5.943000e+03  7500.000000              7500.000000   \n",
       "mean    1.366392e+06     0.030133                11.130933   \n",
       "std     8.453392e+05     0.271604                 4.908924   \n",
       "min     1.645970e+05     0.000000                 2.000000   \n",
       "25%     8.443410e+05     0.000000                 8.000000   \n",
       "50%     1.168386e+06     0.000000                10.000000   \n",
       "75%     1.640137e+06     0.000000                14.000000   \n",
       "max     1.014934e+07     7.000000                43.000000   \n",
       "\n",
       "       Years of Credit History  Maximum Open Credit  \\\n",
       "count              7500.000000         7.500000e+03   \n",
       "mean                 18.317467         9.451537e+05   \n",
       "std                   7.041946         1.602622e+07   \n",
       "min                   4.000000         0.000000e+00   \n",
       "25%                  13.500000         2.792295e+05   \n",
       "50%                  17.000000         4.781590e+05   \n",
       "75%                  21.800000         7.935015e+05   \n",
       "max                  57.700000         1.304726e+09   \n",
       "\n",
       "       Number of Credit Problems  Months since last delinquent  Bankruptcies  \\\n",
       "count                7500.000000                   3419.000000   7486.000000   \n",
       "mean                    0.170000                     34.692600      0.117152   \n",
       "std                     0.498598                     21.688806      0.347192   \n",
       "min                     0.000000                      0.000000      0.000000   \n",
       "25%                     0.000000                     16.000000      0.000000   \n",
       "50%                     0.000000                     32.000000      0.000000   \n",
       "75%                     0.000000                     50.000000      0.000000   \n",
       "max                     7.000000                    118.000000      4.000000   \n",
       "\n",
       "       Current Loan Amount  Current Credit Balance   Monthly Debt  \\\n",
       "count         7.500000e+03            7.500000e+03    7500.000000   \n",
       "mean          1.187318e+07            2.898332e+05   18314.454133   \n",
       "std           3.192612e+07            3.178714e+05   11926.764673   \n",
       "min           1.124200e+04            0.000000e+00       0.000000   \n",
       "25%           1.801690e+05            1.142565e+05   10067.500000   \n",
       "50%           3.095730e+05            2.093230e+05   16076.500000   \n",
       "75%           5.198820e+05            3.604062e+05   23818.000000   \n",
       "max           1.000000e+08            6.506797e+06  136679.000000   \n",
       "\n",
       "       Credit Score  Credit Default  \n",
       "count   5943.000000     7500.000000  \n",
       "mean    1151.087498        0.281733  \n",
       "std     1604.451418        0.449874  \n",
       "min      585.000000        0.000000  \n",
       "25%      711.000000        0.000000  \n",
       "50%      731.000000        0.000000  \n",
       "75%      743.000000        1.000000  \n",
       "max     7510.000000        1.000000  "
      ]
     },
     "execution_count": 2239,
     "metadata": {},
     "output_type": "execute_result"
    }
   ],
   "source": [
    "df_train.describe()"
   ]
  },
  {
   "cell_type": "code",
   "execution_count": 2240,
   "id": "2a97df63",
   "metadata": {},
   "outputs": [
    {
     "data": {
      "text/html": [
       "<div>\n",
       "<style scoped>\n",
       "    .dataframe tbody tr th:only-of-type {\n",
       "        vertical-align: middle;\n",
       "    }\n",
       "\n",
       "    .dataframe tbody tr th {\n",
       "        vertical-align: top;\n",
       "    }\n",
       "\n",
       "    .dataframe thead th {\n",
       "        text-align: right;\n",
       "    }\n",
       "</style>\n",
       "<table border=\"1\" class=\"dataframe\">\n",
       "  <thead>\n",
       "    <tr style=\"text-align: right;\">\n",
       "      <th></th>\n",
       "      <th>Home Ownership</th>\n",
       "      <th>Years in current job</th>\n",
       "      <th>Purpose</th>\n",
       "      <th>Term</th>\n",
       "    </tr>\n",
       "  </thead>\n",
       "  <tbody>\n",
       "    <tr>\n",
       "      <th>0</th>\n",
       "      <td>Own Home</td>\n",
       "      <td>NaN</td>\n",
       "      <td>debt consolidation</td>\n",
       "      <td>Short Term</td>\n",
       "    </tr>\n",
       "    <tr>\n",
       "      <th>1</th>\n",
       "      <td>Own Home</td>\n",
       "      <td>10+ years</td>\n",
       "      <td>debt consolidation</td>\n",
       "      <td>Long Term</td>\n",
       "    </tr>\n",
       "    <tr>\n",
       "      <th>2</th>\n",
       "      <td>Home Mortgage</td>\n",
       "      <td>8 years</td>\n",
       "      <td>debt consolidation</td>\n",
       "      <td>Short Term</td>\n",
       "    </tr>\n",
       "    <tr>\n",
       "      <th>3</th>\n",
       "      <td>Own Home</td>\n",
       "      <td>6 years</td>\n",
       "      <td>debt consolidation</td>\n",
       "      <td>Short Term</td>\n",
       "    </tr>\n",
       "    <tr>\n",
       "      <th>4</th>\n",
       "      <td>Rent</td>\n",
       "      <td>8 years</td>\n",
       "      <td>debt consolidation</td>\n",
       "      <td>Short Term</td>\n",
       "    </tr>\n",
       "    <tr>\n",
       "      <th>...</th>\n",
       "      <td>...</td>\n",
       "      <td>...</td>\n",
       "      <td>...</td>\n",
       "      <td>...</td>\n",
       "    </tr>\n",
       "    <tr>\n",
       "      <th>7495</th>\n",
       "      <td>Rent</td>\n",
       "      <td>&lt; 1 year</td>\n",
       "      <td>other</td>\n",
       "      <td>Short Term</td>\n",
       "    </tr>\n",
       "    <tr>\n",
       "      <th>7496</th>\n",
       "      <td>Home Mortgage</td>\n",
       "      <td>1 year</td>\n",
       "      <td>debt consolidation</td>\n",
       "      <td>Long Term</td>\n",
       "    </tr>\n",
       "    <tr>\n",
       "      <th>7497</th>\n",
       "      <td>Rent</td>\n",
       "      <td>6 years</td>\n",
       "      <td>buy a car</td>\n",
       "      <td>Short Term</td>\n",
       "    </tr>\n",
       "    <tr>\n",
       "      <th>7498</th>\n",
       "      <td>Home Mortgage</td>\n",
       "      <td>NaN</td>\n",
       "      <td>debt consolidation</td>\n",
       "      <td>Short Term</td>\n",
       "    </tr>\n",
       "    <tr>\n",
       "      <th>7499</th>\n",
       "      <td>Rent</td>\n",
       "      <td>4 years</td>\n",
       "      <td>debt consolidation</td>\n",
       "      <td>Short Term</td>\n",
       "    </tr>\n",
       "  </tbody>\n",
       "</table>\n",
       "<p>7500 rows × 4 columns</p>\n",
       "</div>"
      ],
      "text/plain": [
       "     Home Ownership Years in current job             Purpose        Term\n",
       "0          Own Home                  NaN  debt consolidation  Short Term\n",
       "1          Own Home            10+ years  debt consolidation   Long Term\n",
       "2     Home Mortgage              8 years  debt consolidation  Short Term\n",
       "3          Own Home              6 years  debt consolidation  Short Term\n",
       "4              Rent              8 years  debt consolidation  Short Term\n",
       "...             ...                  ...                 ...         ...\n",
       "7495           Rent             < 1 year               other  Short Term\n",
       "7496  Home Mortgage               1 year  debt consolidation   Long Term\n",
       "7497           Rent              6 years           buy a car  Short Term\n",
       "7498  Home Mortgage                  NaN  debt consolidation  Short Term\n",
       "7499           Rent              4 years  debt consolidation  Short Term\n",
       "\n",
       "[7500 rows x 4 columns]"
      ]
     },
     "execution_count": 2240,
     "metadata": {},
     "output_type": "execute_result"
    }
   ],
   "source": [
    "df_train.select_dtypes(include=['object'])"
   ]
  },
  {
   "cell_type": "markdown",
   "id": "ae43666d",
   "metadata": {},
   "source": [
    "\n",
    "\n",
    "\n",
    "\n",
    "# Уменьшение объема памяти датасета"
   ]
  },
  {
   "cell_type": "code",
   "execution_count": 2241,
   "id": "84b07e48",
   "metadata": {},
   "outputs": [],
   "source": [
    "def reduce_mem_usage(df):\n",
    "    start_mem = df.memory_usage().sum() / 1024**2\n",
    "    print('Memory usage of dataframe is {:.2f} MB'.format(start_mem))\n",
    "    \n",
    "    for col in df.columns:\n",
    "        col_type = df[col].dtype\n",
    "        \n",
    "        if col_type != object:\n",
    "            c_min = df[col].min()\n",
    "            c_max = df[col].max()\n",
    "            if str(col_type)[:3] == 'int':\n",
    "                if c_min > np.iinfo(np.int8).min and c_max < np.iinfo(np.int8).max:\n",
    "                    df[col] = df[col].astype(np.int8)\n",
    "                elif c_min > np.iinfo(np.int16).min and c_max < np.iinfo(np.int16).max:\n",
    "                    df[col] = df[col]. astype(np.int16)\n",
    "                elif c_min > np.iinfo(np.int32).min and c_max < np.iinfo(np.int32).max:\n",
    "                    df[col] = df[col].astype(np.int32)\n",
    "                elif c_min > np.iinfo(np.int64).min and c_max < np.iinfo(np.int64).max:\n",
    "                    df[col] = df[col].astype(np.int64)\n",
    "                       \n",
    "            else:\n",
    "                if c_min > np.finfo(np.float32).min and c_max < np.finfo(np.float32).max:\n",
    "                       df[col] = df[col].astype(np.float32)\n",
    "                else:\n",
    "                       df[col] = df[col].astype(np.float64)\n",
    "\n",
    "    \n",
    "    end_mem = df.memory_usage().sum() / 1024**2\n",
    "    print('Memory usage after optimization is: {:.2f} MB'.format(end_mem))\n",
    "    print('Decreased by {:1f}%'.format(100 * (start_mem - end_mem) / start_mem))\n",
    "                       \n",
    "    return df.head(1)"
   ]
  },
  {
   "cell_type": "code",
   "execution_count": 2242,
   "id": "801c9072",
   "metadata": {},
   "outputs": [
    {
     "name": "stdout",
     "output_type": "stream",
     "text": [
      "Memory usage of dataframe is 0.97 MB\n",
      "Memory usage after optimization is: 0.58 MB\n",
      "Decreased by 40.436102%\n"
     ]
    },
    {
     "data": {
      "text/html": [
       "<div>\n",
       "<style scoped>\n",
       "    .dataframe tbody tr th:only-of-type {\n",
       "        vertical-align: middle;\n",
       "    }\n",
       "\n",
       "    .dataframe tbody tr th {\n",
       "        vertical-align: top;\n",
       "    }\n",
       "\n",
       "    .dataframe thead th {\n",
       "        text-align: right;\n",
       "    }\n",
       "</style>\n",
       "<table border=\"1\" class=\"dataframe\">\n",
       "  <thead>\n",
       "    <tr style=\"text-align: right;\">\n",
       "      <th></th>\n",
       "      <th>Home Ownership</th>\n",
       "      <th>Annual Income</th>\n",
       "      <th>Years in current job</th>\n",
       "      <th>Tax Liens</th>\n",
       "      <th>Number of Open Accounts</th>\n",
       "      <th>Years of Credit History</th>\n",
       "      <th>Maximum Open Credit</th>\n",
       "      <th>Number of Credit Problems</th>\n",
       "      <th>Months since last delinquent</th>\n",
       "      <th>Bankruptcies</th>\n",
       "      <th>Purpose</th>\n",
       "      <th>Term</th>\n",
       "      <th>Current Loan Amount</th>\n",
       "      <th>Current Credit Balance</th>\n",
       "      <th>Monthly Debt</th>\n",
       "      <th>Credit Score</th>\n",
       "      <th>Credit Default</th>\n",
       "    </tr>\n",
       "  </thead>\n",
       "  <tbody>\n",
       "    <tr>\n",
       "      <th>0</th>\n",
       "      <td>Own Home</td>\n",
       "      <td>482087.0</td>\n",
       "      <td>NaN</td>\n",
       "      <td>0.0</td>\n",
       "      <td>11.0</td>\n",
       "      <td>26.299999</td>\n",
       "      <td>685960.0</td>\n",
       "      <td>1.0</td>\n",
       "      <td>NaN</td>\n",
       "      <td>1.0</td>\n",
       "      <td>debt consolidation</td>\n",
       "      <td>Short Term</td>\n",
       "      <td>100000000.0</td>\n",
       "      <td>47386.0</td>\n",
       "      <td>7914.0</td>\n",
       "      <td>749.0</td>\n",
       "      <td>0</td>\n",
       "    </tr>\n",
       "  </tbody>\n",
       "</table>\n",
       "</div>"
      ],
      "text/plain": [
       "  Home Ownership  Annual Income Years in current job  Tax Liens  \\\n",
       "0       Own Home       482087.0                  NaN        0.0   \n",
       "\n",
       "   Number of Open Accounts  Years of Credit History  Maximum Open Credit  \\\n",
       "0                     11.0                26.299999             685960.0   \n",
       "\n",
       "   Number of Credit Problems  Months since last delinquent  Bankruptcies  \\\n",
       "0                        1.0                           NaN           1.0   \n",
       "\n",
       "              Purpose        Term  Current Loan Amount  \\\n",
       "0  debt consolidation  Short Term          100000000.0   \n",
       "\n",
       "   Current Credit Balance  Monthly Debt  Credit Score  Credit Default  \n",
       "0                 47386.0        7914.0         749.0               0  "
      ]
     },
     "execution_count": 2242,
     "metadata": {},
     "output_type": "execute_result"
    }
   ],
   "source": [
    "reduce_mem_usage(df_train)"
   ]
  },
  {
   "cell_type": "code",
   "execution_count": 2243,
   "id": "07729cad",
   "metadata": {},
   "outputs": [
    {
     "data": {
      "image/png": "[encoded data removed]",
      "text/plain": [
       "<Figure size 1152x576 with 1 Axes>"
      ]
     },
     "metadata": {
      "needs_background": "light"
     },
     "output_type": "display_data"
    }
   ],
   "source": [
    "correlation = df_train.corrwith(df_train['Credit Default']).sort_values(ascending=False)\n",
    "correlation.drop('Credit Default', inplace=True)\n",
    "\n",
    "plt.figure(figsize = (16, 8))\n",
    "plt.bar(correlation.index, correlation)\n",
    "plt.xticks(rotation='90')\n",
    "plt.xlabel('Features', fontsize=15)\n",
    "plt.ylabel('Correlation', fontsize=15)\n",
    "plt.title('Feature correlation', fontsize=15)\n",
    "plt.show()"
   ]
  },
  {
   "cell_type": "code",
   "execution_count": 2244,
   "id": "93aacd36",
   "metadata": {},
   "outputs": [],
   "source": [
    "dff = df_train.select_dtypes(include=['float32'])"
   ]
  },
  {
   "cell_type": "code",
   "execution_count": 2245,
   "id": "d9b95959",
   "metadata": {},
   "outputs": [
    {
     "data": {
      "image/png": "[encoded data removed]",
      "text/plain": [
       "<Figure size 1152x576 with 1 Axes>"
      ]
     },
     "metadata": {
      "needs_background": "light"
     },
     "output_type": "display_data"
    }
   ],
   "source": [
    "plt.figure(figsize=(16, 8))\n",
    "sns.boxplot(data=dff, orient='h')\n",
    "plt.show()"
   ]
  },
  {
   "cell_type": "code",
   "execution_count": 2246,
   "id": "807e9198",
   "metadata": {},
   "outputs": [
    {
     "data": {
      "image/png": "[encoded data removed]",
      "text/plain": [
       "<Figure size 1152x576 with 2 Axes>"
      ]
     },
     "metadata": {
      "needs_background": "light"
     },
     "output_type": "display_data"
    }
   ],
   "source": [
    "plt.figure(figsize=(16, 8))\n",
    "heatmap = sns.heatmap(df_train.corr(), vmin=-1, vmax=1, annot=True, cmap='seismic')\n",
    "heatmap.set_title('Correlation Heatmap', fontdict={'fontsize':18}, pad=12);"
   ]
  },
  {
   "cell_type": "markdown",
   "id": "1c4aae85",
   "metadata": {},
   "source": [
    "\n",
    "\n",
    "# Обработка данных\n",
    "\n"
   ]
  },
  {
   "cell_type": "markdown",
   "id": "78dd8586",
   "metadata": {},
   "source": [
    "### *Home Ownership*"
   ]
  },
  {
   "cell_type": "code",
   "execution_count": 2247,
   "id": "597fd953",
   "metadata": {
    "scrolled": false
   },
   "outputs": [
    {
     "data": {
      "text/plain": [
       "Home Mortgage    3637\n",
       "Rent             3204\n",
       "Own Home          647\n",
       "Have Mortgage      12\n",
       "Name: Home Ownership, dtype: int64"
      ]
     },
     "execution_count": 2247,
     "metadata": {},
     "output_type": "execute_result"
    }
   ],
   "source": [
    "df_train['Home Ownership'].value_counts()"
   ]
  },
  {
   "cell_type": "code",
   "execution_count": 2248,
   "id": "1a949d55",
   "metadata": {},
   "outputs": [],
   "source": [
    "df_train.loc[df_train['Home Ownership'] == 'Have Mortgage', 'Home Ownership'] = 'Home Mortgage'"
   ]
  },
  {
   "cell_type": "code",
   "execution_count": 2249,
   "id": "72116e34",
   "metadata": {},
   "outputs": [
    {
     "data": {
      "text/plain": [
       "Home Mortgage    3649\n",
       "Rent             3204\n",
       "Own Home          647\n",
       "Name: Home Ownership, dtype: int64"
      ]
     },
     "execution_count": 2249,
     "metadata": {},
     "output_type": "execute_result"
    }
   ],
   "source": [
    "df_train['Home Ownership'].value_counts()"
   ]
  },
  {
   "cell_type": "code",
   "execution_count": 2250,
   "id": "2173295d",
   "metadata": {},
   "outputs": [],
   "source": [
    "df_train = pd.get_dummies(df_train, columns=['Home Ownership'])"
   ]
  },
  {
   "cell_type": "code",
   "execution_count": 2251,
   "id": "e25ad615",
   "metadata": {},
   "outputs": [
    {
     "data": {
      "text/html": [
       "<div>\n",
       "<style scoped>\n",
       "    .dataframe tbody tr th:only-of-type {\n",
       "        vertical-align: middle;\n",
       "    }\n",
       "\n",
       "    .dataframe tbody tr th {\n",
       "        vertical-align: top;\n",
       "    }\n",
       "\n",
       "    .dataframe thead th {\n",
       "        text-align: right;\n",
       "    }\n",
       "</style>\n",
       "<table border=\"1\" class=\"dataframe\">\n",
       "  <thead>\n",
       "    <tr style=\"text-align: right;\">\n",
       "      <th></th>\n",
       "      <th>Annual Income</th>\n",
       "      <th>Years in current job</th>\n",
       "      <th>Tax Liens</th>\n",
       "      <th>Number of Open Accounts</th>\n",
       "      <th>Years of Credit History</th>\n",
       "      <th>Maximum Open Credit</th>\n",
       "      <th>Number of Credit Problems</th>\n",
       "      <th>Months since last delinquent</th>\n",
       "      <th>Bankruptcies</th>\n",
       "      <th>Purpose</th>\n",
       "      <th>Term</th>\n",
       "      <th>Current Loan Amount</th>\n",
       "      <th>Current Credit Balance</th>\n",
       "      <th>Monthly Debt</th>\n",
       "      <th>Credit Score</th>\n",
       "      <th>Credit Default</th>\n",
       "      <th>Home Ownership_Home Mortgage</th>\n",
       "      <th>Home Ownership_Own Home</th>\n",
       "      <th>Home Ownership_Rent</th>\n",
       "    </tr>\n",
       "  </thead>\n",
       "  <tbody>\n",
       "    <tr>\n",
       "      <th>1399</th>\n",
       "      <td>NaN</td>\n",
       "      <td>9 years</td>\n",
       "      <td>0.0</td>\n",
       "      <td>7.0</td>\n",
       "      <td>16.700001</td>\n",
       "      <td>727430.0</td>\n",
       "      <td>0.0</td>\n",
       "      <td>NaN</td>\n",
       "      <td>0.0</td>\n",
       "      <td>take a trip</td>\n",
       "      <td>Short Term</td>\n",
       "      <td>60566.0</td>\n",
       "      <td>143241.0</td>\n",
       "      <td>9186.0</td>\n",
       "      <td>NaN</td>\n",
       "      <td>0</td>\n",
       "      <td>0</td>\n",
       "      <td>0</td>\n",
       "      <td>1</td>\n",
       "    </tr>\n",
       "    <tr>\n",
       "      <th>5403</th>\n",
       "      <td>967100.0</td>\n",
       "      <td>1 year</td>\n",
       "      <td>0.0</td>\n",
       "      <td>7.0</td>\n",
       "      <td>9.400000</td>\n",
       "      <td>172700.0</td>\n",
       "      <td>1.0</td>\n",
       "      <td>NaN</td>\n",
       "      <td>1.0</td>\n",
       "      <td>home improvements</td>\n",
       "      <td>Long Term</td>\n",
       "      <td>100000000.0</td>\n",
       "      <td>48032.0</td>\n",
       "      <td>9026.0</td>\n",
       "      <td>714.0</td>\n",
       "      <td>0</td>\n",
       "      <td>1</td>\n",
       "      <td>0</td>\n",
       "      <td>0</td>\n",
       "    </tr>\n",
       "  </tbody>\n",
       "</table>\n",
       "</div>"
      ],
      "text/plain": [
       "      Annual Income Years in current job  Tax Liens  Number of Open Accounts  \\\n",
       "1399            NaN              9 years        0.0                      7.0   \n",
       "5403       967100.0               1 year        0.0                      7.0   \n",
       "\n",
       "      Years of Credit History  Maximum Open Credit  Number of Credit Problems  \\\n",
       "1399                16.700001             727430.0                        0.0   \n",
       "5403                 9.400000             172700.0                        1.0   \n",
       "\n",
       "      Months since last delinquent  Bankruptcies            Purpose  \\\n",
       "1399                           NaN           0.0        take a trip   \n",
       "5403                           NaN           1.0  home improvements   \n",
       "\n",
       "            Term  Current Loan Amount  Current Credit Balance  Monthly Debt  \\\n",
       "1399  Short Term              60566.0                143241.0        9186.0   \n",
       "5403   Long Term          100000000.0                 48032.0        9026.0   \n",
       "\n",
       "      Credit Score  Credit Default  Home Ownership_Home Mortgage  \\\n",
       "1399           NaN               0                             0   \n",
       "5403         714.0               0                             1   \n",
       "\n",
       "      Home Ownership_Own Home  Home Ownership_Rent  \n",
       "1399                        0                    1  \n",
       "5403                        0                    0  "
      ]
     },
     "execution_count": 2251,
     "metadata": {},
     "output_type": "execute_result"
    }
   ],
   "source": [
    "df_train.sample(2)"
   ]
  },
  {
   "cell_type": "markdown",
   "id": "a1db3676",
   "metadata": {},
   "source": [
    "### *Term*"
   ]
  },
  {
   "cell_type": "code",
   "execution_count": 2252,
   "id": "3c201cc3",
   "metadata": {},
   "outputs": [
    {
     "data": {
      "text/plain": [
       "Short Term    5556\n",
       "Long Term     1944\n",
       "Name: Term, dtype: int64"
      ]
     },
     "execution_count": 2252,
     "metadata": {},
     "output_type": "execute_result"
    }
   ],
   "source": [
    "df_train['Term'].value_counts()"
   ]
  },
  {
   "cell_type": "code",
   "execution_count": 2253,
   "id": "85ca041e",
   "metadata": {},
   "outputs": [],
   "source": [
    "df_train = pd.get_dummies(df_train, columns=['Term'])"
   ]
  },
  {
   "cell_type": "code",
   "execution_count": 2254,
   "id": "90f98e7d",
   "metadata": {
    "scrolled": true
   },
   "outputs": [
    {
     "data": {
      "text/html": [
       "<div>\n",
       "<style scoped>\n",
       "    .dataframe tbody tr th:only-of-type {\n",
       "        vertical-align: middle;\n",
       "    }\n",
       "\n",
       "    .dataframe tbody tr th {\n",
       "        vertical-align: top;\n",
       "    }\n",
       "\n",
       "    .dataframe thead th {\n",
       "        text-align: right;\n",
       "    }\n",
       "</style>\n",
       "<table border=\"1\" class=\"dataframe\">\n",
       "  <thead>\n",
       "    <tr style=\"text-align: right;\">\n",
       "      <th></th>\n",
       "      <th>Annual Income</th>\n",
       "      <th>Years in current job</th>\n",
       "      <th>Tax Liens</th>\n",
       "      <th>Number of Open Accounts</th>\n",
       "      <th>Years of Credit History</th>\n",
       "      <th>Maximum Open Credit</th>\n",
       "      <th>Number of Credit Problems</th>\n",
       "      <th>Months since last delinquent</th>\n",
       "      <th>Bankruptcies</th>\n",
       "      <th>Purpose</th>\n",
       "      <th>Current Loan Amount</th>\n",
       "      <th>Current Credit Balance</th>\n",
       "      <th>Monthly Debt</th>\n",
       "      <th>Credit Score</th>\n",
       "      <th>Credit Default</th>\n",
       "      <th>Home Ownership_Home Mortgage</th>\n",
       "      <th>Home Ownership_Own Home</th>\n",
       "      <th>Home Ownership_Rent</th>\n",
       "      <th>Term_Long Term</th>\n",
       "      <th>Term_Short Term</th>\n",
       "    </tr>\n",
       "  </thead>\n",
       "  <tbody>\n",
       "    <tr>\n",
       "      <th>6967</th>\n",
       "      <td>466355.0</td>\n",
       "      <td>3 years</td>\n",
       "      <td>0.0</td>\n",
       "      <td>10.0</td>\n",
       "      <td>16.299999</td>\n",
       "      <td>423654.0</td>\n",
       "      <td>0.0</td>\n",
       "      <td>NaN</td>\n",
       "      <td>0.0</td>\n",
       "      <td>debt consolidation</td>\n",
       "      <td>183590.0</td>\n",
       "      <td>182951.0</td>\n",
       "      <td>8511.0</td>\n",
       "      <td>739.0</td>\n",
       "      <td>1</td>\n",
       "      <td>0</td>\n",
       "      <td>0</td>\n",
       "      <td>1</td>\n",
       "      <td>0</td>\n",
       "      <td>1</td>\n",
       "    </tr>\n",
       "    <tr>\n",
       "      <th>4482</th>\n",
       "      <td>810084.0</td>\n",
       "      <td>2 years</td>\n",
       "      <td>0.0</td>\n",
       "      <td>8.0</td>\n",
       "      <td>23.500000</td>\n",
       "      <td>708862.0</td>\n",
       "      <td>0.0</td>\n",
       "      <td>NaN</td>\n",
       "      <td>0.0</td>\n",
       "      <td>debt consolidation</td>\n",
       "      <td>110352.0</td>\n",
       "      <td>509352.0</td>\n",
       "      <td>11267.0</td>\n",
       "      <td>737.0</td>\n",
       "      <td>0</td>\n",
       "      <td>0</td>\n",
       "      <td>0</td>\n",
       "      <td>1</td>\n",
       "      <td>0</td>\n",
       "      <td>1</td>\n",
       "    </tr>\n",
       "  </tbody>\n",
       "</table>\n",
       "</div>"
      ],
      "text/plain": [
       "      Annual Income Years in current job  Tax Liens  Number of Open Accounts  \\\n",
       "6967       466355.0              3 years        0.0                     10.0   \n",
       "4482       810084.0              2 years        0.0                      8.0   \n",
       "\n",
       "      Years of Credit History  Maximum Open Credit  Number of Credit Problems  \\\n",
       "6967                16.299999             423654.0                        0.0   \n",
       "4482                23.500000             708862.0                        0.0   \n",
       "\n",
       "      Months since last delinquent  Bankruptcies             Purpose  \\\n",
       "6967                           NaN           0.0  debt consolidation   \n",
       "4482                           NaN           0.0  debt consolidation   \n",
       "\n",
       "      Current Loan Amount  Current Credit Balance  Monthly Debt  Credit Score  \\\n",
       "6967             183590.0                182951.0        8511.0         739.0   \n",
       "4482             110352.0                509352.0       11267.0         737.0   \n",
       "\n",
       "      Credit Default  Home Ownership_Home Mortgage  Home Ownership_Own Home  \\\n",
       "6967               1                             0                        0   \n",
       "4482               0                             0                        0   \n",
       "\n",
       "      Home Ownership_Rent  Term_Long Term  Term_Short Term  \n",
       "6967                    1               0                1  \n",
       "4482                    1               0                1  "
      ]
     },
     "execution_count": 2254,
     "metadata": {},
     "output_type": "execute_result"
    }
   ],
   "source": [
    "df_train.sample(2)"
   ]
  },
  {
   "cell_type": "markdown",
   "id": "e50de303",
   "metadata": {},
   "source": [
    "### *Years in current job*"
   ]
  },
  {
   "cell_type": "code",
   "execution_count": 2255,
   "id": "ed9f6ab5",
   "metadata": {},
   "outputs": [
    {
     "data": {
      "text/plain": [
       "'10+ years'"
      ]
     },
     "execution_count": 2255,
     "metadata": {},
     "output_type": "execute_result"
    }
   ],
   "source": [
    "df_train['Years in current job NaN'] = 0\n",
    "df_train.loc[df_train['Annual Income'].isna(), 'Years in current job NaN'] = 1\n",
    "years_mode = df_train['Years in current job'].mode()[0]\n",
    "years_mode"
   ]
  },
  {
   "cell_type": "code",
   "execution_count": 2256,
   "id": "7f9a550c",
   "metadata": {},
   "outputs": [],
   "source": [
    "df_train['Years in current job'].fillna(years_mode, inplace=True)"
   ]
  },
  {
   "cell_type": "code",
   "execution_count": 2257,
   "id": "f355ca50",
   "metadata": {},
   "outputs": [
    {
     "data": {
      "text/plain": [
       "10+ years    2703\n",
       "2 years       705\n",
       "3 years       620\n",
       "< 1 year      563\n",
       "5 years       516\n",
       "1 year        504\n",
       "4 years       469\n",
       "6 years       426\n",
       "7 years       396\n",
       "8 years       339\n",
       "9 years       259\n",
       "Name: Years in current job, dtype: int64"
      ]
     },
     "execution_count": 2257,
     "metadata": {},
     "output_type": "execute_result"
    }
   ],
   "source": [
    "df_train['Years in current job'].value_counts()"
   ]
  },
  {
   "cell_type": "code",
   "execution_count": 2258,
   "id": "c3a411db",
   "metadata": {},
   "outputs": [],
   "source": [
    "years_to_numbers = {'< 1 year': 0, '1 year': 1, '2 years': 2, '3 years': 3,\n",
    "              '4 years': 4, '5 years': 5, '6 years': 6, '7 years': 7,\n",
    "             '8 years': 8, '9 years': 9, '10+ years': 10}"
   ]
  },
  {
   "cell_type": "code",
   "execution_count": 2259,
   "id": "751e05ac",
   "metadata": {},
   "outputs": [],
   "source": [
    "df_train['Years in current job'].replace(years_to_numbers, inplace=True)"
   ]
  },
  {
   "cell_type": "code",
   "execution_count": 2260,
   "id": "7f6d1be1",
   "metadata": {},
   "outputs": [
    {
     "data": {
      "text/html": [
       "<div>\n",
       "<style scoped>\n",
       "    .dataframe tbody tr th:only-of-type {\n",
       "        vertical-align: middle;\n",
       "    }\n",
       "\n",
       "    .dataframe tbody tr th {\n",
       "        vertical-align: top;\n",
       "    }\n",
       "\n",
       "    .dataframe thead th {\n",
       "        text-align: right;\n",
       "    }\n",
       "</style>\n",
       "<table border=\"1\" class=\"dataframe\">\n",
       "  <thead>\n",
       "    <tr style=\"text-align: right;\">\n",
       "      <th></th>\n",
       "      <th>Annual Income</th>\n",
       "      <th>Years in current job</th>\n",
       "      <th>Tax Liens</th>\n",
       "      <th>Number of Open Accounts</th>\n",
       "      <th>Years of Credit History</th>\n",
       "      <th>Maximum Open Credit</th>\n",
       "      <th>Number of Credit Problems</th>\n",
       "      <th>Months since last delinquent</th>\n",
       "      <th>Bankruptcies</th>\n",
       "      <th>Purpose</th>\n",
       "      <th>...</th>\n",
       "      <th>Current Credit Balance</th>\n",
       "      <th>Monthly Debt</th>\n",
       "      <th>Credit Score</th>\n",
       "      <th>Credit Default</th>\n",
       "      <th>Home Ownership_Home Mortgage</th>\n",
       "      <th>Home Ownership_Own Home</th>\n",
       "      <th>Home Ownership_Rent</th>\n",
       "      <th>Term_Long Term</th>\n",
       "      <th>Term_Short Term</th>\n",
       "      <th>Years in current job NaN</th>\n",
       "    </tr>\n",
       "  </thead>\n",
       "  <tbody>\n",
       "    <tr>\n",
       "      <th>1233</th>\n",
       "      <td>1602403.0</td>\n",
       "      <td>2</td>\n",
       "      <td>0.0</td>\n",
       "      <td>12.0</td>\n",
       "      <td>19.700001</td>\n",
       "      <td>3507042.0</td>\n",
       "      <td>0.0</td>\n",
       "      <td>NaN</td>\n",
       "      <td>0.0</td>\n",
       "      <td>debt consolidation</td>\n",
       "      <td>...</td>\n",
       "      <td>2913707.0</td>\n",
       "      <td>42464.0</td>\n",
       "      <td>676.0</td>\n",
       "      <td>0</td>\n",
       "      <td>1</td>\n",
       "      <td>0</td>\n",
       "      <td>0</td>\n",
       "      <td>1</td>\n",
       "      <td>0</td>\n",
       "      <td>0</td>\n",
       "    </tr>\n",
       "    <tr>\n",
       "      <th>2546</th>\n",
       "      <td>2131173.0</td>\n",
       "      <td>2</td>\n",
       "      <td>0.0</td>\n",
       "      <td>21.0</td>\n",
       "      <td>19.200001</td>\n",
       "      <td>1693978.0</td>\n",
       "      <td>0.0</td>\n",
       "      <td>NaN</td>\n",
       "      <td>0.0</td>\n",
       "      <td>debt consolidation</td>\n",
       "      <td>...</td>\n",
       "      <td>700777.0</td>\n",
       "      <td>24864.0</td>\n",
       "      <td>718.0</td>\n",
       "      <td>0</td>\n",
       "      <td>0</td>\n",
       "      <td>0</td>\n",
       "      <td>1</td>\n",
       "      <td>0</td>\n",
       "      <td>1</td>\n",
       "      <td>0</td>\n",
       "    </tr>\n",
       "  </tbody>\n",
       "</table>\n",
       "<p>2 rows × 21 columns</p>\n",
       "</div>"
      ],
      "text/plain": [
       "      Annual Income  Years in current job  Tax Liens  Number of Open Accounts  \\\n",
       "1233      1602403.0                     2        0.0                     12.0   \n",
       "2546      2131173.0                     2        0.0                     21.0   \n",
       "\n",
       "      Years of Credit History  Maximum Open Credit  Number of Credit Problems  \\\n",
       "1233                19.700001            3507042.0                        0.0   \n",
       "2546                19.200001            1693978.0                        0.0   \n",
       "\n",
       "      Months since last delinquent  Bankruptcies             Purpose  ...  \\\n",
       "1233                           NaN           0.0  debt consolidation  ...   \n",
       "2546                           NaN           0.0  debt consolidation  ...   \n",
       "\n",
       "      Current Credit Balance  Monthly Debt  Credit Score  Credit Default  \\\n",
       "1233               2913707.0       42464.0         676.0               0   \n",
       "2546                700777.0       24864.0         718.0               0   \n",
       "\n",
       "      Home Ownership_Home Mortgage  Home Ownership_Own Home  \\\n",
       "1233                             1                        0   \n",
       "2546                             0                        0   \n",
       "\n",
       "      Home Ownership_Rent  Term_Long Term  Term_Short Term  \\\n",
       "1233                    0               1                0   \n",
       "2546                    1               0                1   \n",
       "\n",
       "      Years in current job NaN  \n",
       "1233                         0  \n",
       "2546                         0  \n",
       "\n",
       "[2 rows x 21 columns]"
      ]
     },
     "execution_count": 2260,
     "metadata": {},
     "output_type": "execute_result"
    }
   ],
   "source": [
    "df_train.sample(2)"
   ]
  },
  {
   "cell_type": "markdown",
   "id": "60551af4",
   "metadata": {},
   "source": [
    "### *Years of Credit History*"
   ]
  },
  {
   "cell_type": "code",
   "execution_count": 2261,
   "id": "7a33c1fd",
   "metadata": {},
   "outputs": [
    {
     "data": {
      "text/plain": [
       "0       26.299999\n",
       "1       15.300000\n",
       "2       35.000000\n",
       "3       22.500000\n",
       "4       13.600000\n",
       "          ...    \n",
       "7495     8.500000\n",
       "7496    26.500000\n",
       "7497    32.099998\n",
       "7498    26.500000\n",
       "7499     9.400000\n",
       "Name: Years of Credit History, Length: 7500, dtype: float32"
      ]
     },
     "execution_count": 2261,
     "metadata": {},
     "output_type": "execute_result"
    }
   ],
   "source": [
    "df_train['Years of Credit History']"
   ]
  },
  {
   "cell_type": "code",
   "execution_count": 2262,
   "id": "ad464ed1",
   "metadata": {},
   "outputs": [
    {
     "data": {
      "image/png": "[encoded data removed]",
      "text/plain": [
       "<Figure size 432x288 with 1 Axes>"
      ]
     },
     "metadata": {
      "needs_background": "light"
     },
     "output_type": "display_data"
    }
   ],
   "source": [
    "df_train.boxplot('Years of Credit History')\n",
    "plt.show()"
   ]
  },
  {
   "cell_type": "code",
   "execution_count": 2263,
   "id": "0dcc2491",
   "metadata": {},
   "outputs": [],
   "source": [
    "q_max = df_train['Years of Credit History'].quantile(0.99)"
   ]
  },
  {
   "cell_type": "code",
   "execution_count": 2264,
   "id": "1a460245",
   "metadata": {},
   "outputs": [],
   "source": [
    "df_train['Years of Credit History'].clip(upper=q_max, axis=0, inplace=True)"
   ]
  },
  {
   "cell_type": "markdown",
   "id": "a2a0f0c4",
   "metadata": {},
   "source": [
    "### *Annual income*"
   ]
  },
  {
   "cell_type": "code",
   "execution_count": 2265,
   "id": "2650367b",
   "metadata": {
    "scrolled": false
   },
   "outputs": [
    {
     "data": {
      "text/plain": [
       "Annual Income                   1.000000\n",
       "Years in current job            0.070285\n",
       "Tax Liens                       0.066245\n",
       "Number of Open Accounts         0.188524\n",
       "Years of Credit History         0.190518\n",
       "Maximum Open Credit             0.062218\n",
       "Number of Credit Problems      -0.015407\n",
       "Months since last delinquent   -0.101787\n",
       "Bankruptcies                   -0.066877\n",
       "Current Loan Amount             0.032082\n",
       "Current Credit Balance          0.386481\n",
       "Monthly Debt                    0.584819\n",
       "Credit Score                   -0.037832\n",
       "Credit Default                 -0.101375\n",
       "Home Ownership_Home Mortgage    0.222966\n",
       "Home Ownership_Own Home        -0.070768\n",
       "Home Ownership_Rent            -0.185264\n",
       "Term_Long Term                  0.096060\n",
       "Term_Short Term                -0.096060\n",
       "Years in current job NaN             NaN\n",
       "Name: Annual Income, dtype: float64"
      ]
     },
     "execution_count": 2265,
     "metadata": {},
     "output_type": "execute_result"
    }
   ],
   "source": [
    "df_train.corr()['Annual Income']"
   ]
  },
  {
   "cell_type": "code",
   "execution_count": 2266,
   "id": "2a7b3539",
   "metadata": {
    "scrolled": false
   },
   "outputs": [],
   "source": [
    "condition = df_train.groupby(['Number of Open Accounts'])['Annual Income'].agg('median').to_dict()"
   ]
  },
  {
   "cell_type": "code",
   "execution_count": 2267,
   "id": "19346787",
   "metadata": {},
   "outputs": [
    {
     "data": {
      "text/plain": [
       "{2.0: 897769.0,\n",
       " 3.0: 759696.0,\n",
       " 4.0: 864557.0,\n",
       " 5.0: 966150.0,\n",
       " 6.0: 1036146.0,\n",
       " 7.0: 1050016.0,\n",
       " 8.0: 1149576.0,\n",
       " 9.0: 1143762.0,\n",
       " 10.0: 1125180.0,\n",
       " 11.0: 1235741.0,\n",
       " 12.0: 1219933.0,\n",
       " 13.0: 1158924.0,\n",
       " 14.0: 1260574.0,\n",
       " 15.0: 1306858.0,\n",
       " 16.0: 1387152.0,\n",
       " 17.0: 1403055.0,\n",
       " 18.0: 1408783.5,\n",
       " 19.0: 1443601.0,\n",
       " 20.0: 1407567.5,\n",
       " 21.0: 1466306.0,\n",
       " 22.0: 1578178.0,\n",
       " 23.0: 1489486.0,\n",
       " 24.0: 1553896.0,\n",
       " 25.0: 1226792.0,\n",
       " 26.0: 1361426.0,\n",
       " 27.0: 2020536.0,\n",
       " 28.0: 1601719.0,\n",
       " 29.0: 1300464.5,\n",
       " 30.0: 1983495.5,\n",
       " 31.0: 2150477.0,\n",
       " 32.0: 1346948.0,\n",
       " 33.0: 1040392.5,\n",
       " 34.0: 1256622.0,\n",
       " 35.0: 1257724.0,\n",
       " 37.0: 2078875.5,\n",
       " 38.0: 1177411.0,\n",
       " 41.0: 2714264.0,\n",
       " 42.0: 2167178.0,\n",
       " 43.0: 2915759.0}"
      ]
     },
     "execution_count": 2267,
     "metadata": {},
     "output_type": "execute_result"
    }
   ],
   "source": [
    "condition"
   ]
  },
  {
   "cell_type": "code",
   "execution_count": 2270,
   "id": "61403bad",
   "metadata": {
    "scrolled": false
   },
   "outputs": [
    {
     "data": {
      "text/html": [
       "<div>\n",
       "<style scoped>\n",
       "    .dataframe tbody tr th:only-of-type {\n",
       "        vertical-align: middle;\n",
       "    }\n",
       "\n",
       "    .dataframe tbody tr th {\n",
       "        vertical-align: top;\n",
       "    }\n",
       "\n",
       "    .dataframe thead th {\n",
       "        text-align: right;\n",
       "    }\n",
       "</style>\n",
       "<table border=\"1\" class=\"dataframe\">\n",
       "  <thead>\n",
       "    <tr style=\"text-align: right;\">\n",
       "      <th></th>\n",
       "      <th>Annual Income</th>\n",
       "      <th>Years in current job</th>\n",
       "      <th>Tax Liens</th>\n",
       "      <th>Number of Open Accounts</th>\n",
       "      <th>Years of Credit History</th>\n",
       "      <th>Maximum Open Credit</th>\n",
       "      <th>Number of Credit Problems</th>\n",
       "      <th>Months since last delinquent</th>\n",
       "      <th>Bankruptcies</th>\n",
       "      <th>Purpose</th>\n",
       "      <th>...</th>\n",
       "      <th>Current Credit Balance</th>\n",
       "      <th>Monthly Debt</th>\n",
       "      <th>Credit Score</th>\n",
       "      <th>Credit Default</th>\n",
       "      <th>Home Ownership_Home Mortgage</th>\n",
       "      <th>Home Ownership_Own Home</th>\n",
       "      <th>Home Ownership_Rent</th>\n",
       "      <th>Term_Long Term</th>\n",
       "      <th>Term_Short Term</th>\n",
       "      <th>Years in current job NaN</th>\n",
       "    </tr>\n",
       "  </thead>\n",
       "  <tbody>\n",
       "    <tr>\n",
       "      <th>5</th>\n",
       "      <td>NaN</td>\n",
       "      <td>7</td>\n",
       "      <td>0.0</td>\n",
       "      <td>12.0</td>\n",
       "      <td>14.600000</td>\n",
       "      <td>366784.0</td>\n",
       "      <td>0.0</td>\n",
       "      <td>NaN</td>\n",
       "      <td>0.0</td>\n",
       "      <td>other</td>\n",
       "      <td>...</td>\n",
       "      <td>165680.0</td>\n",
       "      <td>18692.0</td>\n",
       "      <td>NaN</td>\n",
       "      <td>1</td>\n",
       "      <td>0</td>\n",
       "      <td>0</td>\n",
       "      <td>1</td>\n",
       "      <td>1</td>\n",
       "      <td>0</td>\n",
       "      <td>1</td>\n",
       "    </tr>\n",
       "    <tr>\n",
       "      <th>8</th>\n",
       "      <td>NaN</td>\n",
       "      <td>5</td>\n",
       "      <td>0.0</td>\n",
       "      <td>17.0</td>\n",
       "      <td>15.700000</td>\n",
       "      <td>0.0</td>\n",
       "      <td>1.0</td>\n",
       "      <td>NaN</td>\n",
       "      <td>1.0</td>\n",
       "      <td>home improvements</td>\n",
       "      <td>...</td>\n",
       "      <td>19.0</td>\n",
       "      <td>17.0</td>\n",
       "      <td>NaN</td>\n",
       "      <td>0</td>\n",
       "      <td>1</td>\n",
       "      <td>0</td>\n",
       "      <td>0</td>\n",
       "      <td>0</td>\n",
       "      <td>1</td>\n",
       "      <td>1</td>\n",
       "    </tr>\n",
       "    <tr>\n",
       "      <th>9</th>\n",
       "      <td>NaN</td>\n",
       "      <td>1</td>\n",
       "      <td>0.0</td>\n",
       "      <td>10.0</td>\n",
       "      <td>24.600000</td>\n",
       "      <td>511302.0</td>\n",
       "      <td>0.0</td>\n",
       "      <td>6.0</td>\n",
       "      <td>0.0</td>\n",
       "      <td>debt consolidation</td>\n",
       "      <td>...</td>\n",
       "      <td>205333.0</td>\n",
       "      <td>17613.0</td>\n",
       "      <td>NaN</td>\n",
       "      <td>1</td>\n",
       "      <td>1</td>\n",
       "      <td>0</td>\n",
       "      <td>0</td>\n",
       "      <td>1</td>\n",
       "      <td>0</td>\n",
       "      <td>1</td>\n",
       "    </tr>\n",
       "    <tr>\n",
       "      <th>10</th>\n",
       "      <td>NaN</td>\n",
       "      <td>0</td>\n",
       "      <td>0.0</td>\n",
       "      <td>7.0</td>\n",
       "      <td>11.500000</td>\n",
       "      <td>256322.0</td>\n",
       "      <td>0.0</td>\n",
       "      <td>NaN</td>\n",
       "      <td>0.0</td>\n",
       "      <td>debt consolidation</td>\n",
       "      <td>...</td>\n",
       "      <td>187492.0</td>\n",
       "      <td>14592.0</td>\n",
       "      <td>NaN</td>\n",
       "      <td>0</td>\n",
       "      <td>1</td>\n",
       "      <td>0</td>\n",
       "      <td>0</td>\n",
       "      <td>0</td>\n",
       "      <td>1</td>\n",
       "      <td>1</td>\n",
       "    </tr>\n",
       "    <tr>\n",
       "      <th>16</th>\n",
       "      <td>NaN</td>\n",
       "      <td>7</td>\n",
       "      <td>0.0</td>\n",
       "      <td>6.0</td>\n",
       "      <td>17.799999</td>\n",
       "      <td>899492.0</td>\n",
       "      <td>0.0</td>\n",
       "      <td>NaN</td>\n",
       "      <td>0.0</td>\n",
       "      <td>debt consolidation</td>\n",
       "      <td>...</td>\n",
       "      <td>538346.0</td>\n",
       "      <td>18844.0</td>\n",
       "      <td>NaN</td>\n",
       "      <td>1</td>\n",
       "      <td>0</td>\n",
       "      <td>0</td>\n",
       "      <td>1</td>\n",
       "      <td>1</td>\n",
       "      <td>0</td>\n",
       "      <td>1</td>\n",
       "    </tr>\n",
       "    <tr>\n",
       "      <th>...</th>\n",
       "      <td>...</td>\n",
       "      <td>...</td>\n",
       "      <td>...</td>\n",
       "      <td>...</td>\n",
       "      <td>...</td>\n",
       "      <td>...</td>\n",
       "      <td>...</td>\n",
       "      <td>...</td>\n",
       "      <td>...</td>\n",
       "      <td>...</td>\n",
       "      <td>...</td>\n",
       "      <td>...</td>\n",
       "      <td>...</td>\n",
       "      <td>...</td>\n",
       "      <td>...</td>\n",
       "      <td>...</td>\n",
       "      <td>...</td>\n",
       "      <td>...</td>\n",
       "      <td>...</td>\n",
       "      <td>...</td>\n",
       "      <td>...</td>\n",
       "    </tr>\n",
       "    <tr>\n",
       "      <th>7482</th>\n",
       "      <td>NaN</td>\n",
       "      <td>10</td>\n",
       "      <td>0.0</td>\n",
       "      <td>14.0</td>\n",
       "      <td>30.500000</td>\n",
       "      <td>645062.0</td>\n",
       "      <td>0.0</td>\n",
       "      <td>45.0</td>\n",
       "      <td>0.0</td>\n",
       "      <td>debt consolidation</td>\n",
       "      <td>...</td>\n",
       "      <td>518662.0</td>\n",
       "      <td>23506.0</td>\n",
       "      <td>NaN</td>\n",
       "      <td>0</td>\n",
       "      <td>1</td>\n",
       "      <td>0</td>\n",
       "      <td>0</td>\n",
       "      <td>0</td>\n",
       "      <td>1</td>\n",
       "      <td>1</td>\n",
       "    </tr>\n",
       "    <tr>\n",
       "      <th>7492</th>\n",
       "      <td>NaN</td>\n",
       "      <td>10</td>\n",
       "      <td>0.0</td>\n",
       "      <td>10.0</td>\n",
       "      <td>13.300000</td>\n",
       "      <td>423984.0</td>\n",
       "      <td>0.0</td>\n",
       "      <td>NaN</td>\n",
       "      <td>0.0</td>\n",
       "      <td>debt consolidation</td>\n",
       "      <td>...</td>\n",
       "      <td>161481.0</td>\n",
       "      <td>20966.0</td>\n",
       "      <td>NaN</td>\n",
       "      <td>0</td>\n",
       "      <td>1</td>\n",
       "      <td>0</td>\n",
       "      <td>0</td>\n",
       "      <td>0</td>\n",
       "      <td>1</td>\n",
       "      <td>1</td>\n",
       "    </tr>\n",
       "    <tr>\n",
       "      <th>7494</th>\n",
       "      <td>NaN</td>\n",
       "      <td>0</td>\n",
       "      <td>0.0</td>\n",
       "      <td>7.0</td>\n",
       "      <td>8.200000</td>\n",
       "      <td>301554.0</td>\n",
       "      <td>0.0</td>\n",
       "      <td>NaN</td>\n",
       "      <td>0.0</td>\n",
       "      <td>debt consolidation</td>\n",
       "      <td>...</td>\n",
       "      <td>210938.0</td>\n",
       "      <td>5070.0</td>\n",
       "      <td>NaN</td>\n",
       "      <td>0</td>\n",
       "      <td>0</td>\n",
       "      <td>1</td>\n",
       "      <td>0</td>\n",
       "      <td>0</td>\n",
       "      <td>1</td>\n",
       "      <td>1</td>\n",
       "    </tr>\n",
       "    <tr>\n",
       "      <th>7498</th>\n",
       "      <td>NaN</td>\n",
       "      <td>10</td>\n",
       "      <td>0.0</td>\n",
       "      <td>21.0</td>\n",
       "      <td>26.500000</td>\n",
       "      <td>1141250.0</td>\n",
       "      <td>0.0</td>\n",
       "      <td>NaN</td>\n",
       "      <td>0.0</td>\n",
       "      <td>debt consolidation</td>\n",
       "      <td>...</td>\n",
       "      <td>476064.0</td>\n",
       "      <td>37118.0</td>\n",
       "      <td>NaN</td>\n",
       "      <td>0</td>\n",
       "      <td>1</td>\n",
       "      <td>0</td>\n",
       "      <td>0</td>\n",
       "      <td>0</td>\n",
       "      <td>1</td>\n",
       "      <td>1</td>\n",
       "    </tr>\n",
       "    <tr>\n",
       "      <th>7499</th>\n",
       "      <td>NaN</td>\n",
       "      <td>4</td>\n",
       "      <td>0.0</td>\n",
       "      <td>8.0</td>\n",
       "      <td>9.400000</td>\n",
       "      <td>480832.0</td>\n",
       "      <td>0.0</td>\n",
       "      <td>NaN</td>\n",
       "      <td>0.0</td>\n",
       "      <td>debt consolidation</td>\n",
       "      <td>...</td>\n",
       "      <td>288192.0</td>\n",
       "      <td>9061.0</td>\n",
       "      <td>NaN</td>\n",
       "      <td>0</td>\n",
       "      <td>0</td>\n",
       "      <td>0</td>\n",
       "      <td>1</td>\n",
       "      <td>0</td>\n",
       "      <td>1</td>\n",
       "      <td>1</td>\n",
       "    </tr>\n",
       "  </tbody>\n",
       "</table>\n",
       "<p>1557 rows × 21 columns</p>\n",
       "</div>"
      ],
      "text/plain": [
       "      Annual Income  Years in current job  Tax Liens  Number of Open Accounts  \\\n",
       "5               NaN                     7        0.0                     12.0   \n",
       "8               NaN                     5        0.0                     17.0   \n",
       "9               NaN                     1        0.0                     10.0   \n",
       "10              NaN                     0        0.0                      7.0   \n",
       "16              NaN                     7        0.0                      6.0   \n",
       "...             ...                   ...        ...                      ...   \n",
       "7482            NaN                    10        0.0                     14.0   \n",
       "7492            NaN                    10        0.0                     10.0   \n",
       "7494            NaN                     0        0.0                      7.0   \n",
       "7498            NaN                    10        0.0                     21.0   \n",
       "7499            NaN                     4        0.0                      8.0   \n",
       "\n",
       "      Years of Credit History  Maximum Open Credit  Number of Credit Problems  \\\n",
       "5                   14.600000             366784.0                        0.0   \n",
       "8                   15.700000                  0.0                        1.0   \n",
       "9                   24.600000             511302.0                        0.0   \n",
       "10                  11.500000             256322.0                        0.0   \n",
       "16                  17.799999             899492.0                        0.0   \n",
       "...                       ...                  ...                        ...   \n",
       "7482                30.500000             645062.0                        0.0   \n",
       "7492                13.300000             423984.0                        0.0   \n",
       "7494                 8.200000             301554.0                        0.0   \n",
       "7498                26.500000            1141250.0                        0.0   \n",
       "7499                 9.400000             480832.0                        0.0   \n",
       "\n",
       "      Months since last delinquent  Bankruptcies             Purpose  ...  \\\n",
       "5                              NaN           0.0               other  ...   \n",
       "8                              NaN           1.0   home improvements  ...   \n",
       "9                              6.0           0.0  debt consolidation  ...   \n",
       "10                             NaN           0.0  debt consolidation  ...   \n",
       "16                             NaN           0.0  debt consolidation  ...   \n",
       "...                            ...           ...                 ...  ...   \n",
       "7482                          45.0           0.0  debt consolidation  ...   \n",
       "7492                           NaN           0.0  debt consolidation  ...   \n",
       "7494                           NaN           0.0  debt consolidation  ...   \n",
       "7498                           NaN           0.0  debt consolidation  ...   \n",
       "7499                           NaN           0.0  debt consolidation  ...   \n",
       "\n",
       "      Current Credit Balance  Monthly Debt  Credit Score  Credit Default  \\\n",
       "5                   165680.0       18692.0           NaN               1   \n",
       "8                       19.0          17.0           NaN               0   \n",
       "9                   205333.0       17613.0           NaN               1   \n",
       "10                  187492.0       14592.0           NaN               0   \n",
       "16                  538346.0       18844.0           NaN               1   \n",
       "...                      ...           ...           ...             ...   \n",
       "7482                518662.0       23506.0           NaN               0   \n",
       "7492                161481.0       20966.0           NaN               0   \n",
       "7494                210938.0        5070.0           NaN               0   \n",
       "7498                476064.0       37118.0           NaN               0   \n",
       "7499                288192.0        9061.0           NaN               0   \n",
       "\n",
       "      Home Ownership_Home Mortgage  Home Ownership_Own Home  \\\n",
       "5                                0                        0   \n",
       "8                                1                        0   \n",
       "9                                1                        0   \n",
       "10                               1                        0   \n",
       "16                               0                        0   \n",
       "...                            ...                      ...   \n",
       "7482                             1                        0   \n",
       "7492                             1                        0   \n",
       "7494                             0                        1   \n",
       "7498                             1                        0   \n",
       "7499                             0                        0   \n",
       "\n",
       "      Home Ownership_Rent  Term_Long Term  Term_Short Term  \\\n",
       "5                       1               1                0   \n",
       "8                       0               0                1   \n",
       "9                       0               1                0   \n",
       "10                      0               0                1   \n",
       "16                      1               1                0   \n",
       "...                   ...             ...              ...   \n",
       "7482                    0               0                1   \n",
       "7492                    0               0                1   \n",
       "7494                    0               0                1   \n",
       "7498                    0               0                1   \n",
       "7499                    1               0                1   \n",
       "\n",
       "      Years in current job NaN  \n",
       "5                            1  \n",
       "8                            1  \n",
       "9                            1  \n",
       "10                           1  \n",
       "16                           1  \n",
       "...                        ...  \n",
       "7482                         1  \n",
       "7492                         1  \n",
       "7494                         1  \n",
       "7498                         1  \n",
       "7499                         1  \n",
       "\n",
       "[1557 rows x 21 columns]"
      ]
     },
     "execution_count": 2270,
     "metadata": {},
     "output_type": "execute_result"
    }
   ],
   "source": [
    "df_train.loc[df_train['Annual Income'].isna()]"
   ]
  },
  {
   "cell_type": "code",
   "execution_count": 2271,
   "id": "3e27f809",
   "metadata": {},
   "outputs": [],
   "source": [
    "df_train['Annual Income NaN'] = 0\n",
    "df_train.loc[df_train['Annual Income'].isna(), 'Annual Income NaN'] = 1\n",
    "df_train.loc[df_train['Annual Income'].isna(), 'Annual Income'] = df_train['Number of Open Accounts'].map(condition) "
   ]
  },
  {
   "cell_type": "code",
   "execution_count": 2272,
   "id": "f93e710c",
   "metadata": {},
   "outputs": [
    {
     "data": {
      "text/html": [
       "<div>\n",
       "<style scoped>\n",
       "    .dataframe tbody tr th:only-of-type {\n",
       "        vertical-align: middle;\n",
       "    }\n",
       "\n",
       "    .dataframe tbody tr th {\n",
       "        vertical-align: top;\n",
       "    }\n",
       "\n",
       "    .dataframe thead th {\n",
       "        text-align: right;\n",
       "    }\n",
       "</style>\n",
       "<table border=\"1\" class=\"dataframe\">\n",
       "  <thead>\n",
       "    <tr style=\"text-align: right;\">\n",
       "      <th></th>\n",
       "      <th>Annual Income</th>\n",
       "      <th>Years in current job</th>\n",
       "      <th>Tax Liens</th>\n",
       "      <th>Number of Open Accounts</th>\n",
       "      <th>Years of Credit History</th>\n",
       "      <th>Maximum Open Credit</th>\n",
       "      <th>Number of Credit Problems</th>\n",
       "      <th>Months since last delinquent</th>\n",
       "      <th>Bankruptcies</th>\n",
       "      <th>Purpose</th>\n",
       "      <th>...</th>\n",
       "      <th>Monthly Debt</th>\n",
       "      <th>Credit Score</th>\n",
       "      <th>Credit Default</th>\n",
       "      <th>Home Ownership_Home Mortgage</th>\n",
       "      <th>Home Ownership_Own Home</th>\n",
       "      <th>Home Ownership_Rent</th>\n",
       "      <th>Term_Long Term</th>\n",
       "      <th>Term_Short Term</th>\n",
       "      <th>Years in current job NaN</th>\n",
       "      <th>Annual Income NaN</th>\n",
       "    </tr>\n",
       "  </thead>\n",
       "  <tbody>\n",
       "  </tbody>\n",
       "</table>\n",
       "<p>0 rows × 22 columns</p>\n",
       "</div>"
      ],
      "text/plain": [
       "Empty DataFrame\n",
       "Columns: [Annual Income, Years in current job, Tax Liens, Number of Open Accounts, Years of Credit History, Maximum Open Credit, Number of Credit Problems, Months since last delinquent, Bankruptcies, Purpose, Current Loan Amount, Current Credit Balance, Monthly Debt, Credit Score, Credit Default, Home Ownership_Home Mortgage, Home Ownership_Own Home, Home Ownership_Rent, Term_Long Term, Term_Short Term, Years in current job NaN, Annual Income NaN]\n",
       "Index: []\n",
       "\n",
       "[0 rows x 22 columns]"
      ]
     },
     "execution_count": 2272,
     "metadata": {},
     "output_type": "execute_result"
    }
   ],
   "source": [
    "df_train.loc[df_train['Annual Income'].isna()]"
   ]
  },
  {
   "cell_type": "code",
   "execution_count": 2275,
   "id": "acb691e0",
   "metadata": {},
   "outputs": [],
   "source": [
    "df_train['Annual Income'].fillna(df_train['Annual Income'].median(), inplace=True)"
   ]
  },
  {
   "cell_type": "code",
   "execution_count": 2276,
   "id": "47df84ca",
   "metadata": {},
   "outputs": [
    {
     "data": {
      "text/plain": [
       "1143762.0    154\n",
       "1149576.0    150\n",
       "1125180.0    147\n",
       "1235741.0    127\n",
       "1050016.0    123\n",
       "            ... \n",
       "712082.0       1\n",
       "695476.0       1\n",
       "678889.0       1\n",
       "1168158.0      1\n",
       "402192.0       1\n",
       "Name: Annual Income, Length: 5492, dtype: int64"
      ]
     },
     "execution_count": 2276,
     "metadata": {},
     "output_type": "execute_result"
    }
   ],
   "source": [
    "df_train['Annual Income'].value_counts()"
   ]
  },
  {
   "cell_type": "code",
   "execution_count": 2277,
   "id": "66583dc4",
   "metadata": {},
   "outputs": [
    {
     "data": {
      "text/html": [
       "<div>\n",
       "<style scoped>\n",
       "    .dataframe tbody tr th:only-of-type {\n",
       "        vertical-align: middle;\n",
       "    }\n",
       "\n",
       "    .dataframe tbody tr th {\n",
       "        vertical-align: top;\n",
       "    }\n",
       "\n",
       "    .dataframe thead th {\n",
       "        text-align: right;\n",
       "    }\n",
       "</style>\n",
       "<table border=\"1\" class=\"dataframe\">\n",
       "  <thead>\n",
       "    <tr style=\"text-align: right;\">\n",
       "      <th></th>\n",
       "      <th>Annual Income</th>\n",
       "      <th>Years in current job</th>\n",
       "      <th>Tax Liens</th>\n",
       "      <th>Number of Open Accounts</th>\n",
       "      <th>Years of Credit History</th>\n",
       "      <th>Maximum Open Credit</th>\n",
       "      <th>Number of Credit Problems</th>\n",
       "      <th>Months since last delinquent</th>\n",
       "      <th>Bankruptcies</th>\n",
       "      <th>Purpose</th>\n",
       "      <th>...</th>\n",
       "      <th>Monthly Debt</th>\n",
       "      <th>Credit Score</th>\n",
       "      <th>Credit Default</th>\n",
       "      <th>Home Ownership_Home Mortgage</th>\n",
       "      <th>Home Ownership_Own Home</th>\n",
       "      <th>Home Ownership_Rent</th>\n",
       "      <th>Term_Long Term</th>\n",
       "      <th>Term_Short Term</th>\n",
       "      <th>Years in current job NaN</th>\n",
       "      <th>Annual Income NaN</th>\n",
       "    </tr>\n",
       "  </thead>\n",
       "  <tbody>\n",
       "    <tr>\n",
       "      <th>5673</th>\n",
       "      <td>949810.0</td>\n",
       "      <td>10</td>\n",
       "      <td>0.0</td>\n",
       "      <td>15.0</td>\n",
       "      <td>40.401001</td>\n",
       "      <td>1180388.0</td>\n",
       "      <td>0.0</td>\n",
       "      <td>71.0</td>\n",
       "      <td>0.0</td>\n",
       "      <td>debt consolidation</td>\n",
       "      <td>...</td>\n",
       "      <td>15514.0</td>\n",
       "      <td>727.0</td>\n",
       "      <td>0</td>\n",
       "      <td>1</td>\n",
       "      <td>0</td>\n",
       "      <td>0</td>\n",
       "      <td>1</td>\n",
       "      <td>0</td>\n",
       "      <td>0</td>\n",
       "      <td>0</td>\n",
       "    </tr>\n",
       "    <tr>\n",
       "      <th>1865</th>\n",
       "      <td>1143762.0</td>\n",
       "      <td>4</td>\n",
       "      <td>0.0</td>\n",
       "      <td>9.0</td>\n",
       "      <td>17.100000</td>\n",
       "      <td>260084.0</td>\n",
       "      <td>0.0</td>\n",
       "      <td>37.0</td>\n",
       "      <td>0.0</td>\n",
       "      <td>debt consolidation</td>\n",
       "      <td>...</td>\n",
       "      <td>5749.0</td>\n",
       "      <td>NaN</td>\n",
       "      <td>1</td>\n",
       "      <td>1</td>\n",
       "      <td>0</td>\n",
       "      <td>0</td>\n",
       "      <td>0</td>\n",
       "      <td>1</td>\n",
       "      <td>1</td>\n",
       "      <td>1</td>\n",
       "    </tr>\n",
       "  </tbody>\n",
       "</table>\n",
       "<p>2 rows × 22 columns</p>\n",
       "</div>"
      ],
      "text/plain": [
       "      Annual Income  Years in current job  Tax Liens  Number of Open Accounts  \\\n",
       "5673       949810.0                    10        0.0                     15.0   \n",
       "1865      1143762.0                     4        0.0                      9.0   \n",
       "\n",
       "      Years of Credit History  Maximum Open Credit  Number of Credit Problems  \\\n",
       "5673                40.401001            1180388.0                        0.0   \n",
       "1865                17.100000             260084.0                        0.0   \n",
       "\n",
       "      Months since last delinquent  Bankruptcies             Purpose  ...  \\\n",
       "5673                          71.0           0.0  debt consolidation  ...   \n",
       "1865                          37.0           0.0  debt consolidation  ...   \n",
       "\n",
       "      Monthly Debt  Credit Score  Credit Default  \\\n",
       "5673       15514.0         727.0               0   \n",
       "1865        5749.0           NaN               1   \n",
       "\n",
       "      Home Ownership_Home Mortgage  Home Ownership_Own Home  \\\n",
       "5673                             1                        0   \n",
       "1865                             1                        0   \n",
       "\n",
       "      Home Ownership_Rent  Term_Long Term  Term_Short Term  \\\n",
       "5673                    0               1                0   \n",
       "1865                    0               0                1   \n",
       "\n",
       "      Years in current job NaN  Annual Income NaN  \n",
       "5673                         0                  0  \n",
       "1865                         1                  1  \n",
       "\n",
       "[2 rows x 22 columns]"
      ]
     },
     "execution_count": 2277,
     "metadata": {},
     "output_type": "execute_result"
    }
   ],
   "source": [
    "df_train.sample(2)"
   ]
  },
  {
   "cell_type": "markdown",
   "id": "43c3c671",
   "metadata": {},
   "source": [
    "### *Maximum Open Credit*"
   ]
  },
  {
   "cell_type": "code",
   "execution_count": 2278,
   "id": "056111dd",
   "metadata": {},
   "outputs": [
    {
     "data": {
      "image/png": "[encoded data removed]",
      "text/plain": [
       "<Figure size 432x288 with 1 Axes>"
      ]
     },
     "metadata": {
      "needs_background": "light"
     },
     "output_type": "display_data"
    }
   ],
   "source": [
    "df_train.boxplot('Maximum Open Credit')\n",
    "plt.show()"
   ]
  },
  {
   "cell_type": "code",
   "execution_count": 2279,
   "id": "713563ba",
   "metadata": {},
   "outputs": [
    {
     "data": {
      "text/plain": [
       "0    30\n",
       "Name: Credit Default, dtype: int64"
      ]
     },
     "execution_count": 2279,
     "metadata": {},
     "output_type": "execute_result"
    }
   ],
   "source": [
    "df_train.loc[(df_train['Maximum Open Credit'] > 0.7 * 10**7), 'Credit Default'].value_counts()"
   ]
  },
  {
   "cell_type": "code",
   "execution_count": 2280,
   "id": "fe9e3436",
   "metadata": {
    "scrolled": true
   },
   "outputs": [],
   "source": [
    "q_min = df_train['Maximum Open Credit'].quantile(0.01)"
   ]
  },
  {
   "cell_type": "code",
   "execution_count": 2281,
   "id": "0c646e4a",
   "metadata": {},
   "outputs": [],
   "source": [
    " q_max = df_train['Maximum Open Credit'].quantile(0.99)"
   ]
  },
  {
   "cell_type": "code",
   "execution_count": 2282,
   "id": "69234eaa",
   "metadata": {},
   "outputs": [],
   "source": [
    "df_train['Maximum Open Credit'].clip(upper=q_max, lower=q_min, axis=0, inplace=True)"
   ]
  },
  {
   "cell_type": "code",
   "execution_count": 2283,
   "id": "1f68e5da",
   "metadata": {},
   "outputs": [],
   "source": [
    "# df_train.loc[(df_train['Maximum Open Credit'] > 0.7 * 10**7), 'Maximum Open Credit'] = df_train['Maximum Open Credit'].median()"
   ]
  },
  {
   "cell_type": "markdown",
   "id": "4339a97b",
   "metadata": {},
   "source": [
    "### *Months since last delinquent*"
   ]
  },
  {
   "cell_type": "code",
   "execution_count": 2284,
   "id": "6a3b6dc1",
   "metadata": {},
   "outputs": [
    {
     "data": {
      "text/plain": [
       "14.0     76\n",
       "29.0     71\n",
       "33.0     68\n",
       "8.0      68\n",
       "12.0     65\n",
       "         ..\n",
       "86.0      1\n",
       "118.0     1\n",
       "84.0      1\n",
       "91.0      1\n",
       "92.0      1\n",
       "Name: Months since last delinquent, Length: 89, dtype: int64"
      ]
     },
     "execution_count": 2284,
     "metadata": {},
     "output_type": "execute_result"
    }
   ],
   "source": [
    "df_train['Months since last delinquent'].value_counts()"
   ]
  },
  {
   "cell_type": "code",
   "execution_count": 2285,
   "id": "7c2c6f4e",
   "metadata": {},
   "outputs": [
    {
     "data": {
      "text/plain": [
       "count    3419.000000\n",
       "mean       34.692600\n",
       "std        21.688807\n",
       "min         0.000000\n",
       "25%        16.000000\n",
       "50%        32.000000\n",
       "75%        50.000000\n",
       "max       118.000000\n",
       "Name: Months since last delinquent, dtype: float64"
      ]
     },
     "execution_count": 2285,
     "metadata": {},
     "output_type": "execute_result"
    }
   ],
   "source": [
    "df_train['Months since last delinquent'].describe()"
   ]
  },
  {
   "cell_type": "code",
   "execution_count": 2286,
   "id": "f8dbb39f",
   "metadata": {},
   "outputs": [],
   "source": [
    "df_train['Months since last delinquent NaN'] = 0\n",
    "df_train.loc[df_train['Months since last delinquent'].isna(), 'Months since last delinquent NaN'] = 1\n",
    "df_train['Months since last delinquent'].fillna(df_train['Months since last delinquent'].median(), inplace=True)"
   ]
  },
  {
   "cell_type": "code",
   "execution_count": 2287,
   "id": "6d68fb54",
   "metadata": {},
   "outputs": [
    {
     "name": "stdout",
     "output_type": "stream",
     "text": [
      "<class 'pandas.core.frame.DataFrame'>\n",
      "RangeIndex: 7500 entries, 0 to 7499\n",
      "Data columns (total 23 columns):\n",
      " #   Column                            Non-Null Count  Dtype  \n",
      "---  ------                            --------------  -----  \n",
      " 0   Annual Income                     7500 non-null   float32\n",
      " 1   Years in current job              7500 non-null   int64  \n",
      " 2   Tax Liens                         7500 non-null   float32\n",
      " 3   Number of Open Accounts           7500 non-null   float32\n",
      " 4   Years of Credit History           7500 non-null   float32\n",
      " 5   Maximum Open Credit               7500 non-null   float32\n",
      " 6   Number of Credit Problems         7500 non-null   float32\n",
      " 7   Months since last delinquent      7500 non-null   float32\n",
      " 8   Bankruptcies                      7486 non-null   float32\n",
      " 9   Purpose                           7500 non-null   object \n",
      " 10  Current Loan Amount               7500 non-null   float32\n",
      " 11  Current Credit Balance            7500 non-null   float32\n",
      " 12  Monthly Debt                      7500 non-null   float32\n",
      " 13  Credit Score                      5943 non-null   float32\n",
      " 14  Credit Default                    7500 non-null   int8   \n",
      " 15  Home Ownership_Home Mortgage      7500 non-null   uint8  \n",
      " 16  Home Ownership_Own Home           7500 non-null   uint8  \n",
      " 17  Home Ownership_Rent               7500 non-null   uint8  \n",
      " 18  Term_Long Term                    7500 non-null   uint8  \n",
      " 19  Term_Short Term                   7500 non-null   uint8  \n",
      " 20  Years in current job NaN          7500 non-null   int64  \n",
      " 21  Annual Income NaN                 7500 non-null   int64  \n",
      " 22  Months since last delinquent NaN  7500 non-null   int64  \n",
      "dtypes: float32(12), int64(4), int8(1), object(1), uint8(5)\n",
      "memory usage: 688.6+ KB\n"
     ]
    }
   ],
   "source": [
    "df_train.info()"
   ]
  },
  {
   "cell_type": "markdown",
   "id": "2baea1fe",
   "metadata": {},
   "source": [
    "### *Bankruptcies*"
   ]
  },
  {
   "cell_type": "code",
   "execution_count": 2288,
   "id": "a89415e4",
   "metadata": {},
   "outputs": [
    {
     "data": {
      "text/plain": [
       "0.0    6660\n",
       "1.0     786\n",
       "2.0      31\n",
       "3.0       7\n",
       "4.0       2\n",
       "Name: Bankruptcies, dtype: int64"
      ]
     },
     "execution_count": 2288,
     "metadata": {},
     "output_type": "execute_result"
    }
   ],
   "source": [
    "df_train['Bankruptcies'].value_counts()"
   ]
  },
  {
   "cell_type": "code",
   "execution_count": 2289,
   "id": "8beb309e",
   "metadata": {},
   "outputs": [
    {
     "data": {
      "text/plain": [
       "Annual Income                      -0.060807\n",
       "Years in current job                0.074352\n",
       "Tax Liens                           0.057360\n",
       "Number of Open Accounts            -0.019130\n",
       "Years of Credit History             0.085812\n",
       "Maximum Open Credit                -0.144804\n",
       "Number of Credit Problems           0.730751\n",
       "Months since last delinquent        0.109507\n",
       "Bankruptcies                        1.000000\n",
       "Current Loan Amount                -0.005987\n",
       "Current Credit Balance             -0.142849\n",
       "Monthly Debt                       -0.079579\n",
       "Credit Score                       -0.027488\n",
       "Credit Default                      0.001648\n",
       "Home Ownership_Home Mortgage       -0.006354\n",
       "Home Ownership_Own Home            -0.006101\n",
       "Home Ownership_Rent                 0.009879\n",
       "Term_Long Term                     -0.031367\n",
       "Term_Short Term                     0.031367\n",
       "Years in current job NaN           -0.004905\n",
       "Annual Income NaN                  -0.004905\n",
       "Months since last delinquent NaN    0.004561\n",
       "Name: Bankruptcies, dtype: float64"
      ]
     },
     "execution_count": 2289,
     "metadata": {},
     "output_type": "execute_result"
    }
   ],
   "source": [
    "df_train.corr()['Bankruptcies']"
   ]
  },
  {
   "cell_type": "code",
   "execution_count": 2290,
   "id": "462190cf",
   "metadata": {},
   "outputs": [
    {
     "data": {
      "image/png": "[encoded data removed]",
      "text/plain": [
       "<Figure size 432x432 with 3 Axes>"
      ]
     },
     "metadata": {
      "needs_background": "light"
     },
     "output_type": "display_data"
    }
   ],
   "source": [
    "grid = sns.jointplot(x=df_train.loc[df_train['Bankruptcies'] >= 0, 'Bankruptcies'], y=df_train['Number of Credit Problems'], kind='reg')\n",
    "\n",
    "plt.show()"
   ]
  },
  {
   "cell_type": "code",
   "execution_count": 2291,
   "id": "5f67ebc9",
   "metadata": {},
   "outputs": [],
   "source": [
    "df_train['Bankruptcies NaN'] = 0\n",
    "df_train.loc[df_train['Bankruptcies'].isna(), 'Bankruptcies NaN'] = 1\n",
    "df_train['Bankruptcies'].fillna(df_train['Number of Credit Problems'], inplace=True)"
   ]
  },
  {
   "cell_type": "code",
   "execution_count": 2292,
   "id": "621bcfe6",
   "metadata": {},
   "outputs": [
    {
     "data": {
      "text/html": [
       "<div>\n",
       "<style scoped>\n",
       "    .dataframe tbody tr th:only-of-type {\n",
       "        vertical-align: middle;\n",
       "    }\n",
       "\n",
       "    .dataframe tbody tr th {\n",
       "        vertical-align: top;\n",
       "    }\n",
       "\n",
       "    .dataframe thead th {\n",
       "        text-align: right;\n",
       "    }\n",
       "</style>\n",
       "<table border=\"1\" class=\"dataframe\">\n",
       "  <thead>\n",
       "    <tr style=\"text-align: right;\">\n",
       "      <th></th>\n",
       "      <th>Number of Credit Problems</th>\n",
       "      <th>Bankruptcies</th>\n",
       "    </tr>\n",
       "  </thead>\n",
       "  <tbody>\n",
       "    <tr>\n",
       "      <th>0</th>\n",
       "      <td>1.0</td>\n",
       "      <td>1.0</td>\n",
       "    </tr>\n",
       "    <tr>\n",
       "      <th>1</th>\n",
       "      <td>0.0</td>\n",
       "      <td>0.0</td>\n",
       "    </tr>\n",
       "    <tr>\n",
       "      <th>2</th>\n",
       "      <td>0.0</td>\n",
       "      <td>0.0</td>\n",
       "    </tr>\n",
       "    <tr>\n",
       "      <th>3</th>\n",
       "      <td>1.0</td>\n",
       "      <td>1.0</td>\n",
       "    </tr>\n",
       "    <tr>\n",
       "      <th>5</th>\n",
       "      <td>0.0</td>\n",
       "      <td>0.0</td>\n",
       "    </tr>\n",
       "    <tr>\n",
       "      <th>...</th>\n",
       "      <td>...</td>\n",
       "      <td>...</td>\n",
       "    </tr>\n",
       "    <tr>\n",
       "      <th>7495</th>\n",
       "      <td>0.0</td>\n",
       "      <td>0.0</td>\n",
       "    </tr>\n",
       "    <tr>\n",
       "      <th>7496</th>\n",
       "      <td>0.0</td>\n",
       "      <td>0.0</td>\n",
       "    </tr>\n",
       "    <tr>\n",
       "      <th>7497</th>\n",
       "      <td>0.0</td>\n",
       "      <td>0.0</td>\n",
       "    </tr>\n",
       "    <tr>\n",
       "      <th>7498</th>\n",
       "      <td>0.0</td>\n",
       "      <td>0.0</td>\n",
       "    </tr>\n",
       "    <tr>\n",
       "      <th>7499</th>\n",
       "      <td>0.0</td>\n",
       "      <td>0.0</td>\n",
       "    </tr>\n",
       "  </tbody>\n",
       "</table>\n",
       "<p>7242 rows × 2 columns</p>\n",
       "</div>"
      ],
      "text/plain": [
       "      Number of Credit Problems  Bankruptcies\n",
       "0                           1.0           1.0\n",
       "1                           0.0           0.0\n",
       "2                           0.0           0.0\n",
       "3                           1.0           1.0\n",
       "5                           0.0           0.0\n",
       "...                         ...           ...\n",
       "7495                        0.0           0.0\n",
       "7496                        0.0           0.0\n",
       "7497                        0.0           0.0\n",
       "7498                        0.0           0.0\n",
       "7499                        0.0           0.0\n",
       "\n",
       "[7242 rows x 2 columns]"
      ]
     },
     "execution_count": 2292,
     "metadata": {},
     "output_type": "execute_result"
    }
   ],
   "source": [
    "df_train.loc[df_train['Number of Credit Problems'] == df_train['Bankruptcies'], ['Number of Credit Problems', 'Bankruptcies']]"
   ]
  },
  {
   "cell_type": "markdown",
   "id": "ab827e04",
   "metadata": {},
   "source": [
    "### *Purpose*"
   ]
  },
  {
   "cell_type": "code",
   "execution_count": 2293,
   "id": "e23579e2",
   "metadata": {},
   "outputs": [
    {
     "data": {
      "text/plain": [
       "debt consolidation      5944\n",
       "other                    665\n",
       "home improvements        412\n",
       "business loan            129\n",
       "buy a car                 96\n",
       "medical bills             71\n",
       "major purchase            40\n",
       "take a trip               37\n",
       "buy house                 34\n",
       "small business            26\n",
       "wedding                   15\n",
       "moving                    11\n",
       "educational expenses      10\n",
       "vacation                   8\n",
       "renewable energy           2\n",
       "Name: Purpose, dtype: int64"
      ]
     },
     "execution_count": 2293,
     "metadata": {},
     "output_type": "execute_result"
    }
   ],
   "source": [
    "df_train['Purpose'].value_counts()"
   ]
  },
  {
   "cell_type": "code",
   "execution_count": 2294,
   "id": "4013168c",
   "metadata": {},
   "outputs": [],
   "source": [
    "df_train.loc[(df_train['Purpose'] != 'debt consolidation') & (df_train['Purpose'] != 'home improvements'), 'Purpose'] = 'other'"
   ]
  },
  {
   "cell_type": "code",
   "execution_count": 2295,
   "id": "52326aea",
   "metadata": {},
   "outputs": [
    {
     "data": {
      "text/plain": [
       "debt consolidation    5944\n",
       "other                 1144\n",
       "home improvements      412\n",
       "Name: Purpose, dtype: int64"
      ]
     },
     "execution_count": 2295,
     "metadata": {},
     "output_type": "execute_result"
    }
   ],
   "source": [
    "df_train['Purpose'].value_counts()"
   ]
  },
  {
   "cell_type": "code",
   "execution_count": 2296,
   "id": "2a0bd0ad",
   "metadata": {},
   "outputs": [],
   "source": [
    "df_train = pd.get_dummies(df_train, columns=['Purpose'])"
   ]
  },
  {
   "cell_type": "code",
   "execution_count": 2297,
   "id": "bd605099",
   "metadata": {},
   "outputs": [
    {
     "data": {
      "text/html": [
       "<div>\n",
       "<style scoped>\n",
       "    .dataframe tbody tr th:only-of-type {\n",
       "        vertical-align: middle;\n",
       "    }\n",
       "\n",
       "    .dataframe tbody tr th {\n",
       "        vertical-align: top;\n",
       "    }\n",
       "\n",
       "    .dataframe thead th {\n",
       "        text-align: right;\n",
       "    }\n",
       "</style>\n",
       "<table border=\"1\" class=\"dataframe\">\n",
       "  <thead>\n",
       "    <tr style=\"text-align: right;\">\n",
       "      <th></th>\n",
       "      <th>Annual Income</th>\n",
       "      <th>Years in current job</th>\n",
       "      <th>Tax Liens</th>\n",
       "      <th>Number of Open Accounts</th>\n",
       "      <th>Years of Credit History</th>\n",
       "      <th>Maximum Open Credit</th>\n",
       "      <th>Number of Credit Problems</th>\n",
       "      <th>Months since last delinquent</th>\n",
       "      <th>Bankruptcies</th>\n",
       "      <th>Current Loan Amount</th>\n",
       "      <th>...</th>\n",
       "      <th>Home Ownership_Rent</th>\n",
       "      <th>Term_Long Term</th>\n",
       "      <th>Term_Short Term</th>\n",
       "      <th>Years in current job NaN</th>\n",
       "      <th>Annual Income NaN</th>\n",
       "      <th>Months since last delinquent NaN</th>\n",
       "      <th>Bankruptcies NaN</th>\n",
       "      <th>Purpose_debt consolidation</th>\n",
       "      <th>Purpose_home improvements</th>\n",
       "      <th>Purpose_other</th>\n",
       "    </tr>\n",
       "  </thead>\n",
       "  <tbody>\n",
       "    <tr>\n",
       "      <th>6529</th>\n",
       "      <td>3888920.0</td>\n",
       "      <td>5</td>\n",
       "      <td>0.0</td>\n",
       "      <td>15.0</td>\n",
       "      <td>35.799999</td>\n",
       "      <td>705254.0</td>\n",
       "      <td>0.0</td>\n",
       "      <td>32.0</td>\n",
       "      <td>0.0</td>\n",
       "      <td>461560.0</td>\n",
       "      <td>...</td>\n",
       "      <td>0</td>\n",
       "      <td>0</td>\n",
       "      <td>1</td>\n",
       "      <td>0</td>\n",
       "      <td>0</td>\n",
       "      <td>1</td>\n",
       "      <td>0</td>\n",
       "      <td>0</td>\n",
       "      <td>0</td>\n",
       "      <td>1</td>\n",
       "    </tr>\n",
       "    <tr>\n",
       "      <th>453</th>\n",
       "      <td>616892.0</td>\n",
       "      <td>10</td>\n",
       "      <td>0.0</td>\n",
       "      <td>6.0</td>\n",
       "      <td>19.900000</td>\n",
       "      <td>415250.0</td>\n",
       "      <td>0.0</td>\n",
       "      <td>47.0</td>\n",
       "      <td>0.0</td>\n",
       "      <td>273042.0</td>\n",
       "      <td>...</td>\n",
       "      <td>1</td>\n",
       "      <td>0</td>\n",
       "      <td>1</td>\n",
       "      <td>0</td>\n",
       "      <td>0</td>\n",
       "      <td>0</td>\n",
       "      <td>0</td>\n",
       "      <td>1</td>\n",
       "      <td>0</td>\n",
       "      <td>0</td>\n",
       "    </tr>\n",
       "  </tbody>\n",
       "</table>\n",
       "<p>2 rows × 26 columns</p>\n",
       "</div>"
      ],
      "text/plain": [
       "      Annual Income  Years in current job  Tax Liens  Number of Open Accounts  \\\n",
       "6529      3888920.0                     5        0.0                     15.0   \n",
       "453        616892.0                    10        0.0                      6.0   \n",
       "\n",
       "      Years of Credit History  Maximum Open Credit  Number of Credit Problems  \\\n",
       "6529                35.799999             705254.0                        0.0   \n",
       "453                 19.900000             415250.0                        0.0   \n",
       "\n",
       "      Months since last delinquent  Bankruptcies  Current Loan Amount  ...  \\\n",
       "6529                          32.0           0.0             461560.0  ...   \n",
       "453                           47.0           0.0             273042.0  ...   \n",
       "\n",
       "      Home Ownership_Rent  Term_Long Term  Term_Short Term  \\\n",
       "6529                    0               0                1   \n",
       "453                     1               0                1   \n",
       "\n",
       "      Years in current job NaN  Annual Income NaN  \\\n",
       "6529                         0                  0   \n",
       "453                          0                  0   \n",
       "\n",
       "      Months since last delinquent NaN  Bankruptcies NaN  \\\n",
       "6529                                 1                 0   \n",
       "453                                  0                 0   \n",
       "\n",
       "      Purpose_debt consolidation  Purpose_home improvements  Purpose_other  \n",
       "6529                           0                          0              1  \n",
       "453                            1                          0              0  \n",
       "\n",
       "[2 rows x 26 columns]"
      ]
     },
     "execution_count": 2297,
     "metadata": {},
     "output_type": "execute_result"
    }
   ],
   "source": [
    "df_train.sample(2)"
   ]
  },
  {
   "cell_type": "markdown",
   "id": "698ba0f6",
   "metadata": {},
   "source": [
    "### *Current Loan Amount*"
   ]
  },
  {
   "cell_type": "code",
   "execution_count": 2298,
   "id": "2ae7c26b",
   "metadata": {},
   "outputs": [
    {
     "data": {
      "image/png": "[encoded data removed]",
      "text/plain": [
       "<Figure size 432x288 with 1 Axes>"
      ]
     },
     "metadata": {
      "needs_background": "light"
     },
     "output_type": "display_data"
    }
   ],
   "source": [
    "sns.boxplot(data=df_train, x='Current Loan Amount')\n",
    "plt.show()"
   ]
  },
  {
   "cell_type": "code",
   "execution_count": 2299,
   "id": "bfecf6e6",
   "metadata": {},
   "outputs": [
    {
     "data": {
      "text/plain": [
       "Annual Income                       0.049354\n",
       "Years in current job               -0.002339\n",
       "Tax Liens                          -0.007835\n",
       "Number of Open Accounts             0.001346\n",
       "Years of Credit History             0.011493\n",
       "Maximum Open Credit                 0.035824\n",
       "Number of Credit Problems          -0.008596\n",
       "Months since last delinquent       -0.001656\n",
       "Bankruptcies                       -0.006169\n",
       "Current Loan Amount                 1.000000\n",
       "Current Credit Balance              0.016672\n",
       "Monthly Debt                       -0.009382\n",
       "Credit Score                       -0.108552\n",
       "Credit Default                     -0.226522\n",
       "Home Ownership_Home Mortgage        0.014146\n",
       "Home Ownership_Own Home             0.004196\n",
       "Home Ownership_Rent                -0.016674\n",
       "Term_Long Term                     -0.075222\n",
       "Term_Short Term                     0.075222\n",
       "Years in current job NaN           -0.185545\n",
       "Annual Income NaN                  -0.185545\n",
       "Months since last delinquent NaN    0.021441\n",
       "Bankruptcies NaN                    0.013160\n",
       "Purpose_debt consolidation         -0.002849\n",
       "Purpose_home improvements           0.026016\n",
       "Purpose_other                      -0.013274\n",
       "Name: Current Loan Amount, dtype: float64"
      ]
     },
     "execution_count": 2299,
     "metadata": {},
     "output_type": "execute_result"
    }
   ],
   "source": [
    "df_train.corr()['Current Loan Amount']"
   ]
  },
  {
   "cell_type": "code",
   "execution_count": 2300,
   "id": "18e84399",
   "metadata": {
    "scrolled": true
   },
   "outputs": [
    {
     "data": {
      "text/plain": [
       "788262.332"
      ]
     },
     "execution_count": 2300,
     "metadata": {},
     "output_type": "execute_result"
    }
   ],
   "source": [
    "df_train['Current Loan Amount'].quantile(0.883)"
   ]
  },
  {
   "cell_type": "code",
   "execution_count": 2301,
   "id": "4607f98b",
   "metadata": {
    "scrolled": true
   },
   "outputs": [],
   "source": [
    "condition = df_train['Current Loan Amount'] >= 10**7"
   ]
  },
  {
   "cell_type": "code",
   "execution_count": 2302,
   "id": "59202ce0",
   "metadata": {},
   "outputs": [],
   "source": [
    "df_train['Current Loan Amount Outlier'] = 0\n",
    "df_train.loc[condition, 'Current Loan Amount Outlier'] = 1\n",
    "df_train.loc[condition, 'Current Loan Amount'] = df_train['Current Loan Amount'].median()"
   ]
  },
  {
   "cell_type": "code",
   "execution_count": 2303,
   "id": "90b4fed6",
   "metadata": {},
   "outputs": [
    {
     "data": {
      "image/png": "[encoded data removed]",
      "text/plain": [
       "<Figure size 432x288 with 1 Axes>"
      ]
     },
     "metadata": {
      "needs_background": "light"
     },
     "output_type": "display_data"
    }
   ],
   "source": [
    "sns.boxplot(data=df_train, x='Current Loan Amount')\n",
    "plt.show()"
   ]
  },
  {
   "cell_type": "markdown",
   "id": "9788f907",
   "metadata": {},
   "source": [
    "### Credit Score (пропуски и выбросы)"
   ]
  },
  {
   "cell_type": "code",
   "execution_count": 2304,
   "id": "bc389789",
   "metadata": {},
   "outputs": [
    {
     "data": {
      "text/plain": [
       "count    5943.000000\n",
       "mean     1151.087524\n",
       "std      1604.451416\n",
       "min       585.000000\n",
       "25%       711.000000\n",
       "50%       731.000000\n",
       "75%       743.000000\n",
       "max      7510.000000\n",
       "Name: Credit Score, dtype: float64"
      ]
     },
     "execution_count": 2304,
     "metadata": {},
     "output_type": "execute_result"
    }
   ],
   "source": [
    "df_train['Credit Score'].describe()"
   ]
  },
  {
   "cell_type": "code",
   "execution_count": 2305,
   "id": "197e5255",
   "metadata": {},
   "outputs": [
    {
     "data": {
      "image/png": "[encoded data removed]",
      "text/plain": [
       "<Figure size 432x288 with 1 Axes>"
      ]
     },
     "metadata": {
      "needs_background": "light"
     },
     "output_type": "display_data"
    }
   ],
   "source": [
    "df_train['Credit Score'].hist(bins=30)\n",
    "\n",
    "plt.show()"
   ]
  },
  {
   "cell_type": "code",
   "execution_count": 2306,
   "id": "1fe466fc",
   "metadata": {},
   "outputs": [
    {
     "data": {
      "text/plain": [
       "749.0"
      ]
     },
     "execution_count": 2306,
     "metadata": {},
     "output_type": "execute_result"
    }
   ],
   "source": [
    "df_train['Credit Score'].quantile(0.9)"
   ]
  },
  {
   "cell_type": "code",
   "execution_count": 2307,
   "id": "49e32448",
   "metadata": {},
   "outputs": [
    {
     "data": {
      "text/plain": [
       "1    400\n",
       "Name: Credit Default, dtype: int64"
      ]
     },
     "execution_count": 2307,
     "metadata": {},
     "output_type": "execute_result"
    }
   ],
   "source": [
    "df_train.loc[(df_train['Credit Score'] > 751), 'Credit Default'].value_counts()"
   ]
  },
  {
   "cell_type": "code",
   "execution_count": 2308,
   "id": "7f9568d8",
   "metadata": {},
   "outputs": [
    {
     "data": {
      "image/png": "[encoded data removed]",
      "text/plain": [
       "<Figure size 432x288 with 1 Axes>"
      ]
     },
     "metadata": {
      "needs_background": "light"
     },
     "output_type": "display_data"
    }
   ],
   "source": [
    "df_train.loc[df_train['Credit Score'] < 751.0, 'Credit Score'].hist(bins=30)\n",
    "plt.show()"
   ]
  },
  {
   "cell_type": "code",
   "execution_count": 2309,
   "id": "67fc56e3",
   "metadata": {},
   "outputs": [
    {
     "data": {
      "text/plain": [
       "585.0"
      ]
     },
     "execution_count": 2309,
     "metadata": {},
     "output_type": "execute_result"
    }
   ],
   "source": [
    "df_train['Credit Score'].min()"
   ]
  },
  {
   "cell_type": "code",
   "execution_count": 2310,
   "id": "1158ef3d",
   "metadata": {},
   "outputs": [],
   "source": [
    "# df_train.drop(df_train.loc[df_train['Credit Score'] > 751, 'Credit Score'].index, inplace=True)"
   ]
  },
  {
   "cell_type": "code",
   "execution_count": 2311,
   "id": "59e6ae25",
   "metadata": {},
   "outputs": [],
   "source": [
    "df_train.loc[df_train['Credit Score'] > 751, 'Credit Score'] = df_train['Credit Score'].median() "
   ]
  },
  {
   "cell_type": "code",
   "execution_count": 2312,
   "id": "6feeb205",
   "metadata": {},
   "outputs": [
    {
     "data": {
      "image/png": "[encoded data removed]",
      "text/plain": [
       "<Figure size 432x432 with 3 Axes>"
      ]
     },
     "metadata": {
      "needs_background": "light"
     },
     "output_type": "display_data"
    }
   ],
   "source": [
    "grid = sns.jointplot(x=df_train['Credit Score'], y=df_train['Credit Default'], kind='reg')\n",
    "\n",
    "plt.show()"
   ]
  },
  {
   "cell_type": "code",
   "execution_count": 2313,
   "id": "822531e3",
   "metadata": {},
   "outputs": [
    {
     "data": {
      "text/plain": [
       "Annual Income                       0.027031\n",
       "Years in current job               -0.026413\n",
       "Tax Liens                          -0.016362\n",
       "Number of Open Accounts            -0.032338\n",
       "Years of Credit History             0.058079\n",
       "Maximum Open Credit                 0.116072\n",
       "Number of Credit Problems          -0.059250\n",
       "Months since last delinquent       -0.018784\n",
       "Bankruptcies                       -0.046573\n",
       "Current Loan Amount                -0.184549\n",
       "Current Credit Balance             -0.003936\n",
       "Monthly Debt                       -0.065462\n",
       "Credit Score                        1.000000\n",
       "Credit Default                     -0.134751\n",
       "Home Ownership_Home Mortgage        0.043761\n",
       "Home Ownership_Own Home            -0.035012\n",
       "Home Ownership_Rent                -0.024362\n",
       "Term_Long Term                     -0.442418\n",
       "Term_Short Term                     0.442418\n",
       "Years in current job NaN                 NaN\n",
       "Annual Income NaN                        NaN\n",
       "Months since last delinquent NaN    0.100852\n",
       "Bankruptcies NaN                    0.014422\n",
       "Purpose_debt consolidation          0.072922\n",
       "Purpose_home improvements           0.019875\n",
       "Purpose_other                      -0.094558\n",
       "Current Loan Amount Outlier         0.136256\n",
       "Name: Credit Score, dtype: float64"
      ]
     },
     "execution_count": 2313,
     "metadata": {},
     "output_type": "execute_result"
    }
   ],
   "source": [
    "df_train.corr()['Credit Score']"
   ]
  },
  {
   "cell_type": "code",
   "execution_count": 2314,
   "id": "0ca3b827",
   "metadata": {
    "scrolled": true
   },
   "outputs": [
    {
     "data": {
      "text/html": [
       "<div>\n",
       "<style scoped>\n",
       "    .dataframe tbody tr th:only-of-type {\n",
       "        vertical-align: middle;\n",
       "    }\n",
       "\n",
       "    .dataframe tbody tr th {\n",
       "        vertical-align: top;\n",
       "    }\n",
       "\n",
       "    .dataframe thead th {\n",
       "        text-align: right;\n",
       "    }\n",
       "</style>\n",
       "<table border=\"1\" class=\"dataframe\">\n",
       "  <thead>\n",
       "    <tr style=\"text-align: right;\">\n",
       "      <th></th>\n",
       "      <th></th>\n",
       "      <th>Annual Income</th>\n",
       "      <th>Years in current job</th>\n",
       "      <th>Tax Liens</th>\n",
       "      <th>Number of Open Accounts</th>\n",
       "      <th>Years of Credit History</th>\n",
       "      <th>Maximum Open Credit</th>\n",
       "      <th>Number of Credit Problems</th>\n",
       "      <th>Months since last delinquent</th>\n",
       "      <th>Bankruptcies</th>\n",
       "      <th>Current Loan Amount</th>\n",
       "      <th>...</th>\n",
       "      <th>Home Ownership_Rent</th>\n",
       "      <th>Term_Short Term</th>\n",
       "      <th>Years in current job NaN</th>\n",
       "      <th>Annual Income NaN</th>\n",
       "      <th>Months since last delinquent NaN</th>\n",
       "      <th>Bankruptcies NaN</th>\n",
       "      <th>Purpose_debt consolidation</th>\n",
       "      <th>Purpose_home improvements</th>\n",
       "      <th>Purpose_other</th>\n",
       "      <th>Current Loan Amount Outlier</th>\n",
       "    </tr>\n",
       "    <tr>\n",
       "      <th>Credit Default</th>\n",
       "      <th>Term_Long Term</th>\n",
       "      <th></th>\n",
       "      <th></th>\n",
       "      <th></th>\n",
       "      <th></th>\n",
       "      <th></th>\n",
       "      <th></th>\n",
       "      <th></th>\n",
       "      <th></th>\n",
       "      <th></th>\n",
       "      <th></th>\n",
       "      <th></th>\n",
       "      <th></th>\n",
       "      <th></th>\n",
       "      <th></th>\n",
       "      <th></th>\n",
       "      <th></th>\n",
       "      <th></th>\n",
       "      <th></th>\n",
       "      <th></th>\n",
       "      <th></th>\n",
       "      <th></th>\n",
       "    </tr>\n",
       "  </thead>\n",
       "  <tbody>\n",
       "    <tr>\n",
       "      <th rowspan=\"2\" valign=\"top\">0</th>\n",
       "      <th>0</th>\n",
       "      <td>1403055.0</td>\n",
       "      <td>5</td>\n",
       "      <td>0.0</td>\n",
       "      <td>17.0</td>\n",
       "      <td>15.7</td>\n",
       "      <td>1.726978e+04</td>\n",
       "      <td>1.0</td>\n",
       "      <td>32.0</td>\n",
       "      <td>1.0</td>\n",
       "      <td>129734.0</td>\n",
       "      <td>...</td>\n",
       "      <td>0</td>\n",
       "      <td>1</td>\n",
       "      <td>1</td>\n",
       "      <td>1</td>\n",
       "      <td>1</td>\n",
       "      <td>0</td>\n",
       "      <td>0</td>\n",
       "      <td>1</td>\n",
       "      <td>0</td>\n",
       "      <td>0</td>\n",
       "    </tr>\n",
       "    <tr>\n",
       "      <th>1</th>\n",
       "      <td>1125180.0</td>\n",
       "      <td>10</td>\n",
       "      <td>0.0</td>\n",
       "      <td>10.0</td>\n",
       "      <td>21.4</td>\n",
       "      <td>1.104554e+06</td>\n",
       "      <td>1.0</td>\n",
       "      <td>32.0</td>\n",
       "      <td>1.0</td>\n",
       "      <td>774092.0</td>\n",
       "      <td>...</td>\n",
       "      <td>0</td>\n",
       "      <td>0</td>\n",
       "      <td>1</td>\n",
       "      <td>1</td>\n",
       "      <td>1</td>\n",
       "      <td>0</td>\n",
       "      <td>1</td>\n",
       "      <td>0</td>\n",
       "      <td>0</td>\n",
       "      <td>0</td>\n",
       "    </tr>\n",
       "    <tr>\n",
       "      <th rowspan=\"2\" valign=\"top\">1</th>\n",
       "      <th>0</th>\n",
       "      <td>1403055.0</td>\n",
       "      <td>10</td>\n",
       "      <td>0.0</td>\n",
       "      <td>17.0</td>\n",
       "      <td>14.8</td>\n",
       "      <td>7.000400e+05</td>\n",
       "      <td>0.0</td>\n",
       "      <td>17.0</td>\n",
       "      <td>0.0</td>\n",
       "      <td>174878.0</td>\n",
       "      <td>...</td>\n",
       "      <td>0</td>\n",
       "      <td>1</td>\n",
       "      <td>1</td>\n",
       "      <td>1</td>\n",
       "      <td>0</td>\n",
       "      <td>0</td>\n",
       "      <td>1</td>\n",
       "      <td>0</td>\n",
       "      <td>0</td>\n",
       "      <td>0</td>\n",
       "    </tr>\n",
       "    <tr>\n",
       "      <th>1</th>\n",
       "      <td>1219933.0</td>\n",
       "      <td>7</td>\n",
       "      <td>0.0</td>\n",
       "      <td>12.0</td>\n",
       "      <td>14.6</td>\n",
       "      <td>3.667840e+05</td>\n",
       "      <td>0.0</td>\n",
       "      <td>32.0</td>\n",
       "      <td>0.0</td>\n",
       "      <td>337304.0</td>\n",
       "      <td>...</td>\n",
       "      <td>1</td>\n",
       "      <td>0</td>\n",
       "      <td>1</td>\n",
       "      <td>1</td>\n",
       "      <td>1</td>\n",
       "      <td>0</td>\n",
       "      <td>0</td>\n",
       "      <td>0</td>\n",
       "      <td>1</td>\n",
       "      <td>0</td>\n",
       "    </tr>\n",
       "  </tbody>\n",
       "</table>\n",
       "<p>4 rows × 25 columns</p>\n",
       "</div>"
      ],
      "text/plain": [
       "                               Annual Income  Years in current job  Tax Liens  \\\n",
       "Credit Default Term_Long Term                                                   \n",
       "0              0                   1403055.0                     5        0.0   \n",
       "               1                   1125180.0                    10        0.0   \n",
       "1              0                   1403055.0                    10        0.0   \n",
       "               1                   1219933.0                     7        0.0   \n",
       "\n",
       "                               Number of Open Accounts  \\\n",
       "Credit Default Term_Long Term                            \n",
       "0              0                                  17.0   \n",
       "               1                                  10.0   \n",
       "1              0                                  17.0   \n",
       "               1                                  12.0   \n",
       "\n",
       "                               Years of Credit History  Maximum Open Credit  \\\n",
       "Credit Default Term_Long Term                                                 \n",
       "0              0                                  15.7         1.726978e+04   \n",
       "               1                                  21.4         1.104554e+06   \n",
       "1              0                                  14.8         7.000400e+05   \n",
       "               1                                  14.6         3.667840e+05   \n",
       "\n",
       "                               Number of Credit Problems  \\\n",
       "Credit Default Term_Long Term                              \n",
       "0              0                                     1.0   \n",
       "               1                                     1.0   \n",
       "1              0                                     0.0   \n",
       "               1                                     0.0   \n",
       "\n",
       "                               Months since last delinquent  Bankruptcies  \\\n",
       "Credit Default Term_Long Term                                               \n",
       "0              0                                       32.0           1.0   \n",
       "               1                                       32.0           1.0   \n",
       "1              0                                       17.0           0.0   \n",
       "               1                                       32.0           0.0   \n",
       "\n",
       "                               Current Loan Amount  ...  Home Ownership_Rent  \\\n",
       "Credit Default Term_Long Term                       ...                        \n",
       "0              0                          129734.0  ...                    0   \n",
       "               1                          774092.0  ...                    0   \n",
       "1              0                          174878.0  ...                    0   \n",
       "               1                          337304.0  ...                    1   \n",
       "\n",
       "                               Term_Short Term  Years in current job NaN  \\\n",
       "Credit Default Term_Long Term                                              \n",
       "0              0                             1                         1   \n",
       "               1                             0                         1   \n",
       "1              0                             1                         1   \n",
       "               1                             0                         1   \n",
       "\n",
       "                               Annual Income NaN  \\\n",
       "Credit Default Term_Long Term                      \n",
       "0              0                               1   \n",
       "               1                               1   \n",
       "1              0                               1   \n",
       "               1                               1   \n",
       "\n",
       "                               Months since last delinquent NaN  \\\n",
       "Credit Default Term_Long Term                                     \n",
       "0              0                                              1   \n",
       "               1                                              1   \n",
       "1              0                                              0   \n",
       "               1                                              1   \n",
       "\n",
       "                               Bankruptcies NaN  Purpose_debt consolidation  \\\n",
       "Credit Default Term_Long Term                                                 \n",
       "0              0                              0                           0   \n",
       "               1                              0                           1   \n",
       "1              0                              0                           1   \n",
       "               1                              0                           0   \n",
       "\n",
       "                               Purpose_home improvements  Purpose_other  \\\n",
       "Credit Default Term_Long Term                                             \n",
       "0              0                                       1              0   \n",
       "               1                                       0              0   \n",
       "1              0                                       0              0   \n",
       "               1                                       0              1   \n",
       "\n",
       "                               Current Loan Amount Outlier  \n",
       "Credit Default Term_Long Term                               \n",
       "0              0                                         0  \n",
       "               1                                         0  \n",
       "1              0                                         0  \n",
       "               1                                         0  \n",
       "\n",
       "[4 rows x 25 columns]"
      ]
     },
     "execution_count": 2314,
     "metadata": {},
     "output_type": "execute_result"
    }
   ],
   "source": [
    "df_train.loc[df_train['Credit Score'].isna()].groupby(['Credit Default', 'Term_Long Term']).first()"
   ]
  },
  {
   "cell_type": "code",
   "execution_count": 2315,
   "id": "ca839349",
   "metadata": {},
   "outputs": [],
   "source": [
    "df_train['Credit Score NaN'] = 0\n",
    "df_train.loc[df_train['Credit Score'].isna(), 'Credit Score NaN'] = 1\n",
    "df_train['Credit Score'].fillna(df_train['Credit Score'].median(), inplace=True)"
   ]
  },
  {
   "cell_type": "code",
   "execution_count": 2316,
   "id": "163c22f4",
   "metadata": {},
   "outputs": [],
   "source": [
    "from sklearn.model_selection import train_test_split, KFold, GridSearchCV, cross_val_score\n",
    "\n",
    "# 3. Модели\n",
    "from sklearn.linear_model import LogisticRegression\n",
    "from sklearn.tree import DecisionTreeRegressor, plot_tree, DecisionTreeClassifier\n",
    "from sklearn.ensemble import RandomForestRegressor, GradientBoostingRegressor, GradientBoostingClassifier\n",
    "from sklearn.preprocessing import StandardScaler\n",
    "from sklearn.neighbors import KNeighborsClassifier\n",
    "\n",
    "# 4. Метрики качества\n",
    "from sklearn.metrics import f1_score as f1"
   ]
  },
  {
   "cell_type": "code",
   "execution_count": 2317,
   "id": "d972f938",
   "metadata": {},
   "outputs": [],
   "source": [
    "X = df_train.drop(columns='Credit Default')"
   ]
  },
  {
   "cell_type": "code",
   "execution_count": 2318,
   "id": "d46ac5eb",
   "metadata": {},
   "outputs": [],
   "source": [
    "y = df_train['Credit Default']"
   ]
  },
  {
   "cell_type": "code",
   "execution_count": 2319,
   "id": "97adfd50",
   "metadata": {},
   "outputs": [],
   "source": [
    "X_train, X_test, y_train, y_test = train_test_split(X, y, test_size=0.33, shuffle=True, random_state=100)"
   ]
  },
  {
   "cell_type": "markdown",
   "id": "8979281f",
   "metadata": {},
   "source": [
    "### Gradient Boosting Classifier"
   ]
  },
  {
   "cell_type": "code",
   "execution_count": 2320,
   "id": "37aeb62e",
   "metadata": {},
   "outputs": [
    {
     "data": {
      "text/plain": [
       "0.4272030651340996"
      ]
     },
     "execution_count": 2320,
     "metadata": {},
     "output_type": "execute_result"
    }
   ],
   "source": [
    "clf = GradientBoostingClassifier(n_estimators=150,\n",
    "                                 max_depth=4,\n",
    "                                 min_samples_split=40,\n",
    "                                 min_samples_leaf=1,\n",
    "                                 random_state=42)\n",
    "\n",
    "clf.fit(X_train, y_train)\n",
    "\n",
    "y_pred = clf.predict(X_test)\n",
    "\n",
    "f1(y_test, y_pred)"
   ]
  },
  {
   "cell_type": "code",
   "execution_count": 2321,
   "id": "2358c386",
   "metadata": {},
   "outputs": [
    {
     "data": {
      "text/plain": [
       "0.6084905660377358"
      ]
     },
     "execution_count": 2321,
     "metadata": {},
     "output_type": "execute_result"
    }
   ],
   "source": [
    "y_pred = clf.predict(X_train)\n",
    "f1(y_train, y_pred)"
   ]
  },
  {
   "cell_type": "markdown",
   "id": "1f7e0447",
   "metadata": {},
   "source": [
    "### Decision Tree Classifier"
   ]
  },
  {
   "cell_type": "code",
   "execution_count": 2322,
   "id": "c20798f3",
   "metadata": {},
   "outputs": [
    {
     "name": "stdout",
     "output_type": "stream",
     "text": [
      "K = 4\n",
      "\tf1_test = 0.30944254835039814\n",
      "\tf1_train = 0.3276967930029155\n",
      "\n",
      "K = 8\n",
      "\tf1_test = 0.43362831858407075\n",
      "\tf1_train = 0.5844789356984479\n",
      "\n",
      "K = 12\n",
      "\tf1_test = 0.437201907790143\n",
      "\tf1_train = 0.7855973813420623\n",
      "\n",
      "K = 16\n",
      "\tf1_test = 0.4298245614035088\n",
      "\tf1_train = 0.919042189281642\n",
      "\n"
     ]
    }
   ],
   "source": [
    "max_depth_values = np.arange(2, 20)\n",
    "\n",
    "accuracy_on_test = []\n",
    "accuracy_on_train = []\n",
    "\n",
    "for i, value in enumerate(max_depth_values):\n",
    "    clf = DecisionTreeClassifier(max_depth=value,\n",
    "#                                  min_samples_split=10,\n",
    "#                                  min_samples_leaf=15,\n",
    "#                                  max_leaf_nodes=100,\n",
    "                                 random_state=42)\n",
    "    \n",
    "    clf.fit(X_train, y_train)\n",
    "    \n",
    "    y_pred = clf.predict(X_test)\n",
    "    y_pred_train = clf.predict(X_train)\n",
    "        \n",
    "    acc_test = f1(y_test, y_pred)\n",
    "    acc_train = f1(y_train, y_pred_train)\n",
    "    \n",
    "    if i % 4 == 2:\n",
    "        print('K = {}'.format(value))\n",
    "        print('\\tf1_test = {}'.format(acc_test))\n",
    "        print('\\tf1_train = {}\\n'.format(acc_train))\n",
    "    \n",
    "    accuracy_on_test.append(acc_test)\n",
    "    accuracy_on_train.append(acc_train)"
   ]
  },
  {
   "cell_type": "code",
   "execution_count": 2323,
   "id": "f2fd94d1",
   "metadata": {},
   "outputs": [
    {
     "data": {
      "image/png": "[encoded data removed]",
      "text/plain": [
       "<Figure size 432x288 with 1 Axes>"
      ]
     },
     "metadata": {
      "needs_background": "light"
     },
     "output_type": "display_data"
    }
   ],
   "source": [
    "plt.rcParams['figure.figsize'] = 6, 4\n",
    "\n",
    "plt.plot(max_depth_values, accuracy_on_test, label=\"test\")\n",
    "plt.plot(max_depth_values, accuracy_on_train, label=\"train\")\n",
    "\n",
    "plt.xlabel('Значение параметра max_depth')\n",
    "plt.ylabel('Accuracy')\n",
    "\n",
    "plt.legend()\n",
    "plt.grid()\n",
    "\n",
    "plt.show()"
   ]
  },
  {
   "cell_type": "code",
   "execution_count": 2324,
   "id": "20e0a877",
   "metadata": {},
   "outputs": [
    {
     "data": {
      "text/plain": [
       "0.4618086040386304"
      ]
     },
     "execution_count": 2324,
     "metadata": {},
     "output_type": "execute_result"
    }
   ],
   "source": [
    "clf = DecisionTreeClassifier(max_depth=8,\n",
    "                             min_samples_split=5,\n",
    "                             min_samples_leaf=15,\n",
    "                             max_leaf_nodes=100,\n",
    "                             random_state=42)\n",
    "\n",
    "clf.fit(X_train, y_train)\n",
    "\n",
    "y_pred = clf.predict(X_test)\n",
    "\n",
    "f1(y_test, y_pred)"
   ]
  },
  {
   "cell_type": "code",
   "execution_count": 2325,
   "id": "3e06a559",
   "metadata": {},
   "outputs": [],
   "source": [
    "feature_importances = pd.DataFrame(zip(X_train.columns, \n",
    "                                       clf.feature_importances_), \n",
    "                                   columns=['feature_name', 'importance'])\n",
    "\n",
    "feature_importances.sort_values(by='importance', ascending=False, inplace=True)"
   ]
  },
  {
   "cell_type": "code",
   "execution_count": 2326,
   "id": "8af3b81f",
   "metadata": {},
   "outputs": [
    {
     "data": {
      "text/html": [
       "<div>\n",
       "<style scoped>\n",
       "    .dataframe tbody tr th:only-of-type {\n",
       "        vertical-align: middle;\n",
       "    }\n",
       "\n",
       "    .dataframe tbody tr th {\n",
       "        vertical-align: top;\n",
       "    }\n",
       "\n",
       "    .dataframe thead th {\n",
       "        text-align: right;\n",
       "    }\n",
       "</style>\n",
       "<table border=\"1\" class=\"dataframe\">\n",
       "  <thead>\n",
       "    <tr style=\"text-align: right;\">\n",
       "      <th></th>\n",
       "      <th>feature_name</th>\n",
       "      <th>importance</th>\n",
       "    </tr>\n",
       "  </thead>\n",
       "  <tbody>\n",
       "    <tr>\n",
       "      <th>26</th>\n",
       "      <td>Credit Score NaN</td>\n",
       "      <td>0.233237</td>\n",
       "    </tr>\n",
       "    <tr>\n",
       "      <th>12</th>\n",
       "      <td>Credit Score</td>\n",
       "      <td>0.204903</td>\n",
       "    </tr>\n",
       "    <tr>\n",
       "      <th>25</th>\n",
       "      <td>Current Loan Amount Outlier</td>\n",
       "      <td>0.164183</td>\n",
       "    </tr>\n",
       "    <tr>\n",
       "      <th>0</th>\n",
       "      <td>Annual Income</td>\n",
       "      <td>0.073187</td>\n",
       "    </tr>\n",
       "    <tr>\n",
       "      <th>16</th>\n",
       "      <td>Term_Long Term</td>\n",
       "      <td>0.072930</td>\n",
       "    </tr>\n",
       "    <tr>\n",
       "      <th>9</th>\n",
       "      <td>Current Loan Amount</td>\n",
       "      <td>0.057750</td>\n",
       "    </tr>\n",
       "    <tr>\n",
       "      <th>5</th>\n",
       "      <td>Maximum Open Credit</td>\n",
       "      <td>0.044769</td>\n",
       "    </tr>\n",
       "    <tr>\n",
       "      <th>11</th>\n",
       "      <td>Monthly Debt</td>\n",
       "      <td>0.037290</td>\n",
       "    </tr>\n",
       "    <tr>\n",
       "      <th>3</th>\n",
       "      <td>Number of Open Accounts</td>\n",
       "      <td>0.022787</td>\n",
       "    </tr>\n",
       "    <tr>\n",
       "      <th>4</th>\n",
       "      <td>Years of Credit History</td>\n",
       "      <td>0.020962</td>\n",
       "    </tr>\n",
       "    <tr>\n",
       "      <th>7</th>\n",
       "      <td>Months since last delinquent</td>\n",
       "      <td>0.020564</td>\n",
       "    </tr>\n",
       "    <tr>\n",
       "      <th>10</th>\n",
       "      <td>Current Credit Balance</td>\n",
       "      <td>0.019595</td>\n",
       "    </tr>\n",
       "    <tr>\n",
       "      <th>1</th>\n",
       "      <td>Years in current job</td>\n",
       "      <td>0.012765</td>\n",
       "    </tr>\n",
       "    <tr>\n",
       "      <th>13</th>\n",
       "      <td>Home Ownership_Home Mortgage</td>\n",
       "      <td>0.010102</td>\n",
       "    </tr>\n",
       "    <tr>\n",
       "      <th>14</th>\n",
       "      <td>Home Ownership_Own Home</td>\n",
       "      <td>0.004976</td>\n",
       "    </tr>\n",
       "    <tr>\n",
       "      <th>8</th>\n",
       "      <td>Bankruptcies</td>\n",
       "      <td>0.000000</td>\n",
       "    </tr>\n",
       "    <tr>\n",
       "      <th>6</th>\n",
       "      <td>Number of Credit Problems</td>\n",
       "      <td>0.000000</td>\n",
       "    </tr>\n",
       "    <tr>\n",
       "      <th>17</th>\n",
       "      <td>Term_Short Term</td>\n",
       "      <td>0.000000</td>\n",
       "    </tr>\n",
       "    <tr>\n",
       "      <th>18</th>\n",
       "      <td>Years in current job NaN</td>\n",
       "      <td>0.000000</td>\n",
       "    </tr>\n",
       "    <tr>\n",
       "      <th>19</th>\n",
       "      <td>Annual Income NaN</td>\n",
       "      <td>0.000000</td>\n",
       "    </tr>\n",
       "    <tr>\n",
       "      <th>20</th>\n",
       "      <td>Months since last delinquent NaN</td>\n",
       "      <td>0.000000</td>\n",
       "    </tr>\n",
       "    <tr>\n",
       "      <th>21</th>\n",
       "      <td>Bankruptcies NaN</td>\n",
       "      <td>0.000000</td>\n",
       "    </tr>\n",
       "    <tr>\n",
       "      <th>22</th>\n",
       "      <td>Purpose_debt consolidation</td>\n",
       "      <td>0.000000</td>\n",
       "    </tr>\n",
       "    <tr>\n",
       "      <th>23</th>\n",
       "      <td>Purpose_home improvements</td>\n",
       "      <td>0.000000</td>\n",
       "    </tr>\n",
       "    <tr>\n",
       "      <th>24</th>\n",
       "      <td>Purpose_other</td>\n",
       "      <td>0.000000</td>\n",
       "    </tr>\n",
       "    <tr>\n",
       "      <th>2</th>\n",
       "      <td>Tax Liens</td>\n",
       "      <td>0.000000</td>\n",
       "    </tr>\n",
       "    <tr>\n",
       "      <th>15</th>\n",
       "      <td>Home Ownership_Rent</td>\n",
       "      <td>0.000000</td>\n",
       "    </tr>\n",
       "  </tbody>\n",
       "</table>\n",
       "</div>"
      ],
      "text/plain": [
       "                        feature_name  importance\n",
       "26                  Credit Score NaN    0.233237\n",
       "12                      Credit Score    0.204903\n",
       "25       Current Loan Amount Outlier    0.164183\n",
       "0                      Annual Income    0.073187\n",
       "16                    Term_Long Term    0.072930\n",
       "9                Current Loan Amount    0.057750\n",
       "5                Maximum Open Credit    0.044769\n",
       "11                      Monthly Debt    0.037290\n",
       "3            Number of Open Accounts    0.022787\n",
       "4            Years of Credit History    0.020962\n",
       "7       Months since last delinquent    0.020564\n",
       "10            Current Credit Balance    0.019595\n",
       "1               Years in current job    0.012765\n",
       "13      Home Ownership_Home Mortgage    0.010102\n",
       "14           Home Ownership_Own Home    0.004976\n",
       "8                       Bankruptcies    0.000000\n",
       "6          Number of Credit Problems    0.000000\n",
       "17                   Term_Short Term    0.000000\n",
       "18          Years in current job NaN    0.000000\n",
       "19                 Annual Income NaN    0.000000\n",
       "20  Months since last delinquent NaN    0.000000\n",
       "21                  Bankruptcies NaN    0.000000\n",
       "22        Purpose_debt consolidation    0.000000\n",
       "23         Purpose_home improvements    0.000000\n",
       "24                     Purpose_other    0.000000\n",
       "2                          Tax Liens    0.000000\n",
       "15               Home Ownership_Rent    0.000000"
      ]
     },
     "execution_count": 2326,
     "metadata": {},
     "output_type": "execute_result"
    }
   ],
   "source": [
    "feature_importances"
   ]
  },
  {
   "cell_type": "code",
   "execution_count": null,
   "id": "fecf5708",
   "metadata": {},
   "outputs": [],
   "source": [
    "y_pred = clf.predict(df_test)"
   ]
  },
  {
   "cell_type": "code",
   "execution_count": null,
   "id": "f4a42ff7",
   "metadata": {},
   "outputs": [],
   "source": [
    "df_test"
   ]
  },
  {
   "cell_type": "code",
   "execution_count": null,
   "id": "c7301097",
   "metadata": {},
   "outputs": [],
   "source": []
  }
 ],
 "metadata": {
  "kernelspec": {
   "display_name": "Python 3 (ipykernel)",
   "language": "python",
   "name": "python3"
  },
  "language_info": {
   "codemirror_mode": {
    "name": "ipython",
    "version": 3
   },
   "file_extension": ".py",
   "mimetype": "text/x-python",
   "name": "python",
   "nbconvert_exporter": "python",
   "pygments_lexer": "ipython3",
   "version": "3.9.2"
  }
 },
 "nbformat": 4,
 "nbformat_minor": 5
}
